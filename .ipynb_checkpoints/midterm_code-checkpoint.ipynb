{
 "cells": [
  {
   "cell_type": "markdown",
   "metadata": {
    "id": "PRv6Qw7_i16E"
   },
   "source": [
    "# 1.1 Load libraries\n",
    "\n",
    "Note: After resolving conflicts, runs the entire notebook to make sure none of the old code is broken."
   ]
  },
  {
   "cell_type": "code",
   "execution_count": 1,
   "metadata": {
    "colab": {
     "base_uri": "https://localhost:8080/"
    },
    "id": "JU9FBLlKJ5Ne",
    "outputId": "6496eceb-7865-4ff1-ab1d-1420d5a5d32f"
   },
   "outputs": [],
   "source": [
    "import pandas as pd\n",
    "import numpy as np\n",
    "import os\n",
    "from pypfopt import EfficientFrontier, risk_models, expected_returns, objective_functions, base_optimizer, black_litterman, discrete_allocation"
   ]
  },
  {
   "cell_type": "markdown",
   "metadata": {
    "id": "JuKIO2N6jJMe"
   },
   "source": [
    "# 1.2 Load the stocks into memory and perform some preprocessing steps\n",
    "\n",
    "The data is stored as key-value pairs in a dictionary, with the ticker referencing the respective dataframe. Following that, the date is changed into a datetime object and a new column for log-returns is added."
   ]
  },
  {
   "cell_type": "code",
   "execution_count": 2,
   "metadata": {
    "id": "mVnwEINlL70j"
   },
   "outputs": [],
   "source": [
    "# load stocks into a dictionary\n",
    "stocks = {}\n",
    "do_not_append = ['FSELX','IPHI'] # FSELX is our fund, while IPHI does not have data and has been bought over by MRVL\n",
    "for file_name in os.listdir('best_data/'):\n",
    "  ticker = file_name.split(\".\")[0]\n",
    "  if ticker in do_not_append:\n",
    "    pass\n",
    "  else:\n",
    "    stocks[f'{ticker}'] = pd.read_csv(f'best_data/{file_name}') # for each stock, add its ticker as the key and dataframe as the value"
   ]
  },
  {
   "cell_type": "code",
   "execution_count": 3,
   "metadata": {
    "colab": {
     "base_uri": "https://localhost:8080/"
    },
    "id": "NUjfzh4EVqlv",
    "outputId": "424044d2-d005-4ec8-fbbc-e014b5749f26"
   },
   "outputs": [
    {
     "name": "stdout",
     "output_type": "stream",
     "text": [
      "['005930', 'ADI', 'AEIS', 'AMAT', 'AMBA', 'AMD', 'AOSL', 'ASX', 'AVGO', 'CRUS', 'DIOD', 'ENPH', 'FLEX', 'IIVI', 'INTC', 'JBL', 'LRCX', 'MCHP', 'MRVL', 'MTSI', 'MU', 'MXL', 'NVDA', 'NXPI', 'OLED', 'ON', 'QCOM', 'SEDG', 'SGH', 'SMTC', 'SYNA', 'TSM', 'TTMI', 'TXN', 'XLNX']\n"
     ]
    }
   ],
   "source": [
    "print(list(stocks.keys())) # print the stock tickers for easy referencing"
   ]
  },
  {
   "cell_type": "code",
   "execution_count": 4,
   "metadata": {
    "id": "61jHOrPQO0Y-"
   },
   "outputs": [],
   "source": [
    "# Change date column into a datetime object\n",
    "# Add a new column for log returns\n",
    "for ticker, df in stocks.items():\n",
    "  df['Date'] = df['Date'].apply(pd.to_datetime)\n",
    "  df['LogReturns'] = np.append(np.nan,np.diff(np.log(df['Adj Close']))) # Fill dataframe with the log returns. The first value will be nan because there is no log returns for it."
   ]
  },
  {
   "cell_type": "code",
   "execution_count": 5,
   "metadata": {
    "colab": {
     "base_uri": "https://localhost:8080/",
     "height": 206
    },
    "id": "i5CA8cPecAVO",
    "outputId": "f39bf8d5-0262-41d8-eadb-b7bb7181dd20"
   },
   "outputs": [
    {
     "data": {
      "text/html": [
       "<div>\n",
       "<style scoped>\n",
       "    .dataframe tbody tr th:only-of-type {\n",
       "        vertical-align: middle;\n",
       "    }\n",
       "\n",
       "    .dataframe tbody tr th {\n",
       "        vertical-align: top;\n",
       "    }\n",
       "\n",
       "    .dataframe thead th {\n",
       "        text-align: right;\n",
       "    }\n",
       "</style>\n",
       "<table border=\"1\" class=\"dataframe\">\n",
       "  <thead>\n",
       "    <tr style=\"text-align: right;\">\n",
       "      <th></th>\n",
       "      <th>Date</th>\n",
       "      <th>Open</th>\n",
       "      <th>High</th>\n",
       "      <th>Low</th>\n",
       "      <th>Close</th>\n",
       "      <th>Adj Close</th>\n",
       "      <th>Volume</th>\n",
       "      <th>LogReturns</th>\n",
       "    </tr>\n",
       "  </thead>\n",
       "  <tbody>\n",
       "    <tr>\n",
       "      <th>0</th>\n",
       "      <td>2016-10-04</td>\n",
       "      <td>69.660004</td>\n",
       "      <td>69.910004</td>\n",
       "      <td>69.099998</td>\n",
       "      <td>69.589996</td>\n",
       "      <td>61.006310</td>\n",
       "      <td>4089500</td>\n",
       "      <td>NaN</td>\n",
       "    </tr>\n",
       "    <tr>\n",
       "      <th>1</th>\n",
       "      <td>2016-10-05</td>\n",
       "      <td>69.849998</td>\n",
       "      <td>70.839996</td>\n",
       "      <td>69.010002</td>\n",
       "      <td>70.599998</td>\n",
       "      <td>61.891724</td>\n",
       "      <td>4789600</td>\n",
       "      <td>0.014409</td>\n",
       "    </tr>\n",
       "    <tr>\n",
       "      <th>2</th>\n",
       "      <td>2016-10-06</td>\n",
       "      <td>70.440002</td>\n",
       "      <td>71.000000</td>\n",
       "      <td>70.029999</td>\n",
       "      <td>70.959999</td>\n",
       "      <td>62.207321</td>\n",
       "      <td>4061500</td>\n",
       "      <td>0.005086</td>\n",
       "    </tr>\n",
       "    <tr>\n",
       "      <th>3</th>\n",
       "      <td>2016-10-07</td>\n",
       "      <td>71.000000</td>\n",
       "      <td>71.059998</td>\n",
       "      <td>70.449997</td>\n",
       "      <td>70.870003</td>\n",
       "      <td>62.128426</td>\n",
       "      <td>3673600</td>\n",
       "      <td>-0.001269</td>\n",
       "    </tr>\n",
       "    <tr>\n",
       "      <th>4</th>\n",
       "      <td>2016-10-10</td>\n",
       "      <td>71.080002</td>\n",
       "      <td>71.330002</td>\n",
       "      <td>69.900002</td>\n",
       "      <td>69.930000</td>\n",
       "      <td>61.304375</td>\n",
       "      <td>4893200</td>\n",
       "      <td>-0.013352</td>\n",
       "    </tr>\n",
       "  </tbody>\n",
       "</table>\n",
       "</div>"
      ],
      "text/plain": [
       "        Date       Open       High        Low      Close  Adj Close   Volume  \\\n",
       "0 2016-10-04  69.660004  69.910004  69.099998  69.589996  61.006310  4089500   \n",
       "1 2016-10-05  69.849998  70.839996  69.010002  70.599998  61.891724  4789600   \n",
       "2 2016-10-06  70.440002  71.000000  70.029999  70.959999  62.207321  4061500   \n",
       "3 2016-10-07  71.000000  71.059998  70.449997  70.870003  62.128426  3673600   \n",
       "4 2016-10-10  71.080002  71.330002  69.900002  69.930000  61.304375  4893200   \n",
       "\n",
       "   LogReturns  \n",
       "0         NaN  \n",
       "1    0.014409  \n",
       "2    0.005086  \n",
       "3   -0.001269  \n",
       "4   -0.013352  "
      ]
     },
     "execution_count": 5,
     "metadata": {},
     "output_type": "execute_result"
    }
   ],
   "source": [
    "# preview a stock\n",
    "stocks['TXN'].head()"
   ]
  },
  {
   "cell_type": "code",
   "execution_count": 6,
   "metadata": {
    "id": "IgYQ9yyJybW_"
   },
   "outputs": [],
   "source": [
    "top_30 = ['SYNA', 'MRVL', 'SGH', 'ENPH', 'JBL', 'CRUS', 'MCHP', 'AEIS', 'MTSI', 'AMAT', 'NVDA', 'ON', 'TTMI', 'SMTC', 'AVGO', 'XLNX', 'TSM', 'IIVI', 'QCOM', 'NXPI', 'FLEX', 'DIOD', 'AMD', 'MXL', 'ADI', 'INTC', 'TXN', 'LRCX', 'MU', 'OLED']\n",
    "stocks_30 = {stock:df for stock,df in stocks.items() if stock in top_30}"
   ]
  },
  {
   "cell_type": "markdown",
   "metadata": {
    "id": "RV6MdDBHjoaF"
   },
   "source": [
    "# 1.3 Aggregate the returns into one dataframe"
   ]
  },
  {
   "cell_type": "code",
   "execution_count": 7,
   "metadata": {
    "id": "oOo_SPu_eMe6"
   },
   "outputs": [],
   "source": [
    "log_returns = pd.DataFrame(data=np.full((stocks['TXN'].shape[0],30),np.nan), columns = sorted(list(stocks_30.keys())), index = stocks_30['TXN'].Date) # create empty dataframe filled with NaNs, with index = Date and columns = stocks\n",
    "\n",
    "# copy the log returns over from the stocks dictionary\n",
    "for ticker, df in stocks_30.items():\n",
    "  log_returns[ticker] = log_returns.index.map(stocks_30[ticker].set_index('Date')['LogReturns'])\n",
    "\n",
    "# if simple returns are needed\n",
    "simple_returns = np.exp(log_returns)-1\n",
    "#simple_returns['RF'] = np.repeat(0.01/252,simple_returns.shape[0])"
   ]
  },
  {
   "cell_type": "code",
   "execution_count": 8,
   "metadata": {
    "colab": {
     "base_uri": "https://localhost:8080/",
     "height": 258
    },
    "id": "hXxMj4WuiKJY",
    "outputId": "96e64636-fab8-4e33-bdfc-20e2781783e9"
   },
   "outputs": [
    {
     "data": {
      "text/html": [
       "<div>\n",
       "<style scoped>\n",
       "    .dataframe tbody tr th:only-of-type {\n",
       "        vertical-align: middle;\n",
       "    }\n",
       "\n",
       "    .dataframe tbody tr th {\n",
       "        vertical-align: top;\n",
       "    }\n",
       "\n",
       "    .dataframe thead th {\n",
       "        text-align: right;\n",
       "    }\n",
       "</style>\n",
       "<table border=\"1\" class=\"dataframe\">\n",
       "  <thead>\n",
       "    <tr style=\"text-align: right;\">\n",
       "      <th></th>\n",
       "      <th>ADI</th>\n",
       "      <th>AEIS</th>\n",
       "      <th>AMAT</th>\n",
       "      <th>AMD</th>\n",
       "      <th>AVGO</th>\n",
       "      <th>CRUS</th>\n",
       "      <th>DIOD</th>\n",
       "      <th>ENPH</th>\n",
       "      <th>FLEX</th>\n",
       "      <th>IIVI</th>\n",
       "      <th>...</th>\n",
       "      <th>OLED</th>\n",
       "      <th>ON</th>\n",
       "      <th>QCOM</th>\n",
       "      <th>SGH</th>\n",
       "      <th>SMTC</th>\n",
       "      <th>SYNA</th>\n",
       "      <th>TSM</th>\n",
       "      <th>TTMI</th>\n",
       "      <th>TXN</th>\n",
       "      <th>XLNX</th>\n",
       "    </tr>\n",
       "    <tr>\n",
       "      <th>Date</th>\n",
       "      <th></th>\n",
       "      <th></th>\n",
       "      <th></th>\n",
       "      <th></th>\n",
       "      <th></th>\n",
       "      <th></th>\n",
       "      <th></th>\n",
       "      <th></th>\n",
       "      <th></th>\n",
       "      <th></th>\n",
       "      <th></th>\n",
       "      <th></th>\n",
       "      <th></th>\n",
       "      <th></th>\n",
       "      <th></th>\n",
       "      <th></th>\n",
       "      <th></th>\n",
       "      <th></th>\n",
       "      <th></th>\n",
       "      <th></th>\n",
       "      <th></th>\n",
       "    </tr>\n",
       "  </thead>\n",
       "  <tbody>\n",
       "    <tr>\n",
       "      <th>2016-10-04</th>\n",
       "      <td>NaN</td>\n",
       "      <td>NaN</td>\n",
       "      <td>NaN</td>\n",
       "      <td>NaN</td>\n",
       "      <td>NaN</td>\n",
       "      <td>NaN</td>\n",
       "      <td>NaN</td>\n",
       "      <td>NaN</td>\n",
       "      <td>NaN</td>\n",
       "      <td>NaN</td>\n",
       "      <td>...</td>\n",
       "      <td>NaN</td>\n",
       "      <td>NaN</td>\n",
       "      <td>NaN</td>\n",
       "      <td>NaN</td>\n",
       "      <td>NaN</td>\n",
       "      <td>NaN</td>\n",
       "      <td>NaN</td>\n",
       "      <td>NaN</td>\n",
       "      <td>NaN</td>\n",
       "      <td>NaN</td>\n",
       "    </tr>\n",
       "    <tr>\n",
       "      <th>2016-10-05</th>\n",
       "      <td>0.006849</td>\n",
       "      <td>0.008323</td>\n",
       "      <td>0.011145</td>\n",
       "      <td>-0.027260</td>\n",
       "      <td>0.026205</td>\n",
       "      <td>0.018109</td>\n",
       "      <td>0.024402</td>\n",
       "      <td>-0.008333</td>\n",
       "      <td>0.030837</td>\n",
       "      <td>0.043100</td>\n",
       "      <td>...</td>\n",
       "      <td>-0.006262</td>\n",
       "      <td>0.018062</td>\n",
       "      <td>0.002399</td>\n",
       "      <td>NaN</td>\n",
       "      <td>0.008727</td>\n",
       "      <td>0.049058</td>\n",
       "      <td>0.004607</td>\n",
       "      <td>0.019164</td>\n",
       "      <td>0.014513</td>\n",
       "      <td>0.006596</td>\n",
       "    </tr>\n",
       "    <tr>\n",
       "      <th>2016-10-06</th>\n",
       "      <td>0.000928</td>\n",
       "      <td>0.027513</td>\n",
       "      <td>-0.001670</td>\n",
       "      <td>0.026549</td>\n",
       "      <td>0.004093</td>\n",
       "      <td>0.012919</td>\n",
       "      <td>0.003270</td>\n",
       "      <td>0.016807</td>\n",
       "      <td>0.004986</td>\n",
       "      <td>0.026619</td>\n",
       "      <td>...</td>\n",
       "      <td>0.003819</td>\n",
       "      <td>0.002419</td>\n",
       "      <td>0.010473</td>\n",
       "      <td>NaN</td>\n",
       "      <td>-0.002884</td>\n",
       "      <td>0.054531</td>\n",
       "      <td>0.007861</td>\n",
       "      <td>0.001709</td>\n",
       "      <td>0.005099</td>\n",
       "      <td>0.000375</td>\n",
       "    </tr>\n",
       "    <tr>\n",
       "      <th>2016-10-07</th>\n",
       "      <td>-0.004943</td>\n",
       "      <td>-0.015448</td>\n",
       "      <td>-0.004684</td>\n",
       "      <td>-0.030172</td>\n",
       "      <td>0.000115</td>\n",
       "      <td>-0.000739</td>\n",
       "      <td>-0.016760</td>\n",
       "      <td>-0.041322</td>\n",
       "      <td>-0.000709</td>\n",
       "      <td>-0.005418</td>\n",
       "      <td>...</td>\n",
       "      <td>-0.000761</td>\n",
       "      <td>-0.012068</td>\n",
       "      <td>0.009624</td>\n",
       "      <td>NaN</td>\n",
       "      <td>-0.004700</td>\n",
       "      <td>0.017339</td>\n",
       "      <td>0.013325</td>\n",
       "      <td>0.014505</td>\n",
       "      <td>-0.001268</td>\n",
       "      <td>-0.010107</td>\n",
       "    </tr>\n",
       "    <tr>\n",
       "      <th>2016-10-10</th>\n",
       "      <td>-0.016610</td>\n",
       "      <td>0.004184</td>\n",
       "      <td>-0.012437</td>\n",
       "      <td>0.013333</td>\n",
       "      <td>0.003214</td>\n",
       "      <td>0.023122</td>\n",
       "      <td>-0.007102</td>\n",
       "      <td>-0.086207</td>\n",
       "      <td>-0.004965</td>\n",
       "      <td>0.003891</td>\n",
       "      <td>...</td>\n",
       "      <td>0.013707</td>\n",
       "      <td>-0.012215</td>\n",
       "      <td>-0.013785</td>\n",
       "      <td>NaN</td>\n",
       "      <td>-0.027243</td>\n",
       "      <td>0.014630</td>\n",
       "      <td>0.003207</td>\n",
       "      <td>0.000000</td>\n",
       "      <td>-0.013264</td>\n",
       "      <td>-0.012857</td>\n",
       "    </tr>\n",
       "  </tbody>\n",
       "</table>\n",
       "<p>5 rows × 30 columns</p>\n",
       "</div>"
      ],
      "text/plain": [
       "                 ADI      AEIS      AMAT       AMD      AVGO      CRUS  \\\n",
       "Date                                                                     \n",
       "2016-10-04       NaN       NaN       NaN       NaN       NaN       NaN   \n",
       "2016-10-05  0.006849  0.008323  0.011145 -0.027260  0.026205  0.018109   \n",
       "2016-10-06  0.000928  0.027513 -0.001670  0.026549  0.004093  0.012919   \n",
       "2016-10-07 -0.004943 -0.015448 -0.004684 -0.030172  0.000115 -0.000739   \n",
       "2016-10-10 -0.016610  0.004184 -0.012437  0.013333  0.003214  0.023122   \n",
       "\n",
       "                DIOD      ENPH      FLEX      IIVI  ...      OLED        ON  \\\n",
       "Date                                                ...                       \n",
       "2016-10-04       NaN       NaN       NaN       NaN  ...       NaN       NaN   \n",
       "2016-10-05  0.024402 -0.008333  0.030837  0.043100  ... -0.006262  0.018062   \n",
       "2016-10-06  0.003270  0.016807  0.004986  0.026619  ...  0.003819  0.002419   \n",
       "2016-10-07 -0.016760 -0.041322 -0.000709 -0.005418  ... -0.000761 -0.012068   \n",
       "2016-10-10 -0.007102 -0.086207 -0.004965  0.003891  ...  0.013707 -0.012215   \n",
       "\n",
       "                QCOM  SGH      SMTC      SYNA       TSM      TTMI       TXN  \\\n",
       "Date                                                                          \n",
       "2016-10-04       NaN  NaN       NaN       NaN       NaN       NaN       NaN   \n",
       "2016-10-05  0.002399  NaN  0.008727  0.049058  0.004607  0.019164  0.014513   \n",
       "2016-10-06  0.010473  NaN -0.002884  0.054531  0.007861  0.001709  0.005099   \n",
       "2016-10-07  0.009624  NaN -0.004700  0.017339  0.013325  0.014505 -0.001268   \n",
       "2016-10-10 -0.013785  NaN -0.027243  0.014630  0.003207  0.000000 -0.013264   \n",
       "\n",
       "                XLNX  \n",
       "Date                  \n",
       "2016-10-04       NaN  \n",
       "2016-10-05  0.006596  \n",
       "2016-10-06  0.000375  \n",
       "2016-10-07 -0.010107  \n",
       "2016-10-10 -0.012857  \n",
       "\n",
       "[5 rows x 30 columns]"
      ]
     },
     "execution_count": 8,
     "metadata": {},
     "output_type": "execute_result"
    }
   ],
   "source": [
    "# preview log_returns\n",
    "simple_returns.head()"
   ]
  },
  {
   "cell_type": "markdown",
   "metadata": {
    "id": "VhaObiuNiaFG"
   },
   "source": [
    "The stock SGH has a lot of NaN values. We take a closer look at it."
   ]
  },
  {
   "cell_type": "code",
   "execution_count": 9,
   "metadata": {
    "colab": {
     "base_uri": "https://localhost:8080/",
     "height": 206
    },
    "id": "SgrmceUmiUBn",
    "outputId": "62857ff6-40d2-4282-b889-c152c7c62b9d"
   },
   "outputs": [
    {
     "data": {
      "text/html": [
       "<div>\n",
       "<style scoped>\n",
       "    .dataframe tbody tr th:only-of-type {\n",
       "        vertical-align: middle;\n",
       "    }\n",
       "\n",
       "    .dataframe tbody tr th {\n",
       "        vertical-align: top;\n",
       "    }\n",
       "\n",
       "    .dataframe thead th {\n",
       "        text-align: right;\n",
       "    }\n",
       "</style>\n",
       "<table border=\"1\" class=\"dataframe\">\n",
       "  <thead>\n",
       "    <tr style=\"text-align: right;\">\n",
       "      <th></th>\n",
       "      <th>Date</th>\n",
       "      <th>Open</th>\n",
       "      <th>High</th>\n",
       "      <th>Low</th>\n",
       "      <th>Close</th>\n",
       "      <th>Adj Close</th>\n",
       "      <th>Volume</th>\n",
       "      <th>LogReturns</th>\n",
       "    </tr>\n",
       "  </thead>\n",
       "  <tbody>\n",
       "    <tr>\n",
       "      <th>0</th>\n",
       "      <td>2017-05-24</td>\n",
       "      <td>12.00</td>\n",
       "      <td>14.000</td>\n",
       "      <td>11.50</td>\n",
       "      <td>13.45</td>\n",
       "      <td>13.45</td>\n",
       "      <td>1415200</td>\n",
       "      <td>NaN</td>\n",
       "    </tr>\n",
       "    <tr>\n",
       "      <th>1</th>\n",
       "      <td>2017-05-25</td>\n",
       "      <td>13.85</td>\n",
       "      <td>14.320</td>\n",
       "      <td>13.35</td>\n",
       "      <td>13.50</td>\n",
       "      <td>13.50</td>\n",
       "      <td>237900</td>\n",
       "      <td>0.003711</td>\n",
       "    </tr>\n",
       "    <tr>\n",
       "      <th>2</th>\n",
       "      <td>2017-05-26</td>\n",
       "      <td>13.36</td>\n",
       "      <td>13.624</td>\n",
       "      <td>12.46</td>\n",
       "      <td>13.23</td>\n",
       "      <td>13.23</td>\n",
       "      <td>56200</td>\n",
       "      <td>-0.020203</td>\n",
       "    </tr>\n",
       "    <tr>\n",
       "      <th>3</th>\n",
       "      <td>2017-05-30</td>\n",
       "      <td>13.20</td>\n",
       "      <td>13.255</td>\n",
       "      <td>12.28</td>\n",
       "      <td>12.98</td>\n",
       "      <td>12.98</td>\n",
       "      <td>71200</td>\n",
       "      <td>-0.019077</td>\n",
       "    </tr>\n",
       "    <tr>\n",
       "      <th>4</th>\n",
       "      <td>2017-05-31</td>\n",
       "      <td>13.02</td>\n",
       "      <td>13.500</td>\n",
       "      <td>12.93</td>\n",
       "      <td>13.10</td>\n",
       "      <td>13.10</td>\n",
       "      <td>55700</td>\n",
       "      <td>0.009203</td>\n",
       "    </tr>\n",
       "  </tbody>\n",
       "</table>\n",
       "</div>"
      ],
      "text/plain": [
       "        Date   Open    High    Low  Close  Adj Close   Volume  LogReturns\n",
       "0 2017-05-24  12.00  14.000  11.50  13.45      13.45  1415200         NaN\n",
       "1 2017-05-25  13.85  14.320  13.35  13.50      13.50   237900    0.003711\n",
       "2 2017-05-26  13.36  13.624  12.46  13.23      13.23    56200   -0.020203\n",
       "3 2017-05-30  13.20  13.255  12.28  12.98      12.98    71200   -0.019077\n",
       "4 2017-05-31  13.02  13.500  12.93  13.10      13.10    55700    0.009203"
      ]
     },
     "execution_count": 9,
     "metadata": {},
     "output_type": "execute_result"
    }
   ],
   "source": [
    "# preview SGH\n",
    "stocks['SGH'].head()"
   ]
  },
  {
   "cell_type": "markdown",
   "metadata": {
    "id": "6XYAcSVNijtO"
   },
   "source": [
    "SGH only begins at a later date, explaining the NaNs we see in our earlier preview.\n",
    "\n",
    "## 2.1 Optimization"
   ]
  },
  {
   "cell_type": "code",
   "execution_count": 10,
   "metadata": {
    "colab": {
     "base_uri": "https://localhost:8080/",
     "height": 1000
    },
    "id": "wHk0JgMMmBs6",
    "outputId": "6a2bcf28-a8d7-4ca1-cba6-a66f920bce45"
   },
   "outputs": [],
   "source": [
    "original_portfolio = pd.read_csv('original_weights_best.csv')\n",
    "#original_portfolio['Security\\'s Percentage of the Total Net Assets'] = np.round(original_portfolio['Security\\'s Percentage of the Total Net Assets'],3)/100\n",
    "original_portfolio.index = original_portfolio['Ticker Symbol Given by the Exchange']\n",
    "del original_portfolio['Ticker Symbol Given by the Exchange']\n",
    "original_portfolio = original_portfolio.loc[top_30,]"
   ]
  },
  {
   "cell_type": "code",
   "execution_count": 11,
   "metadata": {
    "colab": {
     "base_uri": "https://localhost:8080/"
    },
    "id": "80GgYNWvunBZ",
    "outputId": "60a51b0b-9e79-42e7-8abc-9bf6526d6132"
   },
   "outputs": [],
   "source": [
    "# normalize top 30 weights\n",
    "original_portfolio['Security\\'s Percentage of the Total Net Assets'] = (original_portfolio['Security\\'s Percentage of the Total Net Assets']/original_portfolio['Security\\'s Percentage of the Total Net Assets'].sum())"
   ]
  },
  {
   "cell_type": "code",
   "execution_count": 12,
   "metadata": {
    "id": "lAlF2Ks-dtmX"
   },
   "outputs": [],
   "source": [
    "# drop nans\n",
    "simple_returns = simple_returns.dropna()\n",
    "\n",
    "# get in-sample time window to perform optimization on (inclusive)\n",
    "is_start_date = '2019-6-30'\n",
    "is_end_date = '2020-6-30'\n",
    "\n",
    "# get out-of-sample time window for evaluation (inclusive)\n",
    "oos_start_date = '2020-7-1'\n",
    "oos_end_date = '2020-12-31'\n",
    "\n",
    "in_sample_window = simple_returns[(simple_returns.index>=is_start_date)&(simple_returns.index<=is_end_date)].copy()\n",
    "out_sample_window = simple_returns[(simple_returns.index>=oos_start_date)&(simple_returns.index<=oos_end_date)].copy()"
   ]
  },
  {
   "cell_type": "code",
   "execution_count": 13,
   "metadata": {},
   "outputs": [],
   "source": [
    "# create dataframe to store results\n",
    "pd.DataFrame(np.zeros(len(in_sample_window.columns)+1),index = np.append(in_sample_window.columns.values,'RF'))\n",
    "\n",
    "comparison_table = pd.DataFrame(original_portfolio['Security\\'s Percentage of the Total Net Assets'])\n",
    "comparison_table = comparison_table.rename(columns={'Security\\'s Percentage of the Total Net Assets':'original weights'})\n",
    "comparison_table.loc['RF','original weights'] = 0"
   ]
  },
  {
   "cell_type": "code",
   "execution_count": 14,
   "metadata": {
    "id": "whfHd1_3VXPv"
   },
   "outputs": [],
   "source": [
    "# Calculate expected returns and sample covariance using PyPortfolioOpt’s built-in methods\n",
    "mu = expected_returns.mean_historical_return(in_sample_window, returns_data=True)\n",
    "mu['RF'] = 0.01 # add risk-free assets\n",
    "S = risk_models.sample_cov(in_sample_window, returns_data=True)\n",
    "S.loc['RF',:] = 0 # add risk-free assets\n",
    "S.loc[:,'RF'] = 0\n",
    "\n",
    "oos_mu = expected_returns.mean_historical_return(out_sample_window, returns_data=True)\n",
    "oos_mu.loc['RF'] = 0.01 # add risk-free assets\n",
    "oos_S = risk_models.sample_cov(out_sample_window, returns_data=True)\n",
    "oos_S.loc['RF',:] = 0 # add risk-free assets\n",
    "oos_S.loc[:,'RF'] = 0\n",
    "\n",
    "#print('Expected Returns:')\n",
    "#print(mu)\n",
    "#print('\\n')\n",
    "#print('Covariance Matrix:')\n",
    "#print(S)\n",
    "solver = \"ECOS\""
   ]
  },
  {
   "cell_type": "markdown",
   "metadata": {
    "id": "Vk6Z8T2hU7Cr"
   },
   "source": [
    "# Attempt 1 -- Simple implementation\n",
    "* Simple sub-sectors, semiconductors and others\n",
    "* Base-line"
   ]
  },
  {
   "cell_type": "code",
   "execution_count": 15,
   "metadata": {
    "id": "Df4xjkZVQ5Yp"
   },
   "outputs": [],
   "source": [
    "# Set each stock to a sub-sector \n",
    "# Until someone has a better idea, use:\n",
    "semiconductors = ['ADI','AMAT','AMD','AVGO','CRUS',\n",
    "                  'DIOD','INTC','LRCX','MCHP','MRVL',\n",
    "                  'MTSI','MU','MXL','NVDA','NXPI',\n",
    "                  'OLED','ON','QCOM','SGH','SMTC',\n",
    "                  'SYNA','TSM','TXN','XLNX']\n",
    "others = ['AEIS','ENPH','FLEX','JBL','TTMI', \n",
    "               'IIVI','RF'] # AEIS and IIVI are also in the semiconductor subsector, but just putting them here first since they're in both areas. Every stock here except for IIVI are in the electrical/electronics scene. RF = risk-free"
   ]
  },
  {
   "cell_type": "markdown",
   "metadata": {
    "id": "DxWJzdCHef94"
   },
   "source": [
    "**Calculating risk aversion**\n",
    "\n",
    "$U=E(R)-k*std(R)^2$\n",
    "\n",
    "Assuming a portfolio consisting only of the market portfolio + risk-free assets, and expressing $E(R)$ and $std(R)$ in terms of their weights, $w$, we have:\n",
    "\n",
    "$U=0.1*w+0.01*(1-w) - k*(w*0.18)^2$\n",
    "\n",
    "where $w$ is the weight allocated to the market portfolio. Then,\n",
    "\n",
    "$dU/dw = -0.0648*w*k+0.099$\n",
    "\n",
    "If we choose w = 1, and then solving for $dU/dw = 0$, we get $k=1.528$"
   ]
  },
  {
   "cell_type": "code",
   "execution_count": 16,
   "metadata": {
    "colab": {
     "base_uri": "https://localhost:8080/"
    },
    "id": "DOSU2bFvXCMO",
    "outputId": "c47c65ff-ef54-40f4-b5f6-4beda94f6da0"
   },
   "outputs": [
    {
     "name": "stdout",
     "output_type": "stream",
     "text": [
      "k = 1.528\n",
      "Expected annual return: 125.6%\n",
      "Annual volatility: 53.6%\n",
      "Sharpe Ratio: 2.32\n",
      "(1.2555892515033282, 0.5360763269173905, 2.3235296709814866)\n",
      "ADI     2.086000e-13\n",
      "AEIS    7.630000e-13\n",
      "AMAT    3.239000e-13\n",
      "AMD     1.623500e-12\n",
      "AVGO    2.406000e-13\n",
      "CRUS    3.782000e-13\n",
      "DIOD    4.820000e-13\n",
      "ENPH    2.500000e-01\n",
      "FLEX    5.777000e-13\n",
      "IIVI    1.910800e-12\n",
      "INTC    4.056000e-13\n",
      "JBL     6.359000e-13\n",
      "LRCX    7.932000e-13\n",
      "MCHP    2.133000e-13\n",
      "MRVL    6.261000e-13\n",
      "MTSI    2.500000e-01\n",
      "MU      3.231000e-13\n",
      "MXL     4.440000e-14\n",
      "NVDA    2.500000e-01\n",
      "NXPI    1.967000e-13\n",
      "OLED    6.050000e-14\n",
      "ON      4.450000e-14\n",
      "QCOM    3.363000e-13\n",
      "SGH     1.826000e-13\n",
      "SMTC    1.527000e-13\n",
      "SYNA    2.000000e-01\n",
      "TSM     8.867000e-13\n",
      "TTMI    1.136400e-12\n",
      "TXN     2.904000e-13\n",
      "XLNX    1.411000e-13\n",
      "RF      5.000000e-02\n",
      "dtype: float64\n",
      "Expected annual return: 392.3%\n",
      "Annual volatility: 37.8%\n",
      "Sharpe Ratio: 10.35\n"
     ]
    }
   ],
   "source": [
    "ef = EfficientFrontier(mu, S, solver= solver)\n",
    "k = 1.528 \n",
    "print(f\"k = {k}\")\n",
    "\n",
    "ef.add_constraint(lambda x: x >= 0) # weights >= 0\n",
    "ef.add_constraint(lambda x: x <= 0.25) # weight <= 0.25\n",
    "\n",
    "sector_mapper = {} # initialise sector_mapper\n",
    "for stock in semiconductors:\n",
    "  sector_mapper[stock] = 'semiconductors'\n",
    "for stock in others:\n",
    "  sector_mapper[stock] = 'others'\n",
    "\n",
    "sector_lower = {'others': 0.3} # at least 30% to others\n",
    "\n",
    "ef.add_sector_constraints(sector_mapper=sector_mapper, sector_lower=sector_lower, sector_upper={}) # add sector constraint\n",
    "\n",
    "optimal_weights_portfolio = ef.max_quadratic_utility(risk_aversion = 2*k) # optimize by the quadratic utility function mean - k/2 * variance (hence the 2*k in the parameters)\n",
    "print(ef.portfolio_performance(verbose=True, risk_free_rate=0.01))\n",
    "results = pd.Series(np.array(list(optimal_weights_portfolio.values())),index = np.append(in_sample_window.columns, 'RF'))\n",
    "print(results)\n",
    "# check against out of sample window\n",
    "_ = base_optimizer.portfolio_performance(results, oos_mu, oos_S, verbose=True, risk_free_rate=0.01)"
   ]
  },
  {
   "cell_type": "code",
   "execution_count": 17,
   "metadata": {},
   "outputs": [],
   "source": [
    "comparison_table['1'] = np.round(results,2)"
   ]
  },
  {
   "cell_type": "markdown",
   "metadata": {
    "id": "Vk6Z8T2hU7Cr"
   },
   "source": [
    "# Attempt 2 -- Addressing the 0 weights problem the mean-variance optimization function causes\n",
    "* Simple sub-sectors, semiconductors and others\n",
    "* L2 regularization with gamma = 5"
   ]
  },
  {
   "cell_type": "markdown",
   "metadata": {
    "id": "0LbEx5UKilxZ"
   },
   "source": [
    "**From the pyportfolio webpage**\n",
    "\n",
    "*In order to coerce the mean-variance optimizer to produce more non-negligible weights, we add what can be thought of as a “small weights penalty” to all of the objective functions, parameterised by γ (gamma).*\n",
    "\n",
    "It is refered to as L2 regularisation despite having a different purpose from its usual use, to keep weights small. Here, is it used to keep weights bigger.\n",
    "\n",
    "Note: Check different gamma values and portfolio's overall performance.\n",
    "\n",
    "https://pyportfolioopt.readthedocs.io/en/latest/MeanVariance.html#pypfopt.objective_functions.L2_reg"
   ]
  },
  {
   "cell_type": "code",
   "execution_count": 18,
   "metadata": {
    "id": "Df4xjkZVQ5Yp"
   },
   "outputs": [],
   "source": [
    "# Set each stock to a sub-sector \n",
    "# Until someone has a better idea, use:\n",
    "semiconductors = ['ADI','AMAT','AMD','AVGO','CRUS',\n",
    "                  'DIOD','INTC','LRCX','MCHP','MRVL',\n",
    "                  'MTSI','MU','MXL','NVDA','NXPI',\n",
    "                  'OLED','ON','QCOM','SGH','SMTC',\n",
    "                  'SYNA','TSM','TXN','XLNX']\n",
    "others = ['AEIS','ENPH','FLEX','JBL','TTMI', \n",
    "               'IIVI','RF'] # AEIS and IIVI are also in the semiconductor subsector, but just putting them here first since they're in both areas. Every stock here except for IIVI are in the electrical/electronics scene. RF = risk-free"
   ]
  },
  {
   "cell_type": "code",
   "execution_count": 19,
   "metadata": {
    "colab": {
     "base_uri": "https://localhost:8080/"
    },
    "id": "DOSU2bFvXCMO",
    "outputId": "c47c65ff-ef54-40f4-b5f6-4beda94f6da0"
   },
   "outputs": [
    {
     "name": "stdout",
     "output_type": "stream",
     "text": [
      "k = 1.528\n",
      "Expected annual return: 79.8%\n",
      "Annual volatility: 45.4%\n",
      "Sharpe Ratio: 1.74\n",
      "(0.7982307492835339, 0.45427751747745115, 1.7351304411023578)\n",
      "ADI     2.095461e-03\n",
      "AEIS    1.554666e-02\n",
      "AMAT    1.659711e-02\n",
      "AMD     6.476310e-02\n",
      "AVGO    6.566525e-03\n",
      "CRUS    2.549111e-02\n",
      "DIOD    3.279247e-02\n",
      "ENPH    1.255665e-01\n",
      "FLEX    8.043654e-03\n",
      "IIVI    3.936465e-02\n",
      "INTC    2.456484e-02\n",
      "JBL     1.108806e-02\n",
      "LRCX    5.094771e-02\n",
      "MCHP    2.656917e-03\n",
      "MRVL    4.152583e-02\n",
      "MTSI    1.081883e-01\n",
      "MU      1.634097e-02\n",
      "MXL     3.548060e-11\n",
      "NVDA    1.169771e-01\n",
      "NXPI    2.466819e-03\n",
      "OLED    4.523470e-11\n",
      "ON      3.521440e-11\n",
      "QCOM    2.024725e-02\n",
      "SGH     5.657889e-10\n",
      "SMTC    1.295457e-10\n",
      "SYNA    9.659905e-02\n",
      "TSM     5.721223e-02\n",
      "TTMI    2.888809e-02\n",
      "TXN     1.396721e-02\n",
      "XLNX    1.119633e-10\n",
      "RF      7.150239e-02\n",
      "dtype: float64\n",
      "Expected annual return: 255.3%\n",
      "Annual volatility: 29.7%\n",
      "Sharpe Ratio: 8.57\n"
     ]
    }
   ],
   "source": [
    "ef = EfficientFrontier(mu, S, solver= solver)\n",
    "k = 1.528 \n",
    "print(f\"k = {k}\")\n",
    "\n",
    "ef.add_constraint(lambda x: x >= 0) # weights >= 0\n",
    "ef.add_constraint(lambda x: x <= 0.25) # weight <= 0.25\n",
    "\n",
    "sector_mapper = {} # initialise sector_mapper\n",
    "for stock in semiconductors:\n",
    "  sector_mapper[stock] = 'semiconductors'\n",
    "for stock in others:\n",
    "  sector_mapper[stock] = 'others'\n",
    "\n",
    "sector_lower = {'others': 0.3} # at least 30% to others\n",
    "\n",
    "ef.add_sector_constraints(sector_mapper=sector_mapper, sector_lower=sector_lower, sector_upper={}) # add sector constraint\n",
    "\n",
    "ef.add_objective(objective_functions.L2_reg, gamma=5) # L2 regularisation parameter, defaults to 1. This adds a small weights penalty, gamma, to the objective function. Increase for more non-negligible weights. \n",
    "\n",
    "optimal_weights_portfolio = ef.max_quadratic_utility(risk_aversion = 2*k) # optimize by the quadratic utility function mean - k/2 * variance (hence the 2*k in the parameters)\n",
    "print(ef.portfolio_performance(verbose=True, risk_free_rate=0.01))\n",
    "results = pd.Series(np.array(list(optimal_weights_portfolio.values())),index = np.append(in_sample_window.columns, 'RF'))\n",
    "print(results)\n",
    "# check against out of sample window\n",
    "_ = base_optimizer.portfolio_performance(results, oos_mu, oos_S, verbose=True, risk_free_rate=0.01)"
   ]
  },
  {
   "cell_type": "code",
   "execution_count": 20,
   "metadata": {},
   "outputs": [],
   "source": [
    "comparison_table['2'] = np.round(results,2)"
   ]
  },
  {
   "cell_type": "markdown",
   "metadata": {
    "id": "0LbEx5UKilxZ"
   },
   "source": [
    "# Attempt 3 -- Addressing small number of sub-sectors issue\n",
    "- Sub-sectors by market cap, with floor = 20%, and ceiling = 50%\n",
    "- using L2 regularization with gamma = 5\n",
    "\n",
    "***Additionally, we can consider putting a stock of a company into multiple sub-sectors, if the company produces goods of a different sub-sector as well. This has yet to be implemented, though I might get to it if I have time.\n",
    "If someone wants to pick up the mantle and do the research, please go ahead.***"
   ]
  },
  {
   "cell_type": "code",
   "execution_count": 21,
   "metadata": {
    "id": "Df4xjkZVQ5Yp"
   },
   "outputs": [],
   "source": [
    "# market cap by three categories, 100B+, 10B+, and 1B+\n",
    "cat_1 = [\"TSM\", \"NVDA\", \"INTC\", \"AVGO\", \"TXN\", \"QCOM\", \"AMD\", \"AMAT\"] # 100B+ market cap\n",
    "cat_2 = [\"ADI\", \"MU\", \"LRCX\", \"MRVL\", \"NXPI\", \"MCHP\", \"XLNX\", \"ENPH\", \"ON\"] # 10B+ market cap\n",
    "cat_3 = [\"JBL\", \"FLEX\", \"OLED\", \"SYNA\", \"IIVI\", \"SMTC\", \"CRUS\", \"MTSI\", \"DIOD\", \"MXL\", \"AEIS\", \"TTMI\", \"SGH\"] # 1B+ market cap"
   ]
  },
  {
   "cell_type": "code",
   "execution_count": 22,
   "metadata": {
    "colab": {
     "base_uri": "https://localhost:8080/"
    },
    "id": "DOSU2bFvXCMO",
    "outputId": "c47c65ff-ef54-40f4-b5f6-4beda94f6da0"
   },
   "outputs": [
    {
     "name": "stdout",
     "output_type": "stream",
     "text": [
      "k = 1.528\n",
      "Expected annual return: 81.1%\n",
      "Annual volatility: 45.6%\n",
      "Sharpe Ratio: 1.76\n",
      "ADI     6.769576e-03\n",
      "AEIS    1.725195e-03\n",
      "AMAT    2.109939e-02\n",
      "AMD     6.889102e-02\n",
      "AVGO    1.128620e-02\n",
      "CRUS    3.018475e-02\n",
      "DIOD    3.766398e-02\n",
      "ENPH    1.143808e-01\n",
      "FLEX    6.187510e-11\n",
      "IIVI    2.592957e-02\n",
      "INTC    2.888510e-02\n",
      "JBL     2.326555e-10\n",
      "LRCX    5.544937e-02\n",
      "MCHP    7.167054e-03\n",
      "MRVL    4.608512e-02\n",
      "MTSI    1.129569e-01\n",
      "MU      2.071888e-02\n",
      "MXL     2.272930e-11\n",
      "NVDA    1.213112e-01\n",
      "NXPI    7.248261e-03\n",
      "OLED    2.956580e-11\n",
      "ON      2.260490e-11\n",
      "QCOM    2.479427e-02\n",
      "SGH     2.825954e-03\n",
      "SMTC    6.624220e-11\n",
      "SYNA    1.012156e-01\n",
      "TSM     6.192507e-02\n",
      "TTMI    1.539843e-02\n",
      "TXN     1.849689e-02\n",
      "XLNX    5.790130e-11\n",
      "RF      5.759140e-02\n",
      "dtype: float64\n",
      "\n",
      "\n",
      "CAT 1: 0.3566891070978381, CAT 2: 0.2578191029781946, CAT 3: 0.3279003906666077\n",
      "Expected annual return: 244.6%\n",
      "Annual volatility: 29.7%\n",
      "Sharpe Ratio: 8.19\n"
     ]
    }
   ],
   "source": [
    "ef = EfficientFrontier(mu, S, solver= solver)\n",
    "k = 1.528 \n",
    "print(f\"k = {k}\")\n",
    "\n",
    "ef.add_constraint(lambda x: x >= 0) # weights >= 0\n",
    "ef.add_constraint(lambda x: x <= 0.25) # weight <= 0.25\n",
    "\n",
    "sector_mapper = {} # initialise sector_mapper\n",
    "for stock in cat_1:\n",
    "  sector_mapper[stock] = 'cat_1'\n",
    "for stock in cat_2:\n",
    "  sector_mapper[stock] = 'cat_2'\n",
    "for stock in cat_3:\n",
    "  sector_mapper[stock] = 'cat_3'\n",
    "sector_mapper['RF'] = 'rf'\n",
    "\n",
    "sector_lower = {'cat_1': 0.2, 'cat_2': 0.2, 'cat_3': 0.2} # at least 30% to each category\n",
    "sector_upper = {'cat_1': 0.5, 'cat_2': 0.5, 'cat_3': 0.5} # not more than 40% to each category\n",
    "\n",
    "ef.add_sector_constraints(sector_mapper=sector_mapper, sector_lower=sector_lower, sector_upper=sector_upper) # add sector constraint\n",
    "\n",
    "ef.add_objective(objective_functions.L2_reg, gamma=5) # L2 regularisation parameter, defaults to 1. This adds a small weights penalty, gamma, to the objective function. Increase for more non-negligible weights. \n",
    "\n",
    "optimal_weights_portfolio = ef.max_quadratic_utility(risk_aversion = 2*k) # optimize by the quadratic utility function mean - k/2 * variance (hence the 2*k in the parameters)\n",
    "ef.portfolio_performance(verbose=True, risk_free_rate=0.01) \n",
    "results = pd.Series(np.array(list(optimal_weights_portfolio.values())),index = np.append(in_sample_window.columns, 'RF'))\n",
    "print(results)\n",
    "print('\\n')\n",
    "print(f'CAT 1: {results.loc[cat_1].sum()}, CAT 2: {results.loc[cat_2].sum()}, CAT 3: {results.loc[cat_3].sum()}')\n",
    "# check against out of sample window\n",
    "_ = base_optimizer.portfolio_performance(results, oos_mu, oos_S, verbose=True, risk_free_rate=0.01)"
   ]
  },
  {
   "cell_type": "code",
   "execution_count": 23,
   "metadata": {},
   "outputs": [],
   "source": [
    "comparison_table['3'] = np.round(results,2)"
   ]
  },
  {
   "cell_type": "markdown",
   "metadata": {},
   "source": [
    "# Attempt 4 - Adjusting the mean and variance to be more realistic\n",
    "- L2 regularization with gamma = 10 (5 had too many zero weights, only -0.05 to out of sample Sharpe Ratio)\n",
    "- Exponentially weighted mean\n",
    "- Shrinkage Covariance (trial of different shrinkage algorithms)\n",
    "- Sub-sectors by market cap\n",
    "\n",
    "\n",
    "***Personal thoughts on shrinkage: TA had a really excited reaction when I mentioned about shrinkage estimators, then talked about \n",
    "other methods we have yet to try. We don't really have time to read through the paper about shrinkage to find out the best method,\n",
    "so I tried everything available in the pypfopt package. They all give extremely similar results, so I think we can proceed with the \n",
    "default implementation of it. I believe there are other shrinkage methods out there not implemented with this package, but unless\n",
    "someone wants to go the extra mile to look up which is the best for our use, this is where I'll stop with shrinkages.***\n",
    "\n",
    "***We can provide a table of the results of the different shrinkage implementations, but I believe we'll also need to justify\n",
    "our final choice of shrinkage. I doubt they'll accept a quantitative explanation, but we can ask about this on Thursday.***"
   ]
  },
  {
   "cell_type": "code",
   "execution_count": 24,
   "metadata": {},
   "outputs": [],
   "source": [
    "adj_mu = expected_returns.ema_historical_return(in_sample_window, span=250, returns_data=True)\n",
    "adj_mu['RF'] = 0.01 # add risk-free assets\n",
    "#adj_S = risk_models.exp_cov(in_sample_window, span=100, returns_data=True)\n",
    "\n",
    "# Shrinkage estimator, as recommended by PyPortfolioOpt's dev\n",
    "adj_S = risk_models.CovarianceShrinkage(in_sample_window, returns_data=True).ledoit_wolf('constant_variance') # 8.71 sharpe, default method offered \n",
    "#adj_S = risk_models.CovarianceShrinkage(in_sample_window, returns_data=True).ledoit_wolf('single_factor') # 8.68 sharpe\n",
    "#adj_S = risk_models.CovarianceShrinkage(in_sample_window, returns_data=True).ledoit_wolf('constant_correlation') # 8.55 sharpe\n",
    "#adj_S = risk_models.CovarianceShrinkage(in_sample_window, returns_data=True).oracle_approximating() # 8.70 sharpe\n",
    "#adj_S = risk_models.CovarianceShrinkage(in_sample_window, returns_data=True).shrunk_covariance() # 8.76 sharpe (there is an optimal shrinkage constant that is normally estimated, but this function requires manual input for it)\n",
    "\n",
    "adj_S.loc['RF',:] = 0 # add risk-free assets\n",
    "adj_S.loc[:,'RF'] = 0"
   ]
  },
  {
   "cell_type": "code",
   "execution_count": 25,
   "metadata": {},
   "outputs": [
    {
     "name": "stdout",
     "output_type": "stream",
     "text": [
      "k = 1.528\n",
      "Expected annual return: 68.8%\n",
      "Annual volatility: 49.5%\n",
      "Sharpe Ratio: 1.37\n",
      "ADI     2.028551e-02\n",
      "AEIS    2.623477e-02\n",
      "AMAT    2.394303e-02\n",
      "AMD     3.900224e-02\n",
      "AVGO    2.448308e-02\n",
      "CRUS    1.725408e-04\n",
      "DIOD    2.528324e-02\n",
      "ENPH    1.406338e-01\n",
      "FLEX    5.334923e-03\n",
      "IIVI    6.503108e-02\n",
      "INTC    1.651831e-02\n",
      "JBL     7.917304e-03\n",
      "LRCX    5.065280e-02\n",
      "MCHP    2.807325e-02\n",
      "MRVL    6.151113e-02\n",
      "MTSI    8.348146e-02\n",
      "MU      1.744386e-02\n",
      "MXL     3.654643e-02\n",
      "NVDA    1.051378e-01\n",
      "NXPI    1.818852e-02\n",
      "OLED    8.765400e-12\n",
      "ON      2.096015e-02\n",
      "QCOM    2.839815e-02\n",
      "SGH     8.813902e-03\n",
      "SMTC    2.054431e-02\n",
      "SYNA    2.928064e-02\n",
      "TSM     2.881556e-02\n",
      "TTMI    8.987037e-03\n",
      "TXN     1.701921e-02\n",
      "XLNX    1.498977e-02\n",
      "RF      2.631613e-02\n",
      "dtype: float64\n",
      "\n",
      "\n",
      "CAT 1: 0.28331741752111783, CAT 2: 0.37273882227238775, CAT 3: 0.31762763439734526\n",
      "Expected annual return: 272.4%\n",
      "Annual volatility: 31.2%\n",
      "Sharpe Ratio: 8.71\n"
     ]
    }
   ],
   "source": [
    "ef = EfficientFrontier(adj_mu, adj_S, solver= solver)\n",
    "k = 1.528 \n",
    "print(f\"k = {k}\")\n",
    "\n",
    "ef.add_constraint(lambda x: x >= 0) # weights >= 0\n",
    "ef.add_constraint(lambda x: x <= 0.25) # weight <= 0.25\n",
    "\n",
    "sector_mapper = {} # initialise sector_mapper\n",
    "for stock in cat_1:\n",
    "  sector_mapper[stock] = 'cat_1'\n",
    "for stock in cat_2:\n",
    "  sector_mapper[stock] = 'cat_2'\n",
    "for stock in cat_3:\n",
    "  sector_mapper[stock] = 'cat_3'\n",
    "sector_mapper['RF'] = 'rf'\n",
    "\n",
    "sector_lower = {'cat_1': 0.2, 'cat_2': 0.2, 'cat_3': 0.2} # at least 20% to each category\n",
    "sector_upper = {'cat_1': 0.5, 'cat_2': 0.5, 'cat_3': 0.5} # not more than 50% to each category\n",
    "\n",
    "ef.add_sector_constraints(sector_mapper=sector_mapper, sector_lower=sector_lower, sector_upper=sector_upper) # add sector constraint\n",
    "\n",
    "ef.add_objective(objective_functions.L2_reg, gamma=10) # L2 regularisation parameter, defaults to 1. This adds a small weights penalty, gamma, to the objective function. Increase for more non-negligible weights. \n",
    "\n",
    "optimal_weights_portfolio = ef.max_quadratic_utility(risk_aversion = 2*k) # optimize by the quadratic utility function mean - k/2 * variance (hence the 2*k in the parameters)\n",
    "#ef.portfolio_performance(verbose=True, risk_free_rate=0.01) # can't use this anymore, its adjusted mean\n",
    "results = pd.Series(np.array(list(optimal_weights_portfolio.values())),index = np.append(in_sample_window.columns, 'RF'))\n",
    "_ = base_optimizer.portfolio_performance(results, mu, S, verbose=True, risk_free_rate=0.01)\n",
    "print(results)\n",
    "print('\\n')\n",
    "print(f'CAT 1: {results.loc[cat_1].sum()}, CAT 2: {results.loc[cat_2].sum()}, CAT 3: {results.loc[cat_3].sum()}')\n",
    "# check against out of sample window\n",
    "_ = base_optimizer.portfolio_performance(results, oos_mu, oos_S, verbose=True, risk_free_rate=0.01)"
   ]
  },
  {
   "cell_type": "code",
   "execution_count": 26,
   "metadata": {},
   "outputs": [],
   "source": [
    "comparison_table['4'] = np.round(results,2)"
   ]
  },
  {
   "cell_type": "markdown",
   "metadata": {},
   "source": [
    "# Attempt 5 -- Semivariance in place of variance\n",
    "- L2 regularization with gamma = 5\n",
    "- Exponentially moving mean, Semivariance in place of variance\n",
    "- Sub-sectors by market cap\n",
    "\n",
    "The semivariance is the variance of all returns which are below some benchmark. In this case, the benchmark is the risk-free rate. Although using the semi-covariance in terms of covariance in mean-variance optimization has been shown to not yield a portfolio efficient in semicovariance space, it can function as a heuristical approximation."
   ]
  },
  {
   "cell_type": "code",
   "execution_count": 27,
   "metadata": {},
   "outputs": [],
   "source": [
    "adj_mu = expected_returns.ema_historical_return(in_sample_window, span=250, returns_data=True)\n",
    "adj_mu['RF'] = 0.01 # add risk-free assets\n",
    "\n",
    "# Semicovariance\n",
    "adj_S = risk_models.semicovariance(in_sample_window, returns_data=True, benchmark=(1.01)**(1/252)-1)\n",
    "\n",
    "adj_S.loc['RF',:] = 0 # add risk-free assets\n",
    "adj_S.loc[:,'RF'] = 0"
   ]
  },
  {
   "cell_type": "code",
   "execution_count": 28,
   "metadata": {},
   "outputs": [
    {
     "name": "stdout",
     "output_type": "stream",
     "text": [
      "k = 1.528\n",
      "Expected annual return: 70.5%\n",
      "Annual volatility: 50.8%\n",
      "Sharpe Ratio: 1.37\n",
      "ADI     2.036288e-02\n",
      "AEIS    2.837289e-02\n",
      "AMAT    2.540476e-02\n",
      "AMD     3.729070e-02\n",
      "AVGO    2.275482e-02\n",
      "CRUS    8.631348e-04\n",
      "DIOD    2.412872e-02\n",
      "ENPH    1.510276e-01\n",
      "FLEX    5.931538e-03\n",
      "IIVI    6.467067e-02\n",
      "INTC    1.410947e-02\n",
      "JBL     6.046514e-03\n",
      "LRCX    5.428573e-02\n",
      "MCHP    3.082992e-02\n",
      "MRVL    6.097932e-02\n",
      "MTSI    8.494854e-02\n",
      "MU      1.891776e-02\n",
      "MXL     4.067400e-02\n",
      "NVDA    1.066023e-01\n",
      "NXPI    1.873399e-02\n",
      "OLED    2.122794e-10\n",
      "ON      2.527823e-02\n",
      "QCOM    2.630393e-02\n",
      "SGH     1.064886e-02\n",
      "SMTC    2.239645e-02\n",
      "SYNA    2.741079e-02\n",
      "TSM     2.406180e-02\n",
      "TTMI    7.304700e-03\n",
      "TXN     1.488352e-02\n",
      "XLNX    1.202334e-02\n",
      "RF      1.275312e-02\n",
      "dtype: float64\n",
      "\n",
      "\n",
      "CAT 1: 0.2714113131355616, CAT 2: 0.392438768839368, CAT 3: 0.32339680277693816\n",
      "Expected annual return: 285.3%\n",
      "Annual volatility: 31.9%\n",
      "Sharpe Ratio: 8.91\n"
     ]
    }
   ],
   "source": [
    "ef = EfficientFrontier(adj_mu, adj_S, solver= solver)\n",
    "k = 1.528 \n",
    "print(f\"k = {k}\")\n",
    "\n",
    "ef.add_constraint(lambda x: x >= 0) # weights >= 0\n",
    "ef.add_constraint(lambda x: x <= 0.25) # weight <= 0.25\n",
    "\n",
    "sector_mapper = {} # initialise sector_mapper\n",
    "for stock in cat_1:\n",
    "  sector_mapper[stock] = 'cat_1'\n",
    "for stock in cat_2:\n",
    "  sector_mapper[stock] = 'cat_2'\n",
    "for stock in cat_3:\n",
    "  sector_mapper[stock] = 'cat_3'\n",
    "sector_mapper['RF'] = 'rf'\n",
    "\n",
    "sector_lower = {'cat_1': 0.2, 'cat_2': 0.2, 'cat_3': 0.2} # at least 20% to each category\n",
    "sector_upper = {'cat_1': 0.5, 'cat_2': 0.5, 'cat_3': 0.5} # not more than 50% to each category\n",
    "\n",
    "ef.add_sector_constraints(sector_mapper=sector_mapper, sector_lower=sector_lower, sector_upper=sector_upper) # add sector constraint\n",
    "\n",
    "ef.add_objective(objective_functions.L2_reg, gamma=10) # L2 regularisation parameter, defaults to 1. This adds a small weights penalty, gamma, to the objective function. Increase for more non-negligible weights. \n",
    "\n",
    "optimal_weights_portfolio = ef.max_quadratic_utility(risk_aversion = 2*k) # optimize by the quadratic utility function mean - k/2 * variance (hence the 2*k in the parameters)\n",
    "#ef.portfolio_performance(verbose=True, risk_free_rate=0.01) # can't use this anymore, its adjusted mean\n",
    "results = pd.Series(np.array(list(optimal_weights_portfolio.values())),index = np.append(in_sample_window.columns, 'RF'))\n",
    "_ = base_optimizer.portfolio_performance(results, mu, S, verbose=True, risk_free_rate=0.01)\n",
    "print(results)\n",
    "print('\\n')\n",
    "print(f'CAT 1: {results.loc[cat_1].sum()}, CAT 2: {results.loc[cat_2].sum()}, CAT 3: {results.loc[cat_3].sum()}')\n",
    "# check against out of sample window\n",
    "_ = base_optimizer.portfolio_performance(results, oos_mu, oos_S, verbose=True, risk_free_rate=0.01)"
   ]
  },
  {
   "cell_type": "code",
   "execution_count": 29,
   "metadata": {},
   "outputs": [],
   "source": [
    "comparison_table['5'] = np.round(results,4)"
   ]
  },
  {
   "cell_type": "markdown",
   "metadata": {},
   "source": [
    "# Attempt 6 -- Black-Litterman allocation\n",
    "- L2 regularization with gamma = 5\n",
    "- Mean and Variance are estimated using black-litterman allocation\n",
    "- Black-Litterman allocation's view is estimated with the EMA of the mean.\n",
    "- Sub-sectors by market cap\n",
    "\n",
    "Refer: https://pyportfolioopt.readthedocs.io/en/latest/BlackLitterman.html\n",
    "\n",
    "Unless there's a large flaw in the logic of using EMA as the view, I expect we'll be using this method as our chosen method.\n"
   ]
  },
  {
   "cell_type": "code",
   "execution_count": 30,
   "metadata": {},
   "outputs": [],
   "source": [
    "k = 1.528 \n",
    "def calc_risk_aversion(market_returns, frequency = 252, risk_free_rate = 0.01):\n",
    "    '''\n",
    "    Function to obtain the the risk aversion of individual funds given the market returns. A modification of the market_implied_risk_aversion function from pypfopt's black_litterman implementation.\n",
    "    This modification takes in the daily market returns instead of the daily market prices. The original function also returns values un-compounded. Here, they are compounded.\n",
    "    \n",
    "    Parameters:\n",
    "    - market_returns (pd.DataFrame): Dataframe of the daily percentage returns. Tickers in the columns, and dates in the index. \n",
    "    - frequency (int, optional): number of time periods in a year, defaults to 252 (the number of trading days in a year)\n",
    "    - risk_free_rate (float, optional): risk-free rate of borrowing/lending, defaults to 0.01. The period of the risk-free rate should correspond to the frequency of expected returns.\n",
    "    \n",
    "    Returns:\n",
    "    - market-implied risk aversion (pd.Series)\n",
    "    '''\n",
    "    \n",
    "    r = (1+market_returns.mean()) ** frequency - 1\n",
    "    var = market_returns.var() * frequency\n",
    "    return (r - risk_free_rate) / var\n",
    "\n",
    "# read and process market cap data into a suitable format\n",
    "market_caps = pd.read_csv('market_cap_data.csv')\n",
    "market_caps2 = pd.Series(data=market_caps['MARKET CAP IN BILLIONS'].values)\n",
    "market_caps2.index = market_caps['TICKER'].values\n",
    "market_caps = market_caps2[market_caps2.index != 'RF']\n",
    "market_caps = market_caps.sort_index()\n",
    "\n",
    "# use the black-litterman allocation to generate the adjusted mean and variance\n",
    "\n",
    "cov_matrix = risk_models.CovarianceShrinkage(in_sample_window, returns_data=True).ledoit_wolf('constant_variance') # using a shrinkage covariance estimator\n",
    "\n",
    "risk_aversion = calc_risk_aversion(in_sample_window, frequency=252, risk_free_rate=0.01)\n",
    "prior_returns = black_litterman.market_implied_prior_returns(market_caps, risk_aversion, cov_matrix, risk_free_rate=0.01) # priors can be thought of the default estimate, in absense of information. \n",
    "                                                                                                                          # A natural choice for this prior is the market’s estimate of the return, \n",
    "                                                                                                                          # which is embedded into the market capitalisation of the asset.\n",
    "\n",
    "\n",
    "views = expected_returns.ema_historical_return(in_sample_window, span=250, returns_data=True) # here, we use the exponentially moving average mean historical return to represent our views on how the stock will grow\n",
    "\n",
    "bl_model = black_litterman.BlackLittermanModel(cov_matrix, pi=prior_returns, absolute_views=views, risk_aversion=k) \n",
    "\n",
    "adj_mu = bl_model.bl_returns() # posterior mean returns\n",
    "adj_mu['RF'] = 0.01 # add risk-free assets\n",
    "adj_S = bl_model.bl_cov() # posterior covariance\n",
    "adj_S.loc['RF',:] = 0 # add risk-free assets\n",
    "adj_S.loc[:,'RF'] = 0"
   ]
  },
  {
   "cell_type": "code",
   "execution_count": 31,
   "metadata": {},
   "outputs": [
    {
     "name": "stdout",
     "output_type": "stream",
     "text": [
      "k = 1.528\n",
      "Expected annual return: 76.2%\n",
      "Annual volatility: 48.1%\n",
      "Sharpe Ratio: 1.56\n",
      "ADI     0.0174\n",
      "AEIS    0.0184\n",
      "AMAT    0.0290\n",
      "AMD     0.0567\n",
      "AVGO    0.0161\n",
      "CRUS    0.0147\n",
      "DIOD    0.0293\n",
      "ENPH    0.1230\n",
      "FLEX    0.0001\n",
      "IIVI    0.0498\n",
      "INTC    0.0246\n",
      "JBL     0.0049\n",
      "LRCX    0.0558\n",
      "MCHP    0.0232\n",
      "MRVL    0.0568\n",
      "MTSI    0.0961\n",
      "MU      0.0260\n",
      "MXL     0.0101\n",
      "NVDA    0.1254\n",
      "NXPI    0.0114\n",
      "OLED    0.0000\n",
      "ON      0.0040\n",
      "QCOM    0.0266\n",
      "SGH     0.0094\n",
      "SMTC    0.0121\n",
      "SYNA    0.0521\n",
      "TSM     0.0553\n",
      "TTMI    0.0108\n",
      "TXN     0.0167\n",
      "XLNX    0.0000\n",
      "RF      0.0241\n",
      "dtype: float64\n",
      "\n",
      "\n",
      "CAT 1: 0.35042681597591985, CAT 2: 0.3175934705098195, CAT 3: 0.3078403184444723\n",
      "Expected annual return: 254.4%\n",
      "Annual volatility: 30.7%\n",
      "Sharpe Ratio: 8.24\n"
     ]
    }
   ],
   "source": [
    "ef = EfficientFrontier(adj_mu, adj_S, solver=solver)\n",
    "k = 1.528 \n",
    "print(f\"k = {k}\")\n",
    "\n",
    "ef.add_constraint(lambda x: x >= 0) # weights >= 0\n",
    "ef.add_constraint(lambda x: x <= 0.25) # weight <= 0.25\n",
    "\n",
    "sector_mapper = {} # initialise sector_mapper\n",
    "for stock in cat_1:\n",
    "  sector_mapper[stock] = 'cat_1'\n",
    "for stock in cat_2:\n",
    "  sector_mapper[stock] = 'cat_2'\n",
    "for stock in cat_3:\n",
    "  sector_mapper[stock] = 'cat_3'\n",
    "sector_mapper['RF'] = 'rf'\n",
    "\n",
    "sector_lower = {'cat_1': 0.2, 'cat_2': 0.2, 'cat_3': 0.2} # at least 20% to each category\n",
    "sector_upper = {'cat_1': 0.5, 'cat_2': 0.5, 'cat_3': 0.5} # not more than 50% to each category\n",
    "\n",
    "ef.add_sector_constraints(sector_mapper=sector_mapper, sector_lower=sector_lower, sector_upper=sector_upper) # add sector constraint\n",
    "\n",
    "ef.add_objective(objective_functions.L2_reg, gamma=5) # L2 regularisation parameter, defaults to 1. This adds a small weights penalty, gamma, to the objective function. Increase for more non-negligible weights. \n",
    "\n",
    "optimal_weights_portfolio = ef.max_quadratic_utility(risk_aversion = 2*k) # optimize by the quadratic utility function mean - k/2 * variance (hence the 2*k in the parameters)\n",
    "results = pd.Series(np.array(list(optimal_weights_portfolio.values())),index = np.append(in_sample_window.columns, 'RF'))\n",
    "_ = base_optimizer.portfolio_performance(results, mu, S, verbose=True, risk_free_rate=0.01)\n",
    "print(np.round(results,4))\n",
    "print('\\n')\n",
    "print(f'CAT 1: {results.loc[cat_1].sum()}, CAT 2: {results.loc[cat_2].sum()}, CAT 3: {results.loc[cat_3].sum()}')\n",
    "# check against out of sample window\n",
    "_ = base_optimizer.portfolio_performance(results, oos_mu, oos_S, verbose=True, risk_free_rate=0.01)"
   ]
  },
  {
   "cell_type": "code",
   "execution_count": 32,
   "metadata": {},
   "outputs": [],
   "source": [
    "comparison_table['6'] = np.round(results,4)"
   ]
  },
  {
   "cell_type": "markdown",
   "metadata": {},
   "source": [
    "## 2.2 Portfolio Allocation\n",
    "Convert the continuous weight values into an integer allocation (You can't buy half a 0.05 of a stock, for example). Using discrete allocation, we can buy the closest number of shares that gets us to the desired weightage. \n",
    "\n",
    "We use the Integer Programming method provided by Martin, R. A., (2021) in his PyPortfolioOpt library to generate the allocation closest to our desired weights. The method was first implemented by Dingyuan Wang (https://github.com/gumblex), and adapted by the the creator of PyPortfolioOpt for use in his API. \n",
    "\n",
    "Integer Programming approaches the problem of allocation by searching the space of possible allocations to find the closest match to our calculated weights. It is essentially an optimization problem, minimizing:\n",
    "$$r = T - x*P$$\n",
    "where:\n",
    "- $r$ = remaining unallocated value\n",
    "- $T$ = Total amount available for allocation\n",
    "- $x$ = integer allocation\n",
    "- $p$ = price of the stock\n"
   ]
  },
  {
   "cell_type": "code",
   "execution_count": 33,
   "metadata": {},
   "outputs": [],
   "source": [
    "# collect prices at 2020-12-31\n",
    "latest_prices = {}\n",
    "for ticker, df in stocks_30.items():\n",
    "    latest_prices[ticker] = df['Adj Close'][df.Date == '2020-12-31'].values[0]\n",
    "latest_prices = pd.Series(latest_prices)\n",
    "latest_prices['RF'] = 100/1.01"
   ]
  },
  {
   "cell_type": "markdown",
   "metadata": {},
   "source": [
    "Assume risk-free assets = 1 year risk-free zero coupon bond with 1% YTM until told otherwise, with face value = \\$100"
   ]
  },
  {
   "cell_type": "code",
   "execution_count": 34,
   "metadata": {},
   "outputs": [
    {
     "name": "stdout",
     "output_type": "stream",
     "text": [
      "Amount leftover: $54.81815528869629\n",
      "Portfolio value: $4999999945.181845\n"
     ]
    }
   ],
   "source": [
    "# allocate money\n",
    "T=5000000000 # 5 billion\n",
    "allocation = discrete_allocation.DiscreteAllocation(results.to_dict(),latest_prices,T)\n",
    "\n",
    "#!pip install cvxopt # to get access to the solver used in the allocation\n",
    "\n",
    "discrete_allo = allocation.lp_portfolio()\n",
    "portfolio_value = T-discrete_allo[1]\n",
    "print(f\"Amount leftover: ${discrete_allo[1]}\")\n",
    "print(f\"Portfolio value: ${portfolio_value}\")"
   ]
  },
  {
   "cell_type": "code",
   "execution_count": 35,
   "metadata": {},
   "outputs": [
    {
     "name": "stdout",
     "output_type": "stream",
     "text": [
      "Integer Allocation\n"
     ]
    },
    {
     "data": {
      "text/plain": [
       "ADI      594883\n",
       "AEIS     951879\n",
       "AMAT    1690447\n",
       "AMD     3092142\n",
       "AVGO     187958\n",
       "CRUS     896381\n",
       "DIOD    2080021\n",
       "ENPH    3505099\n",
       "FLEX      29959\n",
       "IIVI    3278283\n",
       "INTC    2515819\n",
       "JBL      577374\n",
       "LRCX     594480\n",
       "MCHP     847028\n",
       "MRVL    5983559\n",
       "MTSI    8725515\n",
       "MU      1733133\n",
       "MXL     1316605\n",
       "NVDA    4805429\n",
       "NXPI     362494\n",
       "ON       617921\n",
       "QCOM     885375\n",
       "SGH     1253420\n",
       "SMTC     842038\n",
       "SYNA    2699987\n",
       "TSM     2567068\n",
       "TTMI    3926614\n",
       "TXN      517725\n",
       "RF      1219038\n",
       "dtype: int64"
      ]
     },
     "execution_count": 35,
     "metadata": {},
     "output_type": "execute_result"
    }
   ],
   "source": [
    "# print integer allocation\n",
    "print(f\"Integer Allocation\")\n",
    "pd.Series(discrete_allo[0])"
   ]
  },
  {
   "cell_type": "code",
   "execution_count": 36,
   "metadata": {},
   "outputs": [
    {
     "name": "stdout",
     "output_type": "stream",
     "text": [
      "Actual Weights\n"
     ]
    }
   ],
   "source": [
    "# print actual weights\n",
    "print(\"Actual Weights\")\n",
    "actual_weights = (pd.Series(discrete_allo[0])*latest_prices)/portfolio_value\n",
    "comparison_table['actual weights'] = actual_weights.fillna(0)"
   ]
  },
  {
   "cell_type": "markdown",
   "metadata": {
    "id": "l7DJ7ZiijhuI"
   },
   "source": [
    "## 3. Evaluation\n",
    "\n",
    "Add any other relevant data.\n",
    "Even if we don't need to compare old vs new portfolio, we still need this data for VaR calculations"
   ]
  },
  {
   "cell_type": "code",
   "execution_count": 37,
   "metadata": {},
   "outputs": [
    {
     "data": {
      "text/html": [
       "<div>\n",
       "<style scoped>\n",
       "    .dataframe tbody tr th:only-of-type {\n",
       "        vertical-align: middle;\n",
       "    }\n",
       "\n",
       "    .dataframe tbody tr th {\n",
       "        vertical-align: top;\n",
       "    }\n",
       "\n",
       "    .dataframe thead th {\n",
       "        text-align: right;\n",
       "    }\n",
       "</style>\n",
       "<table border=\"1\" class=\"dataframe\">\n",
       "  <thead>\n",
       "    <tr style=\"text-align: right;\">\n",
       "      <th></th>\n",
       "      <th>original weights</th>\n",
       "      <th>1</th>\n",
       "      <th>2</th>\n",
       "      <th>3</th>\n",
       "      <th>4</th>\n",
       "      <th>5</th>\n",
       "      <th>6</th>\n",
       "      <th>actual weights</th>\n",
       "    </tr>\n",
       "    <tr>\n",
       "      <th>Ticker Symbol Given by the Exchange</th>\n",
       "      <th></th>\n",
       "      <th></th>\n",
       "      <th></th>\n",
       "      <th></th>\n",
       "      <th></th>\n",
       "      <th></th>\n",
       "      <th></th>\n",
       "      <th></th>\n",
       "    </tr>\n",
       "  </thead>\n",
       "  <tbody>\n",
       "    <tr>\n",
       "      <th>SYNA</th>\n",
       "      <td>0.005068</td>\n",
       "      <td>0.20</td>\n",
       "      <td>0.10</td>\n",
       "      <td>0.10</td>\n",
       "      <td>0.03</td>\n",
       "      <td>0.0274</td>\n",
       "      <td>0.0521</td>\n",
       "      <td>0.052056</td>\n",
       "    </tr>\n",
       "    <tr>\n",
       "      <th>MRVL</th>\n",
       "      <td>0.055538</td>\n",
       "      <td>0.00</td>\n",
       "      <td>0.04</td>\n",
       "      <td>0.05</td>\n",
       "      <td>0.06</td>\n",
       "      <td>0.0610</td>\n",
       "      <td>0.0568</td>\n",
       "      <td>0.056764</td>\n",
       "    </tr>\n",
       "    <tr>\n",
       "      <th>SGH</th>\n",
       "      <td>0.004757</td>\n",
       "      <td>0.00</td>\n",
       "      <td>0.00</td>\n",
       "      <td>0.00</td>\n",
       "      <td>0.01</td>\n",
       "      <td>0.0106</td>\n",
       "      <td>0.0094</td>\n",
       "      <td>0.009433</td>\n",
       "    </tr>\n",
       "    <tr>\n",
       "      <th>ENPH</th>\n",
       "      <td>0.029372</td>\n",
       "      <td>0.25</td>\n",
       "      <td>0.13</td>\n",
       "      <td>0.11</td>\n",
       "      <td>0.14</td>\n",
       "      <td>0.1510</td>\n",
       "      <td>0.1230</td>\n",
       "      <td>0.123008</td>\n",
       "    </tr>\n",
       "    <tr>\n",
       "      <th>JBL</th>\n",
       "      <td>0.014479</td>\n",
       "      <td>0.00</td>\n",
       "      <td>0.01</td>\n",
       "      <td>0.00</td>\n",
       "      <td>0.01</td>\n",
       "      <td>0.0060</td>\n",
       "      <td>0.0049</td>\n",
       "      <td>0.004888</td>\n",
       "    </tr>\n",
       "    <tr>\n",
       "      <th>CRUS</th>\n",
       "      <td>0.021512</td>\n",
       "      <td>0.00</td>\n",
       "      <td>0.03</td>\n",
       "      <td>0.03</td>\n",
       "      <td>0.00</td>\n",
       "      <td>0.0009</td>\n",
       "      <td>0.0147</td>\n",
       "      <td>0.014737</td>\n",
       "    </tr>\n",
       "    <tr>\n",
       "      <th>MCHP</th>\n",
       "      <td>0.049436</td>\n",
       "      <td>0.00</td>\n",
       "      <td>0.00</td>\n",
       "      <td>0.01</td>\n",
       "      <td>0.03</td>\n",
       "      <td>0.0308</td>\n",
       "      <td>0.0232</td>\n",
       "      <td>0.023202</td>\n",
       "    </tr>\n",
       "    <tr>\n",
       "      <th>AEIS</th>\n",
       "      <td>0.007550</td>\n",
       "      <td>0.00</td>\n",
       "      <td>0.02</td>\n",
       "      <td>0.00</td>\n",
       "      <td>0.03</td>\n",
       "      <td>0.0284</td>\n",
       "      <td>0.0184</td>\n",
       "      <td>0.018402</td>\n",
       "    </tr>\n",
       "    <tr>\n",
       "      <th>MTSI</th>\n",
       "      <td>0.007033</td>\n",
       "      <td>0.25</td>\n",
       "      <td>0.11</td>\n",
       "      <td>0.11</td>\n",
       "      <td>0.08</td>\n",
       "      <td>0.0849</td>\n",
       "      <td>0.0961</td>\n",
       "      <td>0.096050</td>\n",
       "    </tr>\n",
       "    <tr>\n",
       "      <th>AMAT</th>\n",
       "      <td>0.022029</td>\n",
       "      <td>0.00</td>\n",
       "      <td>0.02</td>\n",
       "      <td>0.02</td>\n",
       "      <td>0.02</td>\n",
       "      <td>0.0254</td>\n",
       "      <td>0.0290</td>\n",
       "      <td>0.029018</td>\n",
       "    </tr>\n",
       "    <tr>\n",
       "      <th>NVDA</th>\n",
       "      <td>0.196711</td>\n",
       "      <td>0.25</td>\n",
       "      <td>0.12</td>\n",
       "      <td>0.12</td>\n",
       "      <td>0.11</td>\n",
       "      <td>0.1066</td>\n",
       "      <td>0.1254</td>\n",
       "      <td>0.125376</td>\n",
       "    </tr>\n",
       "    <tr>\n",
       "      <th>ON</th>\n",
       "      <td>0.044369</td>\n",
       "      <td>0.00</td>\n",
       "      <td>0.00</td>\n",
       "      <td>0.00</td>\n",
       "      <td>0.02</td>\n",
       "      <td>0.0253</td>\n",
       "      <td>0.0040</td>\n",
       "      <td>0.004045</td>\n",
       "    </tr>\n",
       "    <tr>\n",
       "      <th>TTMI</th>\n",
       "      <td>0.006929</td>\n",
       "      <td>0.00</td>\n",
       "      <td>0.03</td>\n",
       "      <td>0.02</td>\n",
       "      <td>0.01</td>\n",
       "      <td>0.0073</td>\n",
       "      <td>0.0108</td>\n",
       "      <td>0.010837</td>\n",
       "    </tr>\n",
       "    <tr>\n",
       "      <th>SMTC</th>\n",
       "      <td>0.005378</td>\n",
       "      <td>0.00</td>\n",
       "      <td>0.00</td>\n",
       "      <td>0.00</td>\n",
       "      <td>0.02</td>\n",
       "      <td>0.0224</td>\n",
       "      <td>0.0121</td>\n",
       "      <td>0.012141</td>\n",
       "    </tr>\n",
       "    <tr>\n",
       "      <th>AVGO</th>\n",
       "      <td>0.048506</td>\n",
       "      <td>0.00</td>\n",
       "      <td>0.01</td>\n",
       "      <td>0.01</td>\n",
       "      <td>0.02</td>\n",
       "      <td>0.0228</td>\n",
       "      <td>0.0161</td>\n",
       "      <td>0.016087</td>\n",
       "    </tr>\n",
       "    <tr>\n",
       "      <th>XLNX</th>\n",
       "      <td>0.047988</td>\n",
       "      <td>0.00</td>\n",
       "      <td>0.00</td>\n",
       "      <td>0.00</td>\n",
       "      <td>0.01</td>\n",
       "      <td>0.0120</td>\n",
       "      <td>0.0000</td>\n",
       "      <td>0.000000</td>\n",
       "    </tr>\n",
       "    <tr>\n",
       "      <th>TSM</th>\n",
       "      <td>0.011480</td>\n",
       "      <td>0.00</td>\n",
       "      <td>0.06</td>\n",
       "      <td>0.06</td>\n",
       "      <td>0.03</td>\n",
       "      <td>0.0241</td>\n",
       "      <td>0.0553</td>\n",
       "      <td>0.055332</td>\n",
       "    </tr>\n",
       "    <tr>\n",
       "      <th>IIVI</th>\n",
       "      <td>0.009929</td>\n",
       "      <td>0.00</td>\n",
       "      <td>0.04</td>\n",
       "      <td>0.03</td>\n",
       "      <td>0.07</td>\n",
       "      <td>0.0647</td>\n",
       "      <td>0.0498</td>\n",
       "      <td>0.049804</td>\n",
       "    </tr>\n",
       "    <tr>\n",
       "      <th>QCOM</th>\n",
       "      <td>0.069500</td>\n",
       "      <td>0.00</td>\n",
       "      <td>0.02</td>\n",
       "      <td>0.02</td>\n",
       "      <td>0.03</td>\n",
       "      <td>0.0263</td>\n",
       "      <td>0.0266</td>\n",
       "      <td>0.026588</td>\n",
       "    </tr>\n",
       "    <tr>\n",
       "      <th>NXPI</th>\n",
       "      <td>0.062881</td>\n",
       "      <td>0.00</td>\n",
       "      <td>0.00</td>\n",
       "      <td>0.01</td>\n",
       "      <td>0.02</td>\n",
       "      <td>0.0187</td>\n",
       "      <td>0.0114</td>\n",
       "      <td>0.011431</td>\n",
       "    </tr>\n",
       "    <tr>\n",
       "      <th>FLEX</th>\n",
       "      <td>0.006826</td>\n",
       "      <td>0.00</td>\n",
       "      <td>0.01</td>\n",
       "      <td>0.00</td>\n",
       "      <td>0.01</td>\n",
       "      <td>0.0059</td>\n",
       "      <td>0.0001</td>\n",
       "      <td>0.000108</td>\n",
       "    </tr>\n",
       "    <tr>\n",
       "      <th>DIOD</th>\n",
       "      <td>0.009412</td>\n",
       "      <td>0.00</td>\n",
       "      <td>0.03</td>\n",
       "      <td>0.04</td>\n",
       "      <td>0.03</td>\n",
       "      <td>0.0241</td>\n",
       "      <td>0.0293</td>\n",
       "      <td>0.029328</td>\n",
       "    </tr>\n",
       "    <tr>\n",
       "      <th>AMD</th>\n",
       "      <td>0.054711</td>\n",
       "      <td>0.00</td>\n",
       "      <td>0.06</td>\n",
       "      <td>0.07</td>\n",
       "      <td>0.04</td>\n",
       "      <td>0.0373</td>\n",
       "      <td>0.0567</td>\n",
       "      <td>0.056716</td>\n",
       "    </tr>\n",
       "    <tr>\n",
       "      <th>MXL</th>\n",
       "      <td>0.006205</td>\n",
       "      <td>0.00</td>\n",
       "      <td>0.00</td>\n",
       "      <td>0.00</td>\n",
       "      <td>0.04</td>\n",
       "      <td>0.0407</td>\n",
       "      <td>0.0101</td>\n",
       "      <td>0.010056</td>\n",
       "    </tr>\n",
       "    <tr>\n",
       "      <th>ADI</th>\n",
       "      <td>0.013445</td>\n",
       "      <td>0.00</td>\n",
       "      <td>0.00</td>\n",
       "      <td>0.01</td>\n",
       "      <td>0.02</td>\n",
       "      <td>0.0204</td>\n",
       "      <td>0.0174</td>\n",
       "      <td>0.017354</td>\n",
       "    </tr>\n",
       "    <tr>\n",
       "      <th>INTC</th>\n",
       "      <td>0.039715</td>\n",
       "      <td>0.00</td>\n",
       "      <td>0.02</td>\n",
       "      <td>0.03</td>\n",
       "      <td>0.02</td>\n",
       "      <td>0.0141</td>\n",
       "      <td>0.0246</td>\n",
       "      <td>0.024604</td>\n",
       "    </tr>\n",
       "    <tr>\n",
       "      <th>TXN</th>\n",
       "      <td>0.029372</td>\n",
       "      <td>0.00</td>\n",
       "      <td>0.01</td>\n",
       "      <td>0.02</td>\n",
       "      <td>0.02</td>\n",
       "      <td>0.0149</td>\n",
       "      <td>0.0167</td>\n",
       "      <td>0.016707</td>\n",
       "    </tr>\n",
       "    <tr>\n",
       "      <th>LRCX</th>\n",
       "      <td>0.047471</td>\n",
       "      <td>0.00</td>\n",
       "      <td>0.05</td>\n",
       "      <td>0.06</td>\n",
       "      <td>0.05</td>\n",
       "      <td>0.0543</td>\n",
       "      <td>0.0558</td>\n",
       "      <td>0.055766</td>\n",
       "    </tr>\n",
       "    <tr>\n",
       "      <th>MU</th>\n",
       "      <td>0.060192</td>\n",
       "      <td>0.00</td>\n",
       "      <td>0.02</td>\n",
       "      <td>0.02</td>\n",
       "      <td>0.02</td>\n",
       "      <td>0.0189</td>\n",
       "      <td>0.0260</td>\n",
       "      <td>0.026023</td>\n",
       "    </tr>\n",
       "    <tr>\n",
       "      <th>OLED</th>\n",
       "      <td>0.012204</td>\n",
       "      <td>0.00</td>\n",
       "      <td>0.00</td>\n",
       "      <td>0.00</td>\n",
       "      <td>0.00</td>\n",
       "      <td>0.0000</td>\n",
       "      <td>0.0000</td>\n",
       "      <td>0.000000</td>\n",
       "    </tr>\n",
       "    <tr>\n",
       "      <th>RF</th>\n",
       "      <td>0.000000</td>\n",
       "      <td>0.05</td>\n",
       "      <td>0.07</td>\n",
       "      <td>0.06</td>\n",
       "      <td>0.03</td>\n",
       "      <td>0.0128</td>\n",
       "      <td>0.0241</td>\n",
       "      <td>0.024139</td>\n",
       "    </tr>\n",
       "  </tbody>\n",
       "</table>\n",
       "</div>"
      ],
      "text/plain": [
       "                                     original weights     1     2     3     4  \\\n",
       "Ticker Symbol Given by the Exchange                                             \n",
       "SYNA                                         0.005068  0.20  0.10  0.10  0.03   \n",
       "MRVL                                         0.055538  0.00  0.04  0.05  0.06   \n",
       "SGH                                          0.004757  0.00  0.00  0.00  0.01   \n",
       "ENPH                                         0.029372  0.25  0.13  0.11  0.14   \n",
       "JBL                                          0.014479  0.00  0.01  0.00  0.01   \n",
       "CRUS                                         0.021512  0.00  0.03  0.03  0.00   \n",
       "MCHP                                         0.049436  0.00  0.00  0.01  0.03   \n",
       "AEIS                                         0.007550  0.00  0.02  0.00  0.03   \n",
       "MTSI                                         0.007033  0.25  0.11  0.11  0.08   \n",
       "AMAT                                         0.022029  0.00  0.02  0.02  0.02   \n",
       "NVDA                                         0.196711  0.25  0.12  0.12  0.11   \n",
       "ON                                           0.044369  0.00  0.00  0.00  0.02   \n",
       "TTMI                                         0.006929  0.00  0.03  0.02  0.01   \n",
       "SMTC                                         0.005378  0.00  0.00  0.00  0.02   \n",
       "AVGO                                         0.048506  0.00  0.01  0.01  0.02   \n",
       "XLNX                                         0.047988  0.00  0.00  0.00  0.01   \n",
       "TSM                                          0.011480  0.00  0.06  0.06  0.03   \n",
       "IIVI                                         0.009929  0.00  0.04  0.03  0.07   \n",
       "QCOM                                         0.069500  0.00  0.02  0.02  0.03   \n",
       "NXPI                                         0.062881  0.00  0.00  0.01  0.02   \n",
       "FLEX                                         0.006826  0.00  0.01  0.00  0.01   \n",
       "DIOD                                         0.009412  0.00  0.03  0.04  0.03   \n",
       "AMD                                          0.054711  0.00  0.06  0.07  0.04   \n",
       "MXL                                          0.006205  0.00  0.00  0.00  0.04   \n",
       "ADI                                          0.013445  0.00  0.00  0.01  0.02   \n",
       "INTC                                         0.039715  0.00  0.02  0.03  0.02   \n",
       "TXN                                          0.029372  0.00  0.01  0.02  0.02   \n",
       "LRCX                                         0.047471  0.00  0.05  0.06  0.05   \n",
       "MU                                           0.060192  0.00  0.02  0.02  0.02   \n",
       "OLED                                         0.012204  0.00  0.00  0.00  0.00   \n",
       "RF                                           0.000000  0.05  0.07  0.06  0.03   \n",
       "\n",
       "                                          5       6  actual weights  \n",
       "Ticker Symbol Given by the Exchange                                  \n",
       "SYNA                                 0.0274  0.0521        0.052056  \n",
       "MRVL                                 0.0610  0.0568        0.056764  \n",
       "SGH                                  0.0106  0.0094        0.009433  \n",
       "ENPH                                 0.1510  0.1230        0.123008  \n",
       "JBL                                  0.0060  0.0049        0.004888  \n",
       "CRUS                                 0.0009  0.0147        0.014737  \n",
       "MCHP                                 0.0308  0.0232        0.023202  \n",
       "AEIS                                 0.0284  0.0184        0.018402  \n",
       "MTSI                                 0.0849  0.0961        0.096050  \n",
       "AMAT                                 0.0254  0.0290        0.029018  \n",
       "NVDA                                 0.1066  0.1254        0.125376  \n",
       "ON                                   0.0253  0.0040        0.004045  \n",
       "TTMI                                 0.0073  0.0108        0.010837  \n",
       "SMTC                                 0.0224  0.0121        0.012141  \n",
       "AVGO                                 0.0228  0.0161        0.016087  \n",
       "XLNX                                 0.0120  0.0000        0.000000  \n",
       "TSM                                  0.0241  0.0553        0.055332  \n",
       "IIVI                                 0.0647  0.0498        0.049804  \n",
       "QCOM                                 0.0263  0.0266        0.026588  \n",
       "NXPI                                 0.0187  0.0114        0.011431  \n",
       "FLEX                                 0.0059  0.0001        0.000108  \n",
       "DIOD                                 0.0241  0.0293        0.029328  \n",
       "AMD                                  0.0373  0.0567        0.056716  \n",
       "MXL                                  0.0407  0.0101        0.010056  \n",
       "ADI                                  0.0204  0.0174        0.017354  \n",
       "INTC                                 0.0141  0.0246        0.024604  \n",
       "TXN                                  0.0149  0.0167        0.016707  \n",
       "LRCX                                 0.0543  0.0558        0.055766  \n",
       "MU                                   0.0189  0.0260        0.026023  \n",
       "OLED                                 0.0000  0.0000        0.000000  \n",
       "RF                                   0.0128  0.0241        0.024139  "
      ]
     },
     "execution_count": 37,
     "metadata": {},
     "output_type": "execute_result"
    }
   ],
   "source": [
    "comparison_table"
   ]
  },
  {
   "cell_type": "code",
   "execution_count": 38,
   "metadata": {},
   "outputs": [
    {
     "data": {
      "image/png": "[encoded data removed]",
      "text/plain": [
       "<Figure size 1440x720 with 1 Axes>"
      ]
     },
     "metadata": {
      "needs_background": "light"
     },
     "output_type": "display_data"
    }
   ],
   "source": [
    "import matplotlib.pyplot as plt\n",
    "_ = comparison_table.loc[:,[\"original weights\",\"actual weights\"]].plot(kind='bar', figsize=(20,10))"
   ]
  },
  {
   "cell_type": "markdown",
   "metadata": {},
   "source": [
    "# Q4 VaR and ES\n"
   ]
  },
  {
   "cell_type": "code",
   "execution_count": 223,
   "metadata": {},
   "outputs": [],
   "source": [
    "def get_historical_risk(returns_df, rolling_window_size, dates, weights, decay=0.98, risk_free_rate = 0.01):\n",
    "    '''\n",
    "    Function to obtain the historical risk given the dates provided. Assumes 5% VaR and 5% ES.\n",
    "    \n",
    "    Parameters:\n",
    "    - returns_df (pd.DataFrame): Dataframe of the daily percentage returns. Tickers in the columns, and dates in the index. \n",
    "    - rolling_window_size (int): Integer ditating the size of the rolling window to consider when calculating the historical risk.\n",
    "    - dates (list-like): Integer or list-like object containing the dates to calculate historical VaR for.\n",
    "    - weights (pd.Series): Pandas series object containing the weights of each investment. Index is the ticker names for each investment.\n",
    "    \n",
    "    Returns:\n",
    "    - risk_df (pd.DataFrame): Dataframe of the log VaR and ES of each provided date. Dates are the index.\n",
    "    '''\n",
    "    \n",
    "    if isinstance(dates, dict):\n",
    "        if ('start_date' or 'end_date') not in dates.keys():\n",
    "            raise ValueError(\"Missing start_date or end_date variable.\")\n",
    "        start_date = dates['start_date']\n",
    "        end_date = dates['end_date']\n",
    "        dates = returns_df[(returns_df.index>=start_date)&(returns_df.index<=end_date)].index.values\n",
    "    \n",
    "    elif not isinstance(dates, list):\n",
    "        dates = [dates,]\n",
    "    \n",
    "    not_found = [date for date in dates if date not in returns_df.index]\n",
    "    if any(not_found):\n",
    "        raise ValueError(f\"{not_found} not found in provided data\")\n",
    "        \n",
    "    returns_df.loc[:,'RF'] = (1+risk_free_rate)**(1/252) -1\n",
    "        \n",
    "    historical_returns = np.log((returns_df*weights).sum(axis=1)+1) # calculate the historical returns of the portfolio after weighting, then log it\n",
    "    historical_var = np.zeros(len(dates)) # create empty array for fast data read/write\n",
    "    historical_ES = np.zeros(len(dates)) # create empty array for fast data read/write\n",
    "    \n",
    "    for day_index in range(len(dates)): # for each date\n",
    "        date = dates[day_index]\n",
    "        window = pd.DataFrame(historical_returns[historical_returns.index<date].iloc[-rolling_window_size:].copy())\n",
    "        window['recency'] = [rolling_window_size-i for i in range(rolling_window_size)] # adds a new column 'recency', with a value of 1 assigned to the current day and a value of 250 assigned to the earliest day in the window.\n",
    "        window['weighting factor'] = [decay**recency for recency in window['recency']] # generate weighting factor of decay^recency\n",
    "        window['adjusted'] = window['weighting factor']/window['weighting factor'].sum() # adjust weighting factor such that the cumsum = 1\n",
    "        window = window.sort_values(by=[0]) # sort values by return\n",
    "        window['cumulative'] = window['adjusted'].cumsum() # generate cumsum column\n",
    "        historical_var[day_index] = window[0].values[np.abs(window['cumulative']-0.01).argmin()] # get 5% percentile for VaR\n",
    "\n",
    "        sum_of_loss_returns = np.sum(window.iloc[np.where(window[0] < historical_var[day_index])].loc[:,0]) # formula for ES, select all values lower than the 5% VaR and sum them.\n",
    "        historical_ES[day_index] = sum_of_loss_returns/(rolling_window_size*0.05) # formula for ES\n",
    "    \n",
    "    risk_df = pd.DataFrame([historical_var,historical_ES],index=['5% VaR', '5% ES'],columns=dates).T\n",
    "    \n",
    "    return risk_df\n",
    "        "
   ]
  },
  {
   "cell_type": "code",
   "execution_count": 266,
   "metadata": {},
   "outputs": [],
   "source": [
    "# NOTE: LOG\n",
    "from scipy.stats import norm\n",
    "def get_parametric_risk(returns_df, rolling_window_size, dates, weights, risk_free_rate = 0.01):\n",
    "    '''\n",
    "    Function to obtain the parametric risk given the dates provided. Assumes 5% VaR and 5% ES, and normal distribution.\n",
    "    Variance is calculated as \n",
    "    \n",
    "    Parameters:\n",
    "    - returns_df (pd.DataFrame): Dataframe of the daily percentage returns. Tickers in the columns, and dates in the index. \n",
    "    - rolling_window_size (int): Integer ditating the size of the rolling window to consider when calculating the historical risk.\n",
    "    - dates (list-like): Integer or list-like object containing the dates to calculate historical VaR for.\n",
    "    - weights (pd.Series): Pandas series object containing the weights of each investment. Index is the ticker names for each investment.\n",
    "    \n",
    "    Returns:\n",
    "    - risk_df (pd.DataFrame): Dataframe of the log VaR and ES of each provided date. Dates are the index.\n",
    "    '''\n",
    "    \n",
    "    if isinstance(dates, dict):\n",
    "        if ('start_date' or 'end_date') not in dates.keys():\n",
    "            raise ValueError(\"Missing start_date or end_date variable.\")\n",
    "        start_date = dates['start_date']\n",
    "        end_date = dates['end_date']\n",
    "        dates = returns_df[(returns_df.index>=start_date)&(returns_df.index<=end_date)].index.values\n",
    "    \n",
    "    elif not isinstance(dates, list):\n",
    "        dates = [dates,]\n",
    "    \n",
    "    not_found = [date for date in dates if date not in returns_df.index]\n",
    "    if any(not_found):\n",
    "        raise ValueError(f\"{not_found} not found in provided data\")\n",
    "        \n",
    "    returns_df.loc[:,'RF'] = (1+risk_free_rate)**(1/252) -1\n",
    "        \n",
    "    parametric_var = np.zeros(len(dates)) # create empty array for fast data read/write\n",
    "    parametric_ES = np.zeros(len(dates)) # create empty array for fast data read/write\n",
    "    \n",
    "    for day_index in range(len(dates)): # for each date\n",
    "        date = dates[day_index]\n",
    "        \n",
    "        individual_window = returns_df[returns_df.index<date].iloc[-rolling_window_size:] # collect the values for the logreturns for each individual stock, inclusive of the day itself\n",
    "        \n",
    "        # calculate mean\n",
    "        mu = expected_returns.ema_historical_return(individual_window, span=250, returns_data=True) # this gives annual returns\n",
    "        mu = (mu+1)**(1/252)-1 # convert to daily results\n",
    "        log_mean_return = np.log((mu.values*weights).sum() +1) # in log\n",
    "        \n",
    "        # calculate variance \n",
    "        S = np.log(risk_models.CovarianceShrinkage(individual_window, returns_data=True).ledoit_wolf('constant_variance')/252+1) # get shrinkage covariance matrix, divide by 252 to get daily values, then log it\n",
    "        \n",
    "        variance_return = np.dot(weights, np.dot(S, weights)) # calculate portfolio variance\n",
    "\n",
    "        # calculate VaR and ES\n",
    "        volatility = variance_return**0.5\n",
    "        z_alpha = norm.ppf(0.05)\n",
    "        parametric_var[day_index] = log_mean_return + volatility*z_alpha\n",
    "        parametric_ES[day_index] = log_mean_return-volatility*(norm.pdf(norm.ppf(0.05))/0.05)\n",
    "    \n",
    "    risk_df = pd.DataFrame([parametric_var,parametric_ES],index=['5% VaR', '5% ES'],columns=dates).T\n",
    "    \n",
    "    return risk_df"
   ]
  },
  {
   "cell_type": "code",
   "execution_count": 267,
   "metadata": {},
   "outputs": [],
   "source": [
    "# choose dates (dict for range, or list-like for specific dates)\n",
    "dates = {\"start_date\":\"2020-12-31\",\"end_date\":\"2021-6-30\"}"
   ]
  },
  {
   "cell_type": "markdown",
   "metadata": {},
   "source": [
    "### Risk for new portfolio"
   ]
  },
  {
   "cell_type": "code",
   "execution_count": 268,
   "metadata": {},
   "outputs": [],
   "source": [
    "historical_risk_values = get_historical_risk(returns_df=simple_returns, rolling_window_size=250, dates=dates, weights=comparison_table['actual weights'])\n",
    "\n",
    "# create tables to store values\n",
    "var_table = pd.DataFrame(historical_risk_values['5% VaR'].copy())\n",
    "var_table.rename(columns={'5% VaR':'new historical'}, inplace=True)\n",
    "es_table = pd.DataFrame(historical_risk_values['5% ES'].copy())\n",
    "es_table.rename(columns={'5% ES':'new historical'}, inplace=True)"
   ]
  },
  {
   "cell_type": "code",
   "execution_count": 269,
   "metadata": {},
   "outputs": [],
   "source": [
    "parametric_risk_values = get_parametric_risk(returns_df=simple_returns, rolling_window_size=250, dates=dates, weights=comparison_table['actual weights'])\n",
    "var_table['new parametric'] = parametric_risk_values['5% VaR']\n",
    "es_table['new parametric'] = parametric_risk_values['5% ES']"
   ]
  },
  {
   "cell_type": "markdown",
   "metadata": {},
   "source": [
    "### Risk for original portfolio"
   ]
  },
  {
   "cell_type": "code",
   "execution_count": 270,
   "metadata": {},
   "outputs": [],
   "source": [
    "historical_risk_values = get_historical_risk(returns_df=simple_returns, rolling_window_size=250, dates=dates, weights=comparison_table['original weights'])\n",
    "var_table['original historical'] = historical_risk_values['5% VaR']\n",
    "es_table['original historical'] = historical_risk_values['5% ES']"
   ]
  },
  {
   "cell_type": "code",
   "execution_count": 271,
   "metadata": {},
   "outputs": [],
   "source": [
    "parametric_risk_values = get_parametric_risk(returns_df=simple_returns, rolling_window_size=250, dates=dates, weights=comparison_table['original weights'])\n",
    "var_table['original parametric'] = parametric_risk_values['5% VaR']\n",
    "es_table['original parametric'] = parametric_risk_values['5% ES']"
   ]
  },
  {
   "cell_type": "markdown",
   "metadata": {},
   "source": [
    "### Risk for old portfolio"
   ]
  },
  {
   "cell_type": "code",
   "execution_count": 272,
   "metadata": {
    "id": "mVnwEINlL70j"
   },
   "outputs": [],
   "source": [
    "# load stocks into a dictionary\n",
    "bad_fund = {}\n",
    "do_not_append = [] \n",
    "for file_name in os.listdir('worst_data/'):\n",
    "  ticker = file_name.split(\".\")[0]\n",
    "  if ticker in do_not_append:\n",
    "    pass\n",
    "  else:\n",
    "    bad_fund[f'{ticker}'] = pd.read_csv(f'worst_data/{file_name}') # for each stock, add its ticker as the key and dataframe as the value"
   ]
  },
  {
   "cell_type": "code",
   "execution_count": 273,
   "metadata": {
    "colab": {
     "base_uri": "https://localhost:8080/"
    },
    "id": "NUjfzh4EVqlv",
    "outputId": "424044d2-d005-4ec8-fbbc-e014b5749f26"
   },
   "outputs": [
    {
     "name": "stdout",
     "output_type": "stream",
     "text": [
      "['AAPL', 'ABBV', 'ADBE', 'ADP', 'ADSK', 'AMZN', 'ANTM', 'BAH', 'EBIX', 'EEFT', 'ENS', 'EPAM', 'EXTR', 'G', 'GOOG', 'GPN', 'IIVI', 'IQV', 'JBL', 'MA', 'MSFT', 'NXPI', 'PRFT', 'QRVO', 'ROG', 'ST', 'SWKS', 'TEL', 'THR', 'UNH', 'V']\n"
     ]
    }
   ],
   "source": [
    "print(list(bad_fund.keys())) # print the stock tickers for easy referencing"
   ]
  },
  {
   "cell_type": "code",
   "execution_count": 274,
   "metadata": {
    "id": "61jHOrPQO0Y-"
   },
   "outputs": [],
   "source": [
    "# Change date column into a datetime object\n",
    "# Add a new column for log returns\n",
    "for ticker, df in bad_fund.items():\n",
    "  df['Date'] = df['Date'].apply(pd.to_datetime)\n",
    "  df['LogReturns'] = np.append(np.nan,np.diff(np.log(df['Adj Close']))) # Fill dataframe with the log returns. The first value will be nan because there is no log returns for it."
   ]
  },
  {
   "cell_type": "code",
   "execution_count": 275,
   "metadata": {
    "colab": {
     "base_uri": "https://localhost:8080/",
     "height": 206
    },
    "id": "i5CA8cPecAVO",
    "outputId": "f39bf8d5-0262-41d8-eadb-b7bb7181dd20"
   },
   "outputs": [
    {
     "data": {
      "text/html": [
       "<div>\n",
       "<style scoped>\n",
       "    .dataframe tbody tr th:only-of-type {\n",
       "        vertical-align: middle;\n",
       "    }\n",
       "\n",
       "    .dataframe tbody tr th {\n",
       "        vertical-align: top;\n",
       "    }\n",
       "\n",
       "    .dataframe thead th {\n",
       "        text-align: right;\n",
       "    }\n",
       "</style>\n",
       "<table border=\"1\" class=\"dataframe\">\n",
       "  <thead>\n",
       "    <tr style=\"text-align: right;\">\n",
       "      <th></th>\n",
       "      <th>Date</th>\n",
       "      <th>Open</th>\n",
       "      <th>High</th>\n",
       "      <th>Low</th>\n",
       "      <th>Close</th>\n",
       "      <th>Adj Close</th>\n",
       "      <th>Volume</th>\n",
       "      <th>LogReturns</th>\n",
       "    </tr>\n",
       "  </thead>\n",
       "  <tbody>\n",
       "    <tr>\n",
       "      <th>0</th>\n",
       "      <td>2016-10-04</td>\n",
       "      <td>28.264999</td>\n",
       "      <td>28.577499</td>\n",
       "      <td>28.157499</td>\n",
       "      <td>28.250000</td>\n",
       "      <td>26.493998</td>\n",
       "      <td>118947200</td>\n",
       "      <td>NaN</td>\n",
       "    </tr>\n",
       "    <tr>\n",
       "      <th>1</th>\n",
       "      <td>2016-10-05</td>\n",
       "      <td>28.350000</td>\n",
       "      <td>28.415001</td>\n",
       "      <td>28.172501</td>\n",
       "      <td>28.262501</td>\n",
       "      <td>26.505718</td>\n",
       "      <td>85812400</td>\n",
       "      <td>0.000442</td>\n",
       "    </tr>\n",
       "    <tr>\n",
       "      <th>2</th>\n",
       "      <td>2016-10-06</td>\n",
       "      <td>28.424999</td>\n",
       "      <td>28.584999</td>\n",
       "      <td>28.282499</td>\n",
       "      <td>28.472500</td>\n",
       "      <td>26.702660</td>\n",
       "      <td>115117200</td>\n",
       "      <td>0.007403</td>\n",
       "    </tr>\n",
       "    <tr>\n",
       "      <th>3</th>\n",
       "      <td>2016-10-07</td>\n",
       "      <td>28.577499</td>\n",
       "      <td>28.639999</td>\n",
       "      <td>28.377501</td>\n",
       "      <td>28.514999</td>\n",
       "      <td>26.742519</td>\n",
       "      <td>97433600</td>\n",
       "      <td>0.001492</td>\n",
       "    </tr>\n",
       "    <tr>\n",
       "      <th>4</th>\n",
       "      <td>2016-10-10</td>\n",
       "      <td>28.754999</td>\n",
       "      <td>29.187500</td>\n",
       "      <td>28.680000</td>\n",
       "      <td>29.012501</td>\n",
       "      <td>27.209097</td>\n",
       "      <td>144944000</td>\n",
       "      <td>0.017297</td>\n",
       "    </tr>\n",
       "  </tbody>\n",
       "</table>\n",
       "</div>"
      ],
      "text/plain": [
       "        Date       Open       High        Low      Close  Adj Close  \\\n",
       "0 2016-10-04  28.264999  28.577499  28.157499  28.250000  26.493998   \n",
       "1 2016-10-05  28.350000  28.415001  28.172501  28.262501  26.505718   \n",
       "2 2016-10-06  28.424999  28.584999  28.282499  28.472500  26.702660   \n",
       "3 2016-10-07  28.577499  28.639999  28.377501  28.514999  26.742519   \n",
       "4 2016-10-10  28.754999  29.187500  28.680000  29.012501  27.209097   \n",
       "\n",
       "      Volume  LogReturns  \n",
       "0  118947200         NaN  \n",
       "1   85812400    0.000442  \n",
       "2  115117200    0.007403  \n",
       "3   97433600    0.001492  \n",
       "4  144944000    0.017297  "
      ]
     },
     "execution_count": 275,
     "metadata": {},
     "output_type": "execute_result"
    }
   ],
   "source": [
    "# preview a stock\n",
    "bad_fund['AAPL'].head()"
   ]
  },
  {
   "cell_type": "code",
   "execution_count": 276,
   "metadata": {
    "id": "oOo_SPu_eMe6"
   },
   "outputs": [],
   "source": [
    "bad_fund_log_returns = pd.DataFrame(data=np.full((bad_fund['AAPL'].shape[0],31),np.nan), columns = sorted(list(bad_fund.keys())), index = bad_fund['AAPL'].Date) # create empty dataframe filled with NaNs, with index = Date and columns = stocks\n",
    "\n",
    "# copy the log returns\n",
    "for ticker, df in bad_fund.items():\n",
    "  bad_fund_log_returns[ticker] = bad_fund_log_returns.index.map(bad_fund[ticker].set_index('Date')['LogReturns'])\n",
    "\n",
    "# if simple returns are needed\n",
    "bad_fund_simple_returns = np.exp(bad_fund_log_returns)-1\n",
    "# set bad fund earliest date to the same as the good fund\n",
    "bad_fund_simple_returns = bad_fund_simple_returns[bad_fund_simple_returns.index>=simple_returns.index[0]]"
   ]
  },
  {
   "cell_type": "code",
   "execution_count": 278,
   "metadata": {},
   "outputs": [],
   "source": [
    "# get bad portfolio weights\n",
    "bad_portfolio = pd.read_csv('original_weights_worst.csv')\n",
    "bad_portfolio.index = bad_portfolio['Ticker Symbol Given by the Exchange']\n",
    "del bad_portfolio['Ticker Symbol Given by the Exchange']\n",
    "bad_portfolio['Security\\'s Percentage of the Total Net Assets'] = bad_portfolio['Security\\'s Percentage of the Total Net Assets']/100 "
   ]
  },
  {
   "cell_type": "code",
   "execution_count": 279,
   "metadata": {},
   "outputs": [],
   "source": [
    "historical_risk_values = get_historical_risk(returns_df=bad_fund_simple_returns, rolling_window_size=250, dates=dates, weights=bad_portfolio['Security\\'s Percentage of the Total Net Assets'])\n",
    "var_table['bad historical'] = historical_risk_values['5% VaR']\n",
    "es_table['bad historical'] = historical_risk_values['5% ES']\n",
    "parametric_risk_values = get_parametric_risk(returns_df=bad_fund_simple_returns, rolling_window_size=250, dates=dates, weights=bad_portfolio['Security\\'s Percentage of the Total Net Assets'])\n",
    "var_table['bad parametric'] = parametric_risk_values['5% VaR']\n",
    "es_table['bad parametric'] = parametric_risk_values['5% ES']"
   ]
  },
  {
   "cell_type": "markdown",
   "metadata": {},
   "source": [
    "## Plot VaR and ES comparisons\n",
    "\n",
    "The chosen bad portfolio has a much better VaR and ES. This can be explained by it having a lower variance compared to our portfolio."
   ]
  },
  {
   "cell_type": "code",
   "execution_count": 280,
   "metadata": {},
   "outputs": [
    {
     "data": {
      "image/png": "[encoded data removed]",
      "text/plain": [
       "<Figure size 1440x720 with 1 Axes>"
      ]
     },
     "metadata": {
      "needs_background": "light"
     },
     "output_type": "display_data"
    }
   ],
   "source": [
    "_=var_table.loc[:,[\"new historical\",\"original historical\",\"bad historical\"]].plot(figsize=(20,10))"
   ]
  },
  {
   "cell_type": "code",
   "execution_count": 281,
   "metadata": {},
   "outputs": [
    {
     "data": {
      "image/png": "[encoded data removed]",
      "text/plain": [
       "<Figure size 1440x720 with 1 Axes>"
      ]
     },
     "metadata": {
      "needs_background": "light"
     },
     "output_type": "display_data"
    }
   ],
   "source": [
    "_=var_table.loc[:,[\"new parametric\",\"original parametric\",\"bad parametric\"]].plot(figsize=(20,10))"
   ]
  },
  {
   "cell_type": "code",
   "execution_count": 282,
   "metadata": {},
   "outputs": [
    {
     "data": {
      "image/png": "[encoded data removed]",
      "text/plain": [
       "<Figure size 1440x720 with 1 Axes>"
      ]
     },
     "metadata": {
      "needs_background": "light"
     },
     "output_type": "display_data"
    }
   ],
   "source": [
    "_=es_table.loc[:,[\"new historical\",\"original historical\",\"bad historical\"]].plot(figsize=(20,10))"
   ]
  },
  {
   "cell_type": "code",
   "execution_count": 283,
   "metadata": {},
   "outputs": [
    {
     "data": {
      "image/png": "[encoded data removed]",
      "text/plain": [
       "<Figure size 1440x720 with 1 Axes>"
      ]
     },
     "metadata": {
      "needs_background": "light"
     },
     "output_type": "display_data"
    }
   ],
   "source": [
    "_=es_table.loc[:,[\"new parametric\",\"original parametric\",\"bad parametric\"]].plot(figsize=(20,10))"
   ]
  },
  {
   "cell_type": "code",
   "execution_count": null,
   "metadata": {},
   "outputs": [],
   "source": []
  },
  {
   "cell_type": "code",
   "execution_count": null,
   "metadata": {},
   "outputs": [],
   "source": []
  }
 ],
 "metadata": {
  "colab": {
   "collapsed_sections": [],
   "name": "midterm_code.ipynb",
   "provenance": []
  },
  "kernelspec": {
   "display_name": "Python 3",
   "language": "python",
   "name": "python3"
  },
  "language_info": {
   "codemirror_mode": {
    "name": "ipython",
    "version": 3
   },
   "file_extension": ".py",
   "mimetype": "text/x-python",
   "name": "python",
   "nbconvert_exporter": "python",
   "pygments_lexer": "ipython3",
   "version": "3.8.5"
  }
 },
 "nbformat": 4,
 "nbformat_minor": 4
}
