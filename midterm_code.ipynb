{
  "nbformat": 4,
  "nbformat_minor": 0,
  "metadata": {
    "colab": {
      "name": "midterm_code.ipynb",
      "provenance": [],
      "collapsed_sections": []
    },
    "kernelspec": {
      "name": "python3",
      "display_name": "Python 3"
    },
    "language_info": {
      "name": "python"
    }
  },
  "cells": [
    {
      "cell_type": "markdown",
      "metadata": {
        "id": "PRv6Qw7_i16E"
      },
      "source": [
        "# 1.1 Load libraries\n",
        "\n",
        "Note: After resolving conflicts, runs the entire notebook to make sure none of the old code is broken."
      ]
    },
    {
      "cell_type": "code",
      "metadata": {
        "id": "JU9FBLlKJ5Ne",
        "colab": {
          "base_uri": "https://localhost:8080/"
        },
        "outputId": "6496eceb-7865-4ff1-ab1d-1420d5a5d32f"
      },
      "source": [
        "import pandas as pd\n",
        "import numpy as np\n",
        "import os\n",
        "\n",
        "!pip install cvxpy --upgrade\n",
        "import cvxpy as cvx"
      ],
      "execution_count": 21,
      "outputs": [
        {
          "output_type": "stream",
          "name": "stdout",
          "text": [
            "Requirement already satisfied: cvxpy in /usr/local/lib/python3.7/dist-packages (1.1.15)\n",
            "Requirement already satisfied: scs>=1.1.6 in /usr/local/lib/python3.7/dist-packages (from cvxpy) (2.1.4)\n",
            "Requirement already satisfied: scipy>=1.1.0 in /usr/local/lib/python3.7/dist-packages (from cvxpy) (1.4.1)\n",
            "Requirement already satisfied: numpy>=1.15 in /usr/local/lib/python3.7/dist-packages (from cvxpy) (1.19.5)\n",
            "Requirement already satisfied: ecos>=2 in /usr/local/lib/python3.7/dist-packages (from cvxpy) (2.0.7.post1)\n",
            "Requirement already satisfied: osqp>=0.4.1 in /usr/local/lib/python3.7/dist-packages (from cvxpy) (0.6.2.post0)\n",
            "Requirement already satisfied: qdldl in /usr/local/lib/python3.7/dist-packages (from osqp>=0.4.1->cvxpy) (0.1.5.post0)\n"
          ]
        }
      ]
    },
    {
      "cell_type": "markdown",
      "metadata": {
        "id": "E2Tt0eLKitG3"
      },
      "source": [
        "# 1.2 Gather data from github, where the csv files have been uploaded.\n",
        "The data gathered is from a 5 year window, 4th Oct 2016 to 4th Oct 2021."
      ]
    },
    {
      "cell_type": "code",
      "metadata": {
        "colab": {
          "base_uri": "https://localhost:8080/"
        },
        "id": "vopy_UGQJo7O",
        "outputId": "eab9bae9-a3ad-419e-8a69-9ebd89ee1548"
      },
      "source": [
        "!git clone https://github.com/coldsonata/bt4016-project.git"
      ],
      "execution_count": 22,
      "outputs": [
        {
          "output_type": "stream",
          "name": "stdout",
          "text": [
            "fatal: destination path 'bt4016-project' already exists and is not an empty directory.\n"
          ]
        }
      ]
    },
    {
      "cell_type": "markdown",
      "metadata": {
        "id": "JuKIO2N6jJMe"
      },
      "source": [
        "# 1.3 Load the stocks into memory and perform some preprocessing steps\n",
        "\n",
        "The data is stored as key-value pairs in a dictionary, with the ticker referencing the respective dataframe. Following that, the date is changed into a datetime object and a new column for log-returns is added."
      ]
    },
    {
      "cell_type": "code",
      "metadata": {
        "id": "mVnwEINlL70j"
      },
      "source": [
        "# load stocks into a dictionary\n",
        "stocks = {}\n",
        "do_not_append = ['FSELX','IPHI'] # FSELX is our fund, while IPHI does not have data and has been bought over by MRVL\n",
        "for file_name in os.listdir('/content/bt4016-project/data/'):\n",
        "  ticker = file_name.split(\".\")[0]\n",
        "  if ticker in do_not_append:\n",
        "    pass\n",
        "  else:\n",
        "    stocks[f'{ticker}'] = pd.read_csv(f'/content/bt4016-project/data/{file_name}') # for each stock, add its ticker as the key and dataframe as the value"
      ],
      "execution_count": 23,
      "outputs": []
    },
    {
      "cell_type": "code",
      "metadata": {
        "colab": {
          "base_uri": "https://localhost:8080/"
        },
        "id": "NUjfzh4EVqlv",
        "outputId": "424044d2-d005-4ec8-fbbc-e014b5749f26"
      },
      "source": [
        "print(list(stocks.keys())) # print the stock tickers for easy referencing"
      ],
      "execution_count": 24,
      "outputs": [
        {
          "output_type": "stream",
          "name": "stdout",
          "text": [
            "['AMD', 'TTMI', 'IIVI', 'JBL', 'AMBA', 'XLNX', 'AMAT', 'ENPH', 'TXN', 'AOSL', 'AVGO', 'OLED', 'CRUS', 'MCHP', 'DIOD', 'ASX', 'MTSI', 'MXL', 'SGH', 'MU', 'LRCX', 'QCOM', 'NVDA', '005930', 'INTC', 'TSM', 'MRVL', 'NXPI', 'SEDG', 'ON', 'SYNA', 'SMTC', 'ADI', 'AEIS', 'FLEX']\n"
          ]
        }
      ]
    },
    {
      "cell_type": "code",
      "metadata": {
        "id": "61jHOrPQO0Y-"
      },
      "source": [
        "# Change date column into a datetime object\n",
        "# Add a new column for log returns\n",
        "for ticker, df in stocks.items():\n",
        "  df['Date'] = df['Date'].apply(pd.to_datetime)\n",
        "  df['LogReturns'] = np.append(np.nan,np.diff(np.log(df['Adj Close']))) # Fill dataframe with the log returns. The first value will be nan because there is no log returns for it."
      ],
      "execution_count": 25,
      "outputs": []
    },
    {
      "cell_type": "code",
      "metadata": {
        "colab": {
          "base_uri": "https://localhost:8080/",
          "height": 206
        },
        "id": "i5CA8cPecAVO",
        "outputId": "f39bf8d5-0262-41d8-eadb-b7bb7181dd20"
      },
      "source": [
        "# preview a stock\n",
        "stocks['TXN'].head()"
      ],
      "execution_count": 26,
      "outputs": [
        {
          "output_type": "execute_result",
          "data": {
            "text/html": [
              "<div>\n",
              "<style scoped>\n",
              "    .dataframe tbody tr th:only-of-type {\n",
              "        vertical-align: middle;\n",
              "    }\n",
              "\n",
              "    .dataframe tbody tr th {\n",
              "        vertical-align: top;\n",
              "    }\n",
              "\n",
              "    .dataframe thead th {\n",
              "        text-align: right;\n",
              "    }\n",
              "</style>\n",
              "<table border=\"1\" class=\"dataframe\">\n",
              "  <thead>\n",
              "    <tr style=\"text-align: right;\">\n",
              "      <th></th>\n",
              "      <th>Date</th>\n",
              "      <th>Open</th>\n",
              "      <th>High</th>\n",
              "      <th>Low</th>\n",
              "      <th>Close</th>\n",
              "      <th>Adj Close</th>\n",
              "      <th>Volume</th>\n",
              "      <th>LogReturns</th>\n",
              "    </tr>\n",
              "  </thead>\n",
              "  <tbody>\n",
              "    <tr>\n",
              "      <th>0</th>\n",
              "      <td>2016-10-04</td>\n",
              "      <td>69.660004</td>\n",
              "      <td>69.910004</td>\n",
              "      <td>69.099998</td>\n",
              "      <td>69.589996</td>\n",
              "      <td>61.006310</td>\n",
              "      <td>4089500</td>\n",
              "      <td>NaN</td>\n",
              "    </tr>\n",
              "    <tr>\n",
              "      <th>1</th>\n",
              "      <td>2016-10-05</td>\n",
              "      <td>69.849998</td>\n",
              "      <td>70.839996</td>\n",
              "      <td>69.010002</td>\n",
              "      <td>70.599998</td>\n",
              "      <td>61.891724</td>\n",
              "      <td>4789600</td>\n",
              "      <td>0.014409</td>\n",
              "    </tr>\n",
              "    <tr>\n",
              "      <th>2</th>\n",
              "      <td>2016-10-06</td>\n",
              "      <td>70.440002</td>\n",
              "      <td>71.000000</td>\n",
              "      <td>70.029999</td>\n",
              "      <td>70.959999</td>\n",
              "      <td>62.207321</td>\n",
              "      <td>4061500</td>\n",
              "      <td>0.005086</td>\n",
              "    </tr>\n",
              "    <tr>\n",
              "      <th>3</th>\n",
              "      <td>2016-10-07</td>\n",
              "      <td>71.000000</td>\n",
              "      <td>71.059998</td>\n",
              "      <td>70.449997</td>\n",
              "      <td>70.870003</td>\n",
              "      <td>62.128426</td>\n",
              "      <td>3673600</td>\n",
              "      <td>-0.001269</td>\n",
              "    </tr>\n",
              "    <tr>\n",
              "      <th>4</th>\n",
              "      <td>2016-10-10</td>\n",
              "      <td>71.080002</td>\n",
              "      <td>71.330002</td>\n",
              "      <td>69.900002</td>\n",
              "      <td>69.930000</td>\n",
              "      <td>61.304375</td>\n",
              "      <td>4893200</td>\n",
              "      <td>-0.013352</td>\n",
              "    </tr>\n",
              "  </tbody>\n",
              "</table>\n",
              "</div>"
            ],
            "text/plain": [
              "        Date       Open       High  ...  Adj Close   Volume  LogReturns\n",
              "0 2016-10-04  69.660004  69.910004  ...  61.006310  4089500         NaN\n",
              "1 2016-10-05  69.849998  70.839996  ...  61.891724  4789600    0.014409\n",
              "2 2016-10-06  70.440002  71.000000  ...  62.207321  4061500    0.005086\n",
              "3 2016-10-07  71.000000  71.059998  ...  62.128426  3673600   -0.001269\n",
              "4 2016-10-10  71.080002  71.330002  ...  61.304375  4893200   -0.013352\n",
              "\n",
              "[5 rows x 8 columns]"
            ]
          },
          "metadata": {},
          "execution_count": 26
        }
      ]
    },
    {
      "cell_type": "code",
      "metadata": {
        "id": "IgYQ9yyJybW_"
      },
      "source": [
        "top_30 = ['SYNA', 'MRVL', 'SGH', 'ENPH', 'JBL', 'CRUS', 'MCHP', 'AEIS', 'MTSI', 'AMAT', 'NVDA', 'ON', 'TTMI', 'SMTC', 'AVGO', 'XLNX', 'TSM', 'IIVI', 'QCOM', 'NXPI', 'FLEX', 'DIOD', 'AMD', 'MXL', 'ADI', 'INTC', 'TXN', 'LRCX', 'MU', 'OLED']\n",
        "stocks_30 = {stock:df for stock,df in stocks.items() if stock in top_30}"
      ],
      "execution_count": 27,
      "outputs": []
    },
    {
      "cell_type": "markdown",
      "metadata": {
        "id": "RV6MdDBHjoaF"
      },
      "source": [
        "# 1.4 Aggregate the log-returns into one dataframe"
      ]
    },
    {
      "cell_type": "code",
      "metadata": {
        "id": "oOo_SPu_eMe6"
      },
      "source": [
        "log_returns = pd.DataFrame(data=np.full((stocks['TXN'].shape[0],30),np.nan), columns = sorted(list(stocks_30.keys())), index = stocks_30['TXN'].Date) # create empty dataframe filled with NaNs, with index = Date and columns = stocks\n",
        "\n",
        "# copy the log returns over from the stocks dictionary\n",
        "for ticker, df in stocks_30.items():\n",
        "  log_returns[ticker] = log_returns.index.map(stocks_30[ticker].set_index('Date')['LogReturns'])\n",
        "\n",
        "# if simple returns are needed\n",
        "simple_returns = np.exp(log_returns)-1\n",
        "simple_returns['RF'] = np.repeat(0.0001,simple_returns.shape[0])"
      ],
      "execution_count": 28,
      "outputs": []
    },
    {
      "cell_type": "code",
      "metadata": {
        "colab": {
          "base_uri": "https://localhost:8080/",
          "height": 258
        },
        "id": "hXxMj4WuiKJY",
        "outputId": "96e64636-fab8-4e33-bdfc-20e2781783e9"
      },
      "source": [
        "# preview log_returns\n",
        "simple_returns.head()"
      ],
      "execution_count": 29,
      "outputs": [
        {
          "output_type": "execute_result",
          "data": {
            "text/html": [
              "<div>\n",
              "<style scoped>\n",
              "    .dataframe tbody tr th:only-of-type {\n",
              "        vertical-align: middle;\n",
              "    }\n",
              "\n",
              "    .dataframe tbody tr th {\n",
              "        vertical-align: top;\n",
              "    }\n",
              "\n",
              "    .dataframe thead th {\n",
              "        text-align: right;\n",
              "    }\n",
              "</style>\n",
              "<table border=\"1\" class=\"dataframe\">\n",
              "  <thead>\n",
              "    <tr style=\"text-align: right;\">\n",
              "      <th></th>\n",
              "      <th>ADI</th>\n",
              "      <th>AEIS</th>\n",
              "      <th>AMAT</th>\n",
              "      <th>AMD</th>\n",
              "      <th>AVGO</th>\n",
              "      <th>CRUS</th>\n",
              "      <th>DIOD</th>\n",
              "      <th>ENPH</th>\n",
              "      <th>FLEX</th>\n",
              "      <th>IIVI</th>\n",
              "      <th>INTC</th>\n",
              "      <th>JBL</th>\n",
              "      <th>LRCX</th>\n",
              "      <th>MCHP</th>\n",
              "      <th>MRVL</th>\n",
              "      <th>MTSI</th>\n",
              "      <th>MU</th>\n",
              "      <th>MXL</th>\n",
              "      <th>NVDA</th>\n",
              "      <th>NXPI</th>\n",
              "      <th>OLED</th>\n",
              "      <th>ON</th>\n",
              "      <th>QCOM</th>\n",
              "      <th>SGH</th>\n",
              "      <th>SMTC</th>\n",
              "      <th>SYNA</th>\n",
              "      <th>TSM</th>\n",
              "      <th>TTMI</th>\n",
              "      <th>TXN</th>\n",
              "      <th>XLNX</th>\n",
              "      <th>RF</th>\n",
              "    </tr>\n",
              "    <tr>\n",
              "      <th>Date</th>\n",
              "      <th></th>\n",
              "      <th></th>\n",
              "      <th></th>\n",
              "      <th></th>\n",
              "      <th></th>\n",
              "      <th></th>\n",
              "      <th></th>\n",
              "      <th></th>\n",
              "      <th></th>\n",
              "      <th></th>\n",
              "      <th></th>\n",
              "      <th></th>\n",
              "      <th></th>\n",
              "      <th></th>\n",
              "      <th></th>\n",
              "      <th></th>\n",
              "      <th></th>\n",
              "      <th></th>\n",
              "      <th></th>\n",
              "      <th></th>\n",
              "      <th></th>\n",
              "      <th></th>\n",
              "      <th></th>\n",
              "      <th></th>\n",
              "      <th></th>\n",
              "      <th></th>\n",
              "      <th></th>\n",
              "      <th></th>\n",
              "      <th></th>\n",
              "      <th></th>\n",
              "      <th></th>\n",
              "    </tr>\n",
              "  </thead>\n",
              "  <tbody>\n",
              "    <tr>\n",
              "      <th>2016-10-04</th>\n",
              "      <td>NaN</td>\n",
              "      <td>NaN</td>\n",
              "      <td>NaN</td>\n",
              "      <td>NaN</td>\n",
              "      <td>NaN</td>\n",
              "      <td>NaN</td>\n",
              "      <td>NaN</td>\n",
              "      <td>NaN</td>\n",
              "      <td>NaN</td>\n",
              "      <td>NaN</td>\n",
              "      <td>NaN</td>\n",
              "      <td>NaN</td>\n",
              "      <td>NaN</td>\n",
              "      <td>NaN</td>\n",
              "      <td>NaN</td>\n",
              "      <td>NaN</td>\n",
              "      <td>NaN</td>\n",
              "      <td>NaN</td>\n",
              "      <td>NaN</td>\n",
              "      <td>NaN</td>\n",
              "      <td>NaN</td>\n",
              "      <td>NaN</td>\n",
              "      <td>NaN</td>\n",
              "      <td>NaN</td>\n",
              "      <td>NaN</td>\n",
              "      <td>NaN</td>\n",
              "      <td>NaN</td>\n",
              "      <td>NaN</td>\n",
              "      <td>NaN</td>\n",
              "      <td>NaN</td>\n",
              "      <td>0.0001</td>\n",
              "    </tr>\n",
              "    <tr>\n",
              "      <th>2016-10-05</th>\n",
              "      <td>0.006849</td>\n",
              "      <td>0.008323</td>\n",
              "      <td>0.011145</td>\n",
              "      <td>-0.027260</td>\n",
              "      <td>0.026205</td>\n",
              "      <td>0.018109</td>\n",
              "      <td>0.024402</td>\n",
              "      <td>-0.008333</td>\n",
              "      <td>0.030837</td>\n",
              "      <td>0.043100</td>\n",
              "      <td>0.011987</td>\n",
              "      <td>0.008280</td>\n",
              "      <td>0.014130</td>\n",
              "      <td>0.013046</td>\n",
              "      <td>0.011521</td>\n",
              "      <td>-0.001886</td>\n",
              "      <td>-0.005618</td>\n",
              "      <td>-0.016611</td>\n",
              "      <td>-0.001025</td>\n",
              "      <td>-0.007072</td>\n",
              "      <td>-0.006262</td>\n",
              "      <td>0.018062</td>\n",
              "      <td>0.002399</td>\n",
              "      <td>NaN</td>\n",
              "      <td>0.008727</td>\n",
              "      <td>0.049058</td>\n",
              "      <td>0.004607</td>\n",
              "      <td>0.019164</td>\n",
              "      <td>0.014513</td>\n",
              "      <td>0.006596</td>\n",
              "      <td>0.0001</td>\n",
              "    </tr>\n",
              "    <tr>\n",
              "      <th>2016-10-06</th>\n",
              "      <td>0.000928</td>\n",
              "      <td>0.027513</td>\n",
              "      <td>-0.001670</td>\n",
              "      <td>0.026549</td>\n",
              "      <td>0.004093</td>\n",
              "      <td>0.012919</td>\n",
              "      <td>0.003270</td>\n",
              "      <td>0.016807</td>\n",
              "      <td>0.004986</td>\n",
              "      <td>0.026619</td>\n",
              "      <td>0.002106</td>\n",
              "      <td>0.004562</td>\n",
              "      <td>0.041801</td>\n",
              "      <td>0.007405</td>\n",
              "      <td>0.000759</td>\n",
              "      <td>0.028106</td>\n",
              "      <td>0.001695</td>\n",
              "      <td>0.008687</td>\n",
              "      <td>-0.013044</td>\n",
              "      <td>0.009659</td>\n",
              "      <td>0.003819</td>\n",
              "      <td>0.002419</td>\n",
              "      <td>0.010473</td>\n",
              "      <td>NaN</td>\n",
              "      <td>-0.002884</td>\n",
              "      <td>0.054531</td>\n",
              "      <td>0.007861</td>\n",
              "      <td>0.001709</td>\n",
              "      <td>0.005099</td>\n",
              "      <td>0.000375</td>\n",
              "      <td>0.0001</td>\n",
              "    </tr>\n",
              "    <tr>\n",
              "      <th>2016-10-07</th>\n",
              "      <td>-0.004943</td>\n",
              "      <td>-0.015448</td>\n",
              "      <td>-0.004684</td>\n",
              "      <td>-0.030172</td>\n",
              "      <td>0.000115</td>\n",
              "      <td>-0.000739</td>\n",
              "      <td>-0.016760</td>\n",
              "      <td>-0.041322</td>\n",
              "      <td>-0.000709</td>\n",
              "      <td>-0.005418</td>\n",
              "      <td>0.000788</td>\n",
              "      <td>-0.010899</td>\n",
              "      <td>0.001597</td>\n",
              "      <td>-0.008309</td>\n",
              "      <td>-0.005311</td>\n",
              "      <td>-0.014013</td>\n",
              "      <td>-0.006768</td>\n",
              "      <td>0.000000</td>\n",
              "      <td>-0.007277</td>\n",
              "      <td>-0.004831</td>\n",
              "      <td>-0.000761</td>\n",
              "      <td>-0.012068</td>\n",
              "      <td>0.009624</td>\n",
              "      <td>NaN</td>\n",
              "      <td>-0.004700</td>\n",
              "      <td>0.017339</td>\n",
              "      <td>0.013325</td>\n",
              "      <td>0.014505</td>\n",
              "      <td>-0.001268</td>\n",
              "      <td>-0.010107</td>\n",
              "      <td>0.0001</td>\n",
              "    </tr>\n",
              "    <tr>\n",
              "      <th>2016-10-10</th>\n",
              "      <td>-0.016610</td>\n",
              "      <td>0.004184</td>\n",
              "      <td>-0.012437</td>\n",
              "      <td>0.013333</td>\n",
              "      <td>0.003214</td>\n",
              "      <td>0.023122</td>\n",
              "      <td>-0.007102</td>\n",
              "      <td>-0.086207</td>\n",
              "      <td>-0.004965</td>\n",
              "      <td>0.003891</td>\n",
              "      <td>-0.002099</td>\n",
              "      <td>0.002755</td>\n",
              "      <td>0.017937</td>\n",
              "      <td>-0.012085</td>\n",
              "      <td>0.004577</td>\n",
              "      <td>-0.010718</td>\n",
              "      <td>-0.006246</td>\n",
              "      <td>0.023445</td>\n",
              "      <td>0.003740</td>\n",
              "      <td>-0.001554</td>\n",
              "      <td>0.013707</td>\n",
              "      <td>-0.012215</td>\n",
              "      <td>-0.013785</td>\n",
              "      <td>NaN</td>\n",
              "      <td>-0.027243</td>\n",
              "      <td>0.014630</td>\n",
              "      <td>0.003207</td>\n",
              "      <td>0.000000</td>\n",
              "      <td>-0.013264</td>\n",
              "      <td>-0.012857</td>\n",
              "      <td>0.0001</td>\n",
              "    </tr>\n",
              "  </tbody>\n",
              "</table>\n",
              "</div>"
            ],
            "text/plain": [
              "                 ADI      AEIS      AMAT  ...       TXN      XLNX      RF\n",
              "Date                                      ...                            \n",
              "2016-10-04       NaN       NaN       NaN  ...       NaN       NaN  0.0001\n",
              "2016-10-05  0.006849  0.008323  0.011145  ...  0.014513  0.006596  0.0001\n",
              "2016-10-06  0.000928  0.027513 -0.001670  ...  0.005099  0.000375  0.0001\n",
              "2016-10-07 -0.004943 -0.015448 -0.004684  ... -0.001268 -0.010107  0.0001\n",
              "2016-10-10 -0.016610  0.004184 -0.012437  ... -0.013264 -0.012857  0.0001\n",
              "\n",
              "[5 rows x 31 columns]"
            ]
          },
          "metadata": {},
          "execution_count": 29
        }
      ]
    },
    {
      "cell_type": "markdown",
      "metadata": {
        "id": "VhaObiuNiaFG"
      },
      "source": [
        "The stock SGH has a lot of NaN values. We take a closer look at it."
      ]
    },
    {
      "cell_type": "code",
      "metadata": {
        "colab": {
          "base_uri": "https://localhost:8080/",
          "height": 206
        },
        "id": "SgrmceUmiUBn",
        "outputId": "62857ff6-40d2-4282-b889-c152c7c62b9d"
      },
      "source": [
        "# preview SGH\n",
        "stocks['SGH'].head()"
      ],
      "execution_count": 30,
      "outputs": [
        {
          "output_type": "execute_result",
          "data": {
            "text/html": [
              "<div>\n",
              "<style scoped>\n",
              "    .dataframe tbody tr th:only-of-type {\n",
              "        vertical-align: middle;\n",
              "    }\n",
              "\n",
              "    .dataframe tbody tr th {\n",
              "        vertical-align: top;\n",
              "    }\n",
              "\n",
              "    .dataframe thead th {\n",
              "        text-align: right;\n",
              "    }\n",
              "</style>\n",
              "<table border=\"1\" class=\"dataframe\">\n",
              "  <thead>\n",
              "    <tr style=\"text-align: right;\">\n",
              "      <th></th>\n",
              "      <th>Date</th>\n",
              "      <th>Open</th>\n",
              "      <th>High</th>\n",
              "      <th>Low</th>\n",
              "      <th>Close</th>\n",
              "      <th>Adj Close</th>\n",
              "      <th>Volume</th>\n",
              "      <th>LogReturns</th>\n",
              "    </tr>\n",
              "  </thead>\n",
              "  <tbody>\n",
              "    <tr>\n",
              "      <th>0</th>\n",
              "      <td>2017-05-24</td>\n",
              "      <td>12.00</td>\n",
              "      <td>14.000</td>\n",
              "      <td>11.50</td>\n",
              "      <td>13.45</td>\n",
              "      <td>13.45</td>\n",
              "      <td>1415200</td>\n",
              "      <td>NaN</td>\n",
              "    </tr>\n",
              "    <tr>\n",
              "      <th>1</th>\n",
              "      <td>2017-05-25</td>\n",
              "      <td>13.85</td>\n",
              "      <td>14.320</td>\n",
              "      <td>13.35</td>\n",
              "      <td>13.50</td>\n",
              "      <td>13.50</td>\n",
              "      <td>237900</td>\n",
              "      <td>0.003711</td>\n",
              "    </tr>\n",
              "    <tr>\n",
              "      <th>2</th>\n",
              "      <td>2017-05-26</td>\n",
              "      <td>13.36</td>\n",
              "      <td>13.624</td>\n",
              "      <td>12.46</td>\n",
              "      <td>13.23</td>\n",
              "      <td>13.23</td>\n",
              "      <td>56200</td>\n",
              "      <td>-0.020203</td>\n",
              "    </tr>\n",
              "    <tr>\n",
              "      <th>3</th>\n",
              "      <td>2017-05-30</td>\n",
              "      <td>13.20</td>\n",
              "      <td>13.255</td>\n",
              "      <td>12.28</td>\n",
              "      <td>12.98</td>\n",
              "      <td>12.98</td>\n",
              "      <td>71200</td>\n",
              "      <td>-0.019077</td>\n",
              "    </tr>\n",
              "    <tr>\n",
              "      <th>4</th>\n",
              "      <td>2017-05-31</td>\n",
              "      <td>13.02</td>\n",
              "      <td>13.500</td>\n",
              "      <td>12.93</td>\n",
              "      <td>13.10</td>\n",
              "      <td>13.10</td>\n",
              "      <td>55700</td>\n",
              "      <td>0.009203</td>\n",
              "    </tr>\n",
              "  </tbody>\n",
              "</table>\n",
              "</div>"
            ],
            "text/plain": [
              "        Date   Open    High    Low  Close  Adj Close   Volume  LogReturns\n",
              "0 2017-05-24  12.00  14.000  11.50  13.45      13.45  1415200         NaN\n",
              "1 2017-05-25  13.85  14.320  13.35  13.50      13.50   237900    0.003711\n",
              "2 2017-05-26  13.36  13.624  12.46  13.23      13.23    56200   -0.020203\n",
              "3 2017-05-30  13.20  13.255  12.28  12.98      12.98    71200   -0.019077\n",
              "4 2017-05-31  13.02  13.500  12.93  13.10      13.10    55700    0.009203"
            ]
          },
          "metadata": {},
          "execution_count": 30
        }
      ]
    },
    {
      "cell_type": "markdown",
      "metadata": {
        "id": "6XYAcSVNijtO"
      },
      "source": [
        "SGH only begins at a later date, explaining the NaNs we see in our earlier preview.\n",
        "\n",
        "## 2.1 Optimization"
      ]
    },
    {
      "cell_type": "code",
      "metadata": {
        "id": "lAlF2Ks-dtmX"
      },
      "source": [
        "# drop nans\n",
        "simple_returns = simple_returns.dropna()\n",
        "\n",
        "# get in-sample time window to perform optimization on (inclusive)\n",
        "is_start_date = '2019-1-1'\n",
        "is_end_date = '2020-12-31'\n",
        "\n",
        "# get out-of-sample time window for evaluation (inclusive)\n",
        "oos_start_date = '2020-1-1'\n",
        "oos_end_date = '2021-12-31'\n",
        "\n",
        "in_sample_window = simple_returns[(simple_returns.index>=is_start_date)&(simple_returns.index<=is_end_date)].copy()"
      ],
      "execution_count": 31,
      "outputs": []
    },
    {
      "cell_type": "markdown",
      "metadata": {
        "id": "Vk6Z8T2hU7Cr"
      },
      "source": [
        "### Try the pypfopt package, which makes it easier to add in L2 regularization so that we have less 0 weights."
      ]
    },
    {
      "cell_type": "code",
      "metadata": {
        "id": "gTBp6UgRVOor",
        "colab": {
          "base_uri": "https://localhost:8080/"
        },
        "outputId": "957631ed-de6a-4692-c1a1-89d0bd49973e"
      },
      "source": [
        "!pip install PyPortfolioOpt --upgrade\n",
        "from pypfopt import EfficientFrontier\n",
        "from pypfopt import risk_models\n",
        "from pypfopt import expected_returns\n",
        "from pypfopt import objective_functions"
      ],
      "execution_count": 32,
      "outputs": [
        {
          "output_type": "stream",
          "name": "stdout",
          "text": [
            "Collecting PyPortfolioOpt\n",
            "  Downloading PyPortfolioOpt-1.4.2-py3-none-any.whl (60 kB)\n",
            "\u001b[?25l\r\u001b[K     |█████▍                          | 10 kB 7.7 MB/s eta 0:00:01\r\u001b[K     |██████████▉                     | 20 kB 12.0 MB/s eta 0:00:01\r\u001b[K     |████████████████▎               | 30 kB 15.2 MB/s eta 0:00:01\r\u001b[K     |█████████████████████▋          | 40 kB 18.3 MB/s eta 0:00:01\r\u001b[K     |███████████████████████████     | 51 kB 5.7 MB/s eta 0:00:01\r\u001b[K     |████████████████████████████████| 60 kB 3.4 MB/s \n",
            "\u001b[?25hRequirement already satisfied: numpy<2.0,>=1.12 in /usr/local/lib/python3.7/dist-packages (from PyPortfolioOpt) (1.19.5)\n",
            "Requirement already satisfied: cvxpy<2.0.0,>=1.1.10 in /usr/local/lib/python3.7/dist-packages (from PyPortfolioOpt) (1.1.15)\n",
            "Requirement already satisfied: pandas>=0.19 in /usr/local/lib/python3.7/dist-packages (from PyPortfolioOpt) (1.1.5)\n",
            "Requirement already satisfied: scipy<2.0,>=1.3 in /usr/local/lib/python3.7/dist-packages (from PyPortfolioOpt) (1.4.1)\n",
            "Requirement already satisfied: scs>=1.1.6 in /usr/local/lib/python3.7/dist-packages (from cvxpy<2.0.0,>=1.1.10->PyPortfolioOpt) (2.1.4)\n",
            "Requirement already satisfied: osqp>=0.4.1 in /usr/local/lib/python3.7/dist-packages (from cvxpy<2.0.0,>=1.1.10->PyPortfolioOpt) (0.6.2.post0)\n",
            "Requirement already satisfied: ecos>=2 in /usr/local/lib/python3.7/dist-packages (from cvxpy<2.0.0,>=1.1.10->PyPortfolioOpt) (2.0.7.post1)\n",
            "Requirement already satisfied: qdldl in /usr/local/lib/python3.7/dist-packages (from osqp>=0.4.1->cvxpy<2.0.0,>=1.1.10->PyPortfolioOpt) (0.1.5.post0)\n",
            "Requirement already satisfied: python-dateutil>=2.7.3 in /usr/local/lib/python3.7/dist-packages (from pandas>=0.19->PyPortfolioOpt) (2.8.2)\n",
            "Requirement already satisfied: pytz>=2017.2 in /usr/local/lib/python3.7/dist-packages (from pandas>=0.19->PyPortfolioOpt) (2018.9)\n",
            "Requirement already satisfied: six>=1.5 in /usr/local/lib/python3.7/dist-packages (from python-dateutil>=2.7.3->pandas>=0.19->PyPortfolioOpt) (1.15.0)\n",
            "Installing collected packages: PyPortfolioOpt\n",
            "Successfully installed PyPortfolioOpt-1.4.2\n"
          ]
        }
      ]
    },
    {
      "cell_type": "code",
      "metadata": {
        "id": "whfHd1_3VXPv"
      },
      "source": [
        "# Calculate expected returns and sample covariance using PyPortfolioOpt’s built-in methods\n",
        "mu = expected_returns.mean_historical_return(in_sample_window, returns_data=True)\n",
        "S = risk_models.sample_cov(in_sample_window, returns_data=True)\n",
        "\n",
        "#print('Expected Returns:')\n",
        "#print(mu)\n",
        "#print('\\n')\n",
        "#print('Covariance Matrix:')\n",
        "#print(S)"
      ],
      "execution_count": 33,
      "outputs": []
    },
    {
      "cell_type": "markdown",
      "metadata": {
        "id": "0LbEx5UKilxZ"
      },
      "source": [
        "**From the pyportfolio webpage**\n",
        "\n",
        "*In order to coerce the mean-variance optimizer to produce more non-negligible weights, we add what can be thought of as a “small weights penalty” to all of the objective functions, parameterised by γ (gamma).*\n",
        "\n",
        "It is refered to as L2 regularisation despite having a different purpose from its usual use, to keep weights small. Here, is it used to keep weights bigger.\n",
        "\n",
        "Note: Check different gamma values and portfolio's overall performance.\n",
        "\n",
        "https://pyportfolioopt.readthedocs.io/en/latest/MeanVariance.html#pypfopt.objective_functions.L2_reg"
      ]
    },
    {
      "cell_type": "code",
      "metadata": {
        "id": "Df4xjkZVQ5Yp"
      },
      "source": [
        "# Set each stock to a sub-sector \n",
        "# Until someone has a better idea, use:\n",
        "semiconductors = ['ADI','AMAT','AMD','AVGO','CRUS',\n",
        "                  'DIOD','INTC','LRCX','MCHP','MRVL',\n",
        "                  'MTSI','MU','MXL','NVDA','NXPI',\n",
        "                  'OLED','ON','QCOM','SGH','SMTC',\n",
        "                  'SYNA','TSM','TXN','XLNX']\n",
        "others = ['AEIS','ENPH','FLEX','JBL','TTMI', \n",
        "               'IIVI','RF'] # AEIS and IIVI are also in the semiconductor subsector, but just putting them here first since they're in both areas. Every stock here except for IIVI are in the electrical/electronics scene. RF = risk-free"
      ],
      "execution_count": 34,
      "outputs": []
    },
    {
      "cell_type": "markdown",
      "metadata": {
        "id": "DxWJzdCHef94"
      },
      "source": [
        "**Calculating risk aversion**\n",
        "\n",
        "$U=E(R)-k*std(R)^2$\n",
        "\n",
        "Assuming a portfolio consisting only of the market portfolio + risk-free assets, and expressing $E(R)$ and $std(R)$ in terms of their weights, $w$, we have:\n",
        "\n",
        "$U=0.1*w+0.01*(1-w) - k*(w*0.18)^2$\n",
        "\n",
        "where $w$ is the weight allocated to the market portfolio. Then,\n",
        "\n",
        "$dU/dw = -0.0648*w*k+0.099$\n",
        "\n",
        "If we choose w = 1, and then solving for $dU/dw = 0$, we get $k=1.528$"
      ]
    },
    {
      "cell_type": "code",
      "metadata": {
        "colab": {
          "base_uri": "https://localhost:8080/"
        },
        "id": "DOSU2bFvXCMO",
        "outputId": "c47c65ff-ef54-40f4-b5f6-4beda94f6da0"
      },
      "source": [
        "ef = EfficientFrontier(mu, S)\n",
        "k = 1.528 \n",
        "print(f\"k = {k}\")\n",
        "\n",
        "ef.add_constraint(lambda x: x >= 0) # weights >= 0\n",
        "ef.add_constraint(lambda x: x <= 0.25) # weight <= 0.25\n",
        "\n",
        "sector_mapper = {} # initialise sector_mapper\n",
        "for stock in semiconductors:\n",
        "  sector_mapper[stock] = 'semiconductors'\n",
        "for stock in others:\n",
        "  sector_mapper[stock] = 'others'\n",
        "\n",
        "sector_lower = {'others': 0.3} # at least 30% to others\n",
        "\n",
        "ef.add_sector_constraints(sector_mapper=sector_mapper, sector_lower=sector_lower, sector_upper={}) # add sector constraint\n",
        "\n",
        "ef.add_objective(objective_functions.L2_reg, gamma=5) # L2 regularisation parameter, defaults to 1. This adds a small weights penalty, gamma, to the objective function. Increase for more non-negligible weights. \n",
        "\n",
        "optimal_weights_portfolio = ef.max_quadratic_utility(risk_aversion = 2*k) # optimize by the quadratic utility function mean - k/2 * variance (hence the 2*k in the parameters)\n",
        "ef.portfolio_performance(verbose=True, risk_free_rate=0.01) \n",
        "results = pd.Series(np.round(np.array(list(optimal_weights_portfolio.values())),4),index = in_sample_window.columns)\n",
        "results"
      ],
      "execution_count": 35,
      "outputs": [
        {
          "output_type": "stream",
          "name": "stdout",
          "text": [
            "k = 2.777777777777778\n",
            "Expected annual return: 179.1%\n",
            "Annual volatility: 42.1%\n",
            "Sharpe Ratio: 4.23\n"
          ]
        },
        {
          "output_type": "execute_result",
          "data": {
            "text/plain": [
              "ADI     0.0111\n",
              "AEIS    0.0047\n",
              "AMAT    0.0264\n",
              "AMD     0.0856\n",
              "AVGO    0.0131\n",
              "CRUS    0.0243\n",
              "DIOD    0.0242\n",
              "ENPH    0.2500\n",
              "FLEX    0.0180\n",
              "IIVI    0.0213\n",
              "INTC    0.0000\n",
              "JBL     0.0075\n",
              "LRCX    0.0466\n",
              "MCHP    0.0032\n",
              "MRVL    0.0472\n",
              "MTSI    0.0527\n",
              "MU      0.0179\n",
              "MXL     0.0042\n",
              "NVDA    0.0602\n",
              "NXPI    0.0143\n",
              "OLED    0.0254\n",
              "ON      0.0000\n",
              "QCOM    0.0478\n",
              "SGH     0.0000\n",
              "SMTC    0.0000\n",
              "SYNA    0.0375\n",
              "TSM     0.0689\n",
              "TTMI    0.0000\n",
              "TXN     0.0219\n",
              "XLNX    0.0138\n",
              "RF      0.0525\n",
              "dtype: float64"
            ]
          },
          "metadata": {},
          "execution_count": 35
        }
      ]
    },
    {
      "cell_type": "markdown",
      "metadata": {
        "id": "oVg-G4Qz977G"
      },
      "source": [
        "## Using CVX package (Just to check, drop this portion from the final submission)\n",
        "\n",
        "Note: Not sure why the gamma here needs to be much smaller despite using the same function as above."
      ]
    },
    {
      "cell_type": "code",
      "metadata": {
        "id": "KA4Vky7X-__f"
      },
      "source": [
        "#returns_df = in_sample_window[semiconductors + others] # re-arrange dataframe with semiconductors in front and others behind for easy weight assignment \n"
      ],
      "execution_count": 36,
      "outputs": []
    },
    {
      "cell_type": "code",
      "metadata": {
        "id": "rwaQ5Du4iEOE"
      },
      "source": [
        "# function stolen from tutorial 2\n",
        "# modified to use the portfolio_return - k * portfolio_variance utility function\n",
        "# TO-DO - OPTIMIZE BY SUB-SECTOR\n",
        "# TO-DO - FIGURE OUT HOW TO ADD L2 REGULARIZATION WITHOUT RELYING ON PYPFOPT\n",
        "\n",
        "def get_optimized_portfolio(returns_df, k):\n",
        "    \"\"\"\n",
        "    Function that takes in the returns series of assets, minimizes the utility function, \n",
        "    and returns the portfolio weights\n",
        "    \n",
        "    Parameters\n",
        "    ----------\n",
        "    returns_df : pd.dataframe\n",
        "        Dataframe containing log asset return series in each column\n",
        "    \n",
        "    k : float\n",
        "        Risk-aversion\n",
        "        \n",
        "    Returns\n",
        "    -------\n",
        "    x : np.ndarray\n",
        "        A numpy ndarray containing the weights of the assets in the optimized portfolio\n",
        "    \"\"\"\n",
        "    \n",
        "    returns = returns_df.T.to_numpy() # convert returns dataframe to numpy array \n",
        "    m = returns.shape[0] # m is the number of assets\n",
        "  \n",
        "    cov = np.cov(returns) # covariance matrix of returns\n",
        "    \n",
        "    x = cvx.Variable(len(semiconductors)) # creating variable of weights specific to semiconductors\n",
        "    y = cvx.Variable(len(others)) # creating variable of weights specific to others\n",
        "    w = cvx.hstack([x,y]) # stack the weights together so we can reference them as a whole\n",
        "    \n",
        "    portfolio_variance = cvx.quad_form(w, cov) # portfolio variance, in quadratic form, scaled by overall portfolio weight\n",
        "   \n",
        "    log_returns_df = np.log(returns_df+1)\n",
        "  \n",
        "    total_return_log = log_returns_df.sum().to_numpy() #this is in log space, change to simple return\n",
        "\n",
        "    total_simple_return = np.exp(total_return_log) -1\n",
        "    \n",
        "    horizon_length = returns.shape[1]\n",
        "    expected_mean = (1 + total_simple_return) ** (1 / horizon_length) - 1\n",
        "   \n",
        "    portfolio_return = sum(cvx.multiply(expected_mean, w)) # element wise multiplication, followed up by sum of weights\n",
        "    \n",
        "    # Objective Function                                                    \n",
        "    # We want to minimize variance and maximize returns.                    \n",
        "    #objective = cvx.Maximize(portfolio_return - k * portfolio_variance)  \n",
        "    objectives = objective_functions.quadratic_utility(w, expected_mean, cov, 2*k) # multiply by 2 because pypfopt uses k/2\n",
        "    objectives += objective_functions.L2_reg(w, gamma=0.01)\n",
        "    objectives = cvx.Minimize(objectives)\n",
        "\n",
        "\n",
        "    # Constraints\n",
        "    # long only, sum of weights equal to 1, no allocation to a single stock great than 25% of portfolio, at least 30% to non-semiconductor stocks\n",
        "    constraints = [w >= 0, sum(w) == 1, w <= 0.25, sum(y) >= 0.3]\n",
        "\n",
        "    # use cvxpy to solve the objective\n",
        "    problem = cvx.Problem(objectives, constraints)\n",
        "    # retrieve the weights of the optimized portfolio\n",
        "    result = problem.solve(solver=\"CVXOPT\")\n",
        "\n",
        "    print(f\"Portfolio Returns: {np.round((portfolio_return.value+1)**252-1,3)*100}%, Portfolio Volatility: {np.round((252**0.5)*(portfolio_variance.value**0.5),3)*100}%\") # print annualized results\n",
        "    \n",
        "    return w.value"
      ],
      "execution_count": 37,
      "outputs": []
    },
    {
      "cell_type": "code",
      "metadata": {
        "id": "mIKgWlrADn0G"
      },
      "source": [
        "#k = 1.528\n",
        "#print(f\"k = {k}\")\n",
        "#w = get_optimized_portfolio(returns_df, k=k)\n",
        "#results = pd.Series(np.round(w,2), index = returns_df.columns) \n",
        "#results"
      ],
      "execution_count": 38,
      "outputs": []
    },
    {
      "cell_type": "markdown",
      "metadata": {
        "id": "l7DJ7ZiijhuI"
      },
      "source": [
        "## 2.2 Evaluation\n",
        "\n",
        "Even if we don't need to compare old vs new portfolio, we still need this data for VaR calculations"
      ]
    },
    {
      "cell_type": "code",
      "metadata": {
        "colab": {
          "base_uri": "https://localhost:8080/"
        },
        "id": "EghhxwEWjYHQ",
        "outputId": "1e74af80-b4aa-4be9-f0eb-f725e1fc11ca"
      },
      "source": [
        "ef.portfolio_performance(verbose=True, risk_free_rate=0.01) \n",
        "results"
      ],
      "execution_count": 39,
      "outputs": [
        {
          "output_type": "stream",
          "name": "stdout",
          "text": [
            "Expected annual return: 179.1%\n",
            "Annual volatility: 42.1%\n",
            "Sharpe Ratio: 4.23\n"
          ]
        },
        {
          "output_type": "execute_result",
          "data": {
            "text/plain": [
              "ADI     0.0111\n",
              "AEIS    0.0047\n",
              "AMAT    0.0264\n",
              "AMD     0.0856\n",
              "AVGO    0.0131\n",
              "CRUS    0.0243\n",
              "DIOD    0.0242\n",
              "ENPH    0.2500\n",
              "FLEX    0.0180\n",
              "IIVI    0.0213\n",
              "INTC    0.0000\n",
              "JBL     0.0075\n",
              "LRCX    0.0466\n",
              "MCHP    0.0032\n",
              "MRVL    0.0472\n",
              "MTSI    0.0527\n",
              "MU      0.0179\n",
              "MXL     0.0042\n",
              "NVDA    0.0602\n",
              "NXPI    0.0143\n",
              "OLED    0.0254\n",
              "ON      0.0000\n",
              "QCOM    0.0478\n",
              "SGH     0.0000\n",
              "SMTC    0.0000\n",
              "SYNA    0.0375\n",
              "TSM     0.0689\n",
              "TTMI    0.0000\n",
              "TXN     0.0219\n",
              "XLNX    0.0138\n",
              "RF      0.0525\n",
              "dtype: float64"
            ]
          },
          "metadata": {},
          "execution_count": 39
        }
      ]
    },
    {
      "cell_type": "code",
      "metadata": {
        "colab": {
          "base_uri": "https://localhost:8080/",
          "height": 1000
        },
        "id": "wHk0JgMMmBs6",
        "outputId": "6a2bcf28-a8d7-4ca1-cba6-a66f920bce45"
      },
      "source": [
        "original_portfolio = pd.read_csv('/content/bt4016-project/original_weights_best.csv')\n",
        "#original_portfolio['Security\\'s Percentage of the Total Net Assets'] = np.round(original_portfolio['Security\\'s Percentage of the Total Net Assets'],3)/100\n",
        "original_portfolio.index = original_portfolio['Ticker Symbol Given by the Exchange']\n",
        "del original_portfolio['Ticker Symbol Given by the Exchange']\n",
        "original_portfolio"
      ],
      "execution_count": 40,
      "outputs": [
        {
          "output_type": "execute_result",
          "data": {
            "text/html": [
              "<div>\n",
              "<style scoped>\n",
              "    .dataframe tbody tr th:only-of-type {\n",
              "        vertical-align: middle;\n",
              "    }\n",
              "\n",
              "    .dataframe tbody tr th {\n",
              "        vertical-align: top;\n",
              "    }\n",
              "\n",
              "    .dataframe thead th {\n",
              "        text-align: right;\n",
              "    }\n",
              "</style>\n",
              "<table border=\"1\" class=\"dataframe\">\n",
              "  <thead>\n",
              "    <tr style=\"text-align: right;\">\n",
              "      <th></th>\n",
              "      <th>Security's Percentage of the Total Net Assets</th>\n",
              "      <th>Number of the Security's Shares</th>\n",
              "      <th>Market Value of the Security as of eff_dt</th>\n",
              "      <th>Name of the Security Held</th>\n",
              "    </tr>\n",
              "    <tr>\n",
              "      <th>Ticker Symbol Given by the Exchange</th>\n",
              "      <th></th>\n",
              "      <th></th>\n",
              "      <th></th>\n",
              "      <th></th>\n",
              "    </tr>\n",
              "  </thead>\n",
              "  <tbody>\n",
              "    <tr>\n",
              "      <th>NVDA</th>\n",
              "      <td>19.019989</td>\n",
              "      <td>1891192.00</td>\n",
              "      <td>9.875805e+08</td>\n",
              "      <td>NVIDIA CORP</td>\n",
              "    </tr>\n",
              "    <tr>\n",
              "      <th>QCOM</th>\n",
              "      <td>6.719997</td>\n",
              "      <td>2288988.00</td>\n",
              "      <td>3.487044e+08</td>\n",
              "      <td>QUALCOMM INC</td>\n",
              "    </tr>\n",
              "    <tr>\n",
              "      <th>NXPI</th>\n",
              "      <td>6.079998</td>\n",
              "      <td>1983488.00</td>\n",
              "      <td>3.153944e+08</td>\n",
              "      <td>N X P SEMICONDUCTORS N V</td>\n",
              "    </tr>\n",
              "    <tr>\n",
              "      <th>MU</th>\n",
              "      <td>5.820000</td>\n",
              "      <td>4015660.00</td>\n",
              "      <td>3.018973e+08</td>\n",
              "      <td>MICRON TECHNOLOGY INC</td>\n",
              "    </tr>\n",
              "    <tr>\n",
              "      <th>MRVL</th>\n",
              "      <td>5.369999</td>\n",
              "      <td>5868093.00</td>\n",
              "      <td>2.789691e+08</td>\n",
              "      <td>MARVELL TECHNOLOGY GROUP LTD</td>\n",
              "    </tr>\n",
              "    <tr>\n",
              "      <th>AMD</th>\n",
              "      <td>5.289997</td>\n",
              "      <td>2994500.00</td>\n",
              "      <td>2.746256e+08</td>\n",
              "      <td>ADVANCED MICRO DEVICES INC</td>\n",
              "    </tr>\n",
              "    <tr>\n",
              "      <th>MCHP</th>\n",
              "      <td>4.779999</td>\n",
              "      <td>1794837.00</td>\n",
              "      <td>2.478849e+08</td>\n",
              "      <td>MICROCHIP TECHNOLOGY INC</td>\n",
              "    </tr>\n",
              "    <tr>\n",
              "      <th>AVGO</th>\n",
              "      <td>4.689999</td>\n",
              "      <td>555550.00</td>\n",
              "      <td>2.432476e+08</td>\n",
              "      <td>BROADCOM INC</td>\n",
              "    </tr>\n",
              "    <tr>\n",
              "      <th>XLNX</th>\n",
              "      <td>4.639999</td>\n",
              "      <td>1699866.00</td>\n",
              "      <td>2.409900e+08</td>\n",
              "      <td>XILINX INC</td>\n",
              "    </tr>\n",
              "    <tr>\n",
              "      <th>LRCX</th>\n",
              "      <td>4.589996</td>\n",
              "      <td>504973.00</td>\n",
              "      <td>2.384836e+08</td>\n",
              "      <td>LAM RESH CORP</td>\n",
              "    </tr>\n",
              "    <tr>\n",
              "      <th>ON</th>\n",
              "      <td>4.289997</td>\n",
              "      <td>6811840.00</td>\n",
              "      <td>2.229515e+08</td>\n",
              "      <td>ON SEMICONDUCTOR CORP</td>\n",
              "    </tr>\n",
              "    <tr>\n",
              "      <th>INTC</th>\n",
              "      <td>3.839998</td>\n",
              "      <td>4004542.00</td>\n",
              "      <td>1.995063e+08</td>\n",
              "      <td>INTEL CORP</td>\n",
              "    </tr>\n",
              "    <tr>\n",
              "      <th>TXN</th>\n",
              "      <td>2.839998</td>\n",
              "      <td>899600.00</td>\n",
              "      <td>1.476513e+08</td>\n",
              "      <td>TEXAS INSTRUMENTS INC</td>\n",
              "    </tr>\n",
              "    <tr>\n",
              "      <th>ENPH</th>\n",
              "      <td>2.839998</td>\n",
              "      <td>839200.00</td>\n",
              "      <td>1.472544e+08</td>\n",
              "      <td>ENPHASE ENERGY INC</td>\n",
              "    </tr>\n",
              "    <tr>\n",
              "      <th>AMAT</th>\n",
              "      <td>2.129999</td>\n",
              "      <td>1282500.00</td>\n",
              "      <td>1.106798e+08</td>\n",
              "      <td>APPLIED MATERIALS INC</td>\n",
              "    </tr>\n",
              "    <tr>\n",
              "      <th>CRUS</th>\n",
              "      <td>2.080000</td>\n",
              "      <td>1311560.00</td>\n",
              "      <td>1.078102e+08</td>\n",
              "      <td>CIRRUS LOGIC INC</td>\n",
              "    </tr>\n",
              "    <tr>\n",
              "      <th>JBL</th>\n",
              "      <td>1.400000</td>\n",
              "      <td>1705858.00</td>\n",
              "      <td>7.255014e+07</td>\n",
              "      <td>JABIL INC</td>\n",
              "    </tr>\n",
              "    <tr>\n",
              "      <th>ADI</th>\n",
              "      <td>1.299999</td>\n",
              "      <td>455296.00</td>\n",
              "      <td>6.726088e+07</td>\n",
              "      <td>ANALOG DEVICES INC</td>\n",
              "    </tr>\n",
              "    <tr>\n",
              "      <th>IPHI</th>\n",
              "      <td>1.209999</td>\n",
              "      <td>391700.00</td>\n",
              "      <td>6.285610e+07</td>\n",
              "      <td>INPHI CORP</td>\n",
              "    </tr>\n",
              "    <tr>\n",
              "      <th>OLED</th>\n",
              "      <td>1.179999</td>\n",
              "      <td>266887.00</td>\n",
              "      <td>6.133063e+07</td>\n",
              "      <td>UNIVERSAL DISPLAY CORP</td>\n",
              "    </tr>\n",
              "    <tr>\n",
              "      <th>TSM</th>\n",
              "      <td>1.110000</td>\n",
              "      <td>530300.00</td>\n",
              "      <td>5.782391e+07</td>\n",
              "      <td>TAIWAN SEMICONDUCTOR MFG CO LTD</td>\n",
              "    </tr>\n",
              "    <tr>\n",
              "      <th>IIVI</th>\n",
              "      <td>0.960000</td>\n",
              "      <td>653400.00</td>\n",
              "      <td>4.963226e+07</td>\n",
              "      <td>II VI INC</td>\n",
              "    </tr>\n",
              "    <tr>\n",
              "      <th>DIOD</th>\n",
              "      <td>0.910000</td>\n",
              "      <td>667300.00</td>\n",
              "      <td>4.704465e+07</td>\n",
              "      <td>DIODES INC</td>\n",
              "    </tr>\n",
              "    <tr>\n",
              "      <th>AEIS</th>\n",
              "      <td>0.730000</td>\n",
              "      <td>388464.00</td>\n",
              "      <td>3.766935e+07</td>\n",
              "      <td>ADVANCED ENERGY INDUSTRIES INC</td>\n",
              "    </tr>\n",
              "    <tr>\n",
              "      <th>MTSI</th>\n",
              "      <td>0.680000</td>\n",
              "      <td>639800.00</td>\n",
              "      <td>3.521459e+07</td>\n",
              "      <td>MACOM TECHNOLOGY SOLS HLDS INC</td>\n",
              "    </tr>\n",
              "    <tr>\n",
              "      <th>TTMI</th>\n",
              "      <td>0.670000</td>\n",
              "      <td>2524167.00</td>\n",
              "      <td>3.482088e+07</td>\n",
              "      <td>TTM TECHNOLOGIES INC</td>\n",
              "    </tr>\n",
              "    <tr>\n",
              "      <th>FLEX</th>\n",
              "      <td>0.660000</td>\n",
              "      <td>1908900.00</td>\n",
              "      <td>3.432202e+07</td>\n",
              "      <td>FLEX LTD</td>\n",
              "    </tr>\n",
              "    <tr>\n",
              "      <th>MXL</th>\n",
              "      <td>0.600000</td>\n",
              "      <td>817731.00</td>\n",
              "      <td>3.122915e+07</td>\n",
              "      <td>MAXLINEAR INC</td>\n",
              "    </tr>\n",
              "    <tr>\n",
              "      <th>SMTC</th>\n",
              "      <td>0.520000</td>\n",
              "      <td>377500.00</td>\n",
              "      <td>2.721398e+07</td>\n",
              "      <td>SEMTECH CORP</td>\n",
              "    </tr>\n",
              "    <tr>\n",
              "      <th>SYNA</th>\n",
              "      <td>0.490000</td>\n",
              "      <td>266364.00</td>\n",
              "      <td>2.567749e+07</td>\n",
              "      <td>SYNAPTICS INC</td>\n",
              "    </tr>\n",
              "    <tr>\n",
              "      <th>SGH</th>\n",
              "      <td>0.460000</td>\n",
              "      <td>641000.00</td>\n",
              "      <td>2.412083e+07</td>\n",
              "      <td>SMART GLOBAL HOLDINGS INC</td>\n",
              "    </tr>\n",
              "    <tr>\n",
              "      <th>005930</th>\n",
              "      <td>0.460000</td>\n",
              "      <td>323460.00</td>\n",
              "      <td>2.407216e+07</td>\n",
              "      <td>Samsung Electronics Co Ltd ORD</td>\n",
              "    </tr>\n",
              "    <tr>\n",
              "      <th>AOSL</th>\n",
              "      <td>0.340000</td>\n",
              "      <td>742296.00</td>\n",
              "      <td>1.754788e+07</td>\n",
              "      <td>ALPHA &amp; OMEGA SEMICONDUCTOR LTD</td>\n",
              "    </tr>\n",
              "    <tr>\n",
              "      <th>LP4020</th>\n",
              "      <td>0.330000</td>\n",
              "      <td>17062327.64</td>\n",
              "      <td>1.706574e+07</td>\n",
              "      <td>Fidelity Cash Central Fund</td>\n",
              "    </tr>\n",
              "    <tr>\n",
              "      <th>SEDG</th>\n",
              "      <td>0.300000</td>\n",
              "      <td>49300.00</td>\n",
              "      <td>1.573262e+07</td>\n",
              "      <td>SOLAREDGE TECHNOLOGIES INC</td>\n",
              "    </tr>\n",
              "    <tr>\n",
              "      <th>AMBA</th>\n",
              "      <td>0.180000</td>\n",
              "      <td>101700.00</td>\n",
              "      <td>9.338094e+06</td>\n",
              "      <td>AMBARELLA INC</td>\n",
              "    </tr>\n",
              "    <tr>\n",
              "      <th>ASX</th>\n",
              "      <td>0.160000</td>\n",
              "      <td>1396600.00</td>\n",
              "      <td>8.156144e+06</td>\n",
              "      <td>A S E TECHNOLOGY HLDG CO LTD</td>\n",
              "    </tr>\n",
              "    <tr>\n",
              "      <th>83205Y</th>\n",
              "      <td>0.080000</td>\n",
              "      <td>3590000.00</td>\n",
              "      <td>4.071339e+06</td>\n",
              "      <td>Saleen Hldg 2.250% 15-Feb-2026</td>\n",
              "    </tr>\n",
              "  </tbody>\n",
              "</table>\n",
              "</div>"
            ],
            "text/plain": [
              "                                     Security's Percentage of the Total Net Assets  ...        Name of the Security Held\n",
              "Ticker Symbol Given by the Exchange                                                 ...                                 \n",
              "NVDA                                                                     19.019989  ...                      NVIDIA CORP\n",
              "QCOM                                                                      6.719997  ...                     QUALCOMM INC\n",
              "NXPI                                                                      6.079998  ...         N X P SEMICONDUCTORS N V\n",
              "MU                                                                        5.820000  ...            MICRON TECHNOLOGY INC\n",
              "MRVL                                                                      5.369999  ...     MARVELL TECHNOLOGY GROUP LTD\n",
              "AMD                                                                       5.289997  ...       ADVANCED MICRO DEVICES INC\n",
              "MCHP                                                                      4.779999  ...         MICROCHIP TECHNOLOGY INC\n",
              "AVGO                                                                      4.689999  ...                     BROADCOM INC\n",
              "XLNX                                                                      4.639999  ...                       XILINX INC\n",
              "LRCX                                                                      4.589996  ...                    LAM RESH CORP\n",
              "ON                                                                        4.289997  ...            ON SEMICONDUCTOR CORP\n",
              "INTC                                                                      3.839998  ...                       INTEL CORP\n",
              "TXN                                                                       2.839998  ...            TEXAS INSTRUMENTS INC\n",
              "ENPH                                                                      2.839998  ...               ENPHASE ENERGY INC\n",
              "AMAT                                                                      2.129999  ...            APPLIED MATERIALS INC\n",
              "CRUS                                                                      2.080000  ...                 CIRRUS LOGIC INC\n",
              "JBL                                                                       1.400000  ...                        JABIL INC\n",
              "ADI                                                                       1.299999  ...               ANALOG DEVICES INC\n",
              "IPHI                                                                      1.209999  ...                       INPHI CORP\n",
              "OLED                                                                      1.179999  ...           UNIVERSAL DISPLAY CORP\n",
              "TSM                                                                       1.110000  ...  TAIWAN SEMICONDUCTOR MFG CO LTD\n",
              "IIVI                                                                      0.960000  ...                        II VI INC\n",
              "DIOD                                                                      0.910000  ...                       DIODES INC\n",
              "AEIS                                                                      0.730000  ...   ADVANCED ENERGY INDUSTRIES INC\n",
              "MTSI                                                                      0.680000  ...   MACOM TECHNOLOGY SOLS HLDS INC\n",
              "TTMI                                                                      0.670000  ...             TTM TECHNOLOGIES INC\n",
              "FLEX                                                                      0.660000  ...                         FLEX LTD\n",
              "MXL                                                                       0.600000  ...                    MAXLINEAR INC\n",
              "SMTC                                                                      0.520000  ...                     SEMTECH CORP\n",
              "SYNA                                                                      0.490000  ...                    SYNAPTICS INC\n",
              "SGH                                                                       0.460000  ...        SMART GLOBAL HOLDINGS INC\n",
              "005930                                                                    0.460000  ...   Samsung Electronics Co Ltd ORD\n",
              "AOSL                                                                      0.340000  ...  ALPHA & OMEGA SEMICONDUCTOR LTD\n",
              "LP4020                                                                    0.330000  ...       Fidelity Cash Central Fund\n",
              "SEDG                                                                      0.300000  ...       SOLAREDGE TECHNOLOGIES INC\n",
              "AMBA                                                                      0.180000  ...                    AMBARELLA INC\n",
              "ASX                                                                       0.160000  ...     A S E TECHNOLOGY HLDG CO LTD\n",
              "83205Y                                                                    0.080000  ...   Saleen Hldg 2.250% 15-Feb-2026\n",
              "\n",
              "[38 rows x 4 columns]"
            ]
          },
          "metadata": {},
          "execution_count": 40
        }
      ]
    },
    {
      "cell_type": "code",
      "metadata": {
        "colab": {
          "base_uri": "https://localhost:8080/"
        },
        "id": "80GgYNWvunBZ",
        "outputId": "60a51b0b-9e79-42e7-8abc-9bf6526d6132"
      },
      "source": [
        "original_portfolio['Security\\'s Percentage of the Total Net Assets'].sum() # missing 0.25% from somewhere"
      ],
      "execution_count": 41,
      "outputs": [
        {
          "output_type": "execute_result",
          "data": {
            "text/plain": [
              "99.74995833300001"
            ]
          },
          "metadata": {},
          "execution_count": 41
        }
      ]
    }
  ]
}