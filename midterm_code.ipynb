{
 "cells": [
  {
   "cell_type": "markdown",
   "metadata": {
    "id": "PRv6Qw7_i16E"
   },
   "source": [
    "# 1.1 Load libraries\n",
    "\n",
    "Note: After resolving conflicts, runs the entire notebook to make sure none of the old code is broken."
   ]
  },
  {
   "cell_type": "code",
   "execution_count": 1,
   "metadata": {
    "colab": {
     "base_uri": "https://localhost:8080/"
    },
    "id": "JU9FBLlKJ5Ne",
    "outputId": "6496eceb-7865-4ff1-ab1d-1420d5a5d32f"
   },
   "outputs": [
    {
     "name": "stdout",
     "output_type": "stream",
     "text": [
      "Requirement already up-to-date: cvxpy in d:\\anaconda\\lib\\site-packages (1.1.15)\n",
      "Requirement already satisfied, skipping upgrade: scipy>=1.1.0 in d:\\anaconda\\lib\\site-packages (from cvxpy) (1.5.2)\n",
      "Requirement already satisfied, skipping upgrade: osqp>=0.4.1 in d:\\anaconda\\lib\\site-packages (from cvxpy) (0.6.2.post0)\n",
      "Requirement already satisfied, skipping upgrade: numpy>=1.15 in d:\\anaconda\\lib\\site-packages (from cvxpy) (1.19.2)\n",
      "Requirement already satisfied, skipping upgrade: scs>=1.1.6 in d:\\anaconda\\lib\\site-packages (from cvxpy) (2.1.4)\n",
      "Requirement already satisfied, skipping upgrade: ecos>=2 in d:\\anaconda\\lib\\site-packages (from cvxpy) (2.0.7.post1)\n",
      "Requirement already satisfied, skipping upgrade: qdldl in d:\\anaconda\\lib\\site-packages (from osqp>=0.4.1->cvxpy) (0.1.5.post0)\n"
     ]
    }
   ],
   "source": [
    "import pandas as pd\n",
    "import numpy as np\n",
    "import os\n",
    "\n",
    "!pip install cvxpy --upgrade\n",
    "import cvxpy as cvx"
   ]
  },
  {
   "cell_type": "markdown",
   "metadata": {
    "id": "JuKIO2N6jJMe"
   },
   "source": [
    "# 1.3 Load the stocks into memory and perform some preprocessing steps\n",
    "\n",
    "The data is stored as key-value pairs in a dictionary, with the ticker referencing the respective dataframe. Following that, the date is changed into a datetime object and a new column for log-returns is added."
   ]
  },
  {
   "cell_type": "code",
   "execution_count": 2,
   "metadata": {
    "id": "mVnwEINlL70j"
   },
   "outputs": [],
   "source": [
    "# load stocks into a dictionary\n",
    "stocks = {}\n",
    "do_not_append = ['FSELX','IPHI'] # FSELX is our fund, while IPHI does not have data and has been bought over by MRVL\n",
    "for file_name in os.listdir('data/'):\n",
    "  ticker = file_name.split(\".\")[0]\n",
    "  if ticker in do_not_append:\n",
    "    pass\n",
    "  else:\n",
    "    stocks[f'{ticker}'] = pd.read_csv(f'data/{file_name}') # for each stock, add its ticker as the key and dataframe as the value"
   ]
  },
  {
   "cell_type": "code",
   "execution_count": 3,
   "metadata": {
    "colab": {
     "base_uri": "https://localhost:8080/"
    },
    "id": "NUjfzh4EVqlv",
    "outputId": "424044d2-d005-4ec8-fbbc-e014b5749f26"
   },
   "outputs": [
    {
     "name": "stdout",
     "output_type": "stream",
     "text": [
      "['005930', 'ADI', 'AEIS', 'AMAT', 'AMBA', 'AMD', 'AOSL', 'ASX', 'AVGO', 'CRUS', 'DIOD', 'ENPH', 'FLEX', 'IIVI', 'INTC', 'JBL', 'LRCX', 'MCHP', 'MRVL', 'MTSI', 'MU', 'MXL', 'NVDA', 'NXPI', 'OLED', 'ON', 'QCOM', 'SEDG', 'SGH', 'SMTC', 'SYNA', 'TSM', 'TTMI', 'TXN', 'XLNX']\n"
     ]
    }
   ],
   "source": [
    "print(list(stocks.keys())) # print the stock tickers for easy referencing"
   ]
  },
  {
   "cell_type": "code",
   "execution_count": 4,
   "metadata": {
    "id": "61jHOrPQO0Y-"
   },
   "outputs": [],
   "source": [
    "# Change date column into a datetime object\n",
    "# Add a new column for log returns\n",
    "for ticker, df in stocks.items():\n",
    "  df['Date'] = df['Date'].apply(pd.to_datetime)\n",
    "  df['LogReturns'] = np.append(np.nan,np.diff(np.log(df['Adj Close']))) # Fill dataframe with the log returns. The first value will be nan because there is no log returns for it."
   ]
  },
  {
   "cell_type": "code",
   "execution_count": 5,
   "metadata": {
    "colab": {
     "base_uri": "https://localhost:8080/",
     "height": 206
    },
    "id": "i5CA8cPecAVO",
    "outputId": "f39bf8d5-0262-41d8-eadb-b7bb7181dd20"
   },
   "outputs": [
    {
     "data": {
      "text/html": [
       "<div>\n",
       "<style scoped>\n",
       "    .dataframe tbody tr th:only-of-type {\n",
       "        vertical-align: middle;\n",
       "    }\n",
       "\n",
       "    .dataframe tbody tr th {\n",
       "        vertical-align: top;\n",
       "    }\n",
       "\n",
       "    .dataframe thead th {\n",
       "        text-align: right;\n",
       "    }\n",
       "</style>\n",
       "<table border=\"1\" class=\"dataframe\">\n",
       "  <thead>\n",
       "    <tr style=\"text-align: right;\">\n",
       "      <th></th>\n",
       "      <th>Date</th>\n",
       "      <th>Open</th>\n",
       "      <th>High</th>\n",
       "      <th>Low</th>\n",
       "      <th>Close</th>\n",
       "      <th>Adj Close</th>\n",
       "      <th>Volume</th>\n",
       "      <th>LogReturns</th>\n",
       "    </tr>\n",
       "  </thead>\n",
       "  <tbody>\n",
       "    <tr>\n",
       "      <th>0</th>\n",
       "      <td>2016-10-04</td>\n",
       "      <td>69.660004</td>\n",
       "      <td>69.910004</td>\n",
       "      <td>69.099998</td>\n",
       "      <td>69.589996</td>\n",
       "      <td>61.006310</td>\n",
       "      <td>4089500</td>\n",
       "      <td>NaN</td>\n",
       "    </tr>\n",
       "    <tr>\n",
       "      <th>1</th>\n",
       "      <td>2016-10-05</td>\n",
       "      <td>69.849998</td>\n",
       "      <td>70.839996</td>\n",
       "      <td>69.010002</td>\n",
       "      <td>70.599998</td>\n",
       "      <td>61.891724</td>\n",
       "      <td>4789600</td>\n",
       "      <td>0.014409</td>\n",
       "    </tr>\n",
       "    <tr>\n",
       "      <th>2</th>\n",
       "      <td>2016-10-06</td>\n",
       "      <td>70.440002</td>\n",
       "      <td>71.000000</td>\n",
       "      <td>70.029999</td>\n",
       "      <td>70.959999</td>\n",
       "      <td>62.207321</td>\n",
       "      <td>4061500</td>\n",
       "      <td>0.005086</td>\n",
       "    </tr>\n",
       "    <tr>\n",
       "      <th>3</th>\n",
       "      <td>2016-10-07</td>\n",
       "      <td>71.000000</td>\n",
       "      <td>71.059998</td>\n",
       "      <td>70.449997</td>\n",
       "      <td>70.870003</td>\n",
       "      <td>62.128426</td>\n",
       "      <td>3673600</td>\n",
       "      <td>-0.001269</td>\n",
       "    </tr>\n",
       "    <tr>\n",
       "      <th>4</th>\n",
       "      <td>2016-10-10</td>\n",
       "      <td>71.080002</td>\n",
       "      <td>71.330002</td>\n",
       "      <td>69.900002</td>\n",
       "      <td>69.930000</td>\n",
       "      <td>61.304375</td>\n",
       "      <td>4893200</td>\n",
       "      <td>-0.013352</td>\n",
       "    </tr>\n",
       "  </tbody>\n",
       "</table>\n",
       "</div>"
      ],
      "text/plain": [
       "        Date       Open       High        Low      Close  Adj Close   Volume  \\\n",
       "0 2016-10-04  69.660004  69.910004  69.099998  69.589996  61.006310  4089500   \n",
       "1 2016-10-05  69.849998  70.839996  69.010002  70.599998  61.891724  4789600   \n",
       "2 2016-10-06  70.440002  71.000000  70.029999  70.959999  62.207321  4061500   \n",
       "3 2016-10-07  71.000000  71.059998  70.449997  70.870003  62.128426  3673600   \n",
       "4 2016-10-10  71.080002  71.330002  69.900002  69.930000  61.304375  4893200   \n",
       "\n",
       "   LogReturns  \n",
       "0         NaN  \n",
       "1    0.014409  \n",
       "2    0.005086  \n",
       "3   -0.001269  \n",
       "4   -0.013352  "
      ]
     },
     "execution_count": 5,
     "metadata": {},
     "output_type": "execute_result"
    }
   ],
   "source": [
    "# preview a stock\n",
    "stocks['TXN'].head()"
   ]
  },
  {
   "cell_type": "code",
   "execution_count": 6,
   "metadata": {
    "id": "IgYQ9yyJybW_"
   },
   "outputs": [],
   "source": [
    "top_30 = ['SYNA', 'MRVL', 'SGH', 'ENPH', 'JBL', 'CRUS', 'MCHP', 'AEIS', 'MTSI', 'AMAT', 'NVDA', 'ON', 'TTMI', 'SMTC', 'AVGO', 'XLNX', 'TSM', 'IIVI', 'QCOM', 'NXPI', 'FLEX', 'DIOD', 'AMD', 'MXL', 'ADI', 'INTC', 'TXN', 'LRCX', 'MU', 'OLED']\n",
    "stocks_30 = {stock:df for stock,df in stocks.items() if stock in top_30}"
   ]
  },
  {
   "cell_type": "markdown",
   "metadata": {
    "id": "RV6MdDBHjoaF"
   },
   "source": [
    "# 1.4 Aggregate the log-returns into one dataframe"
   ]
  },
  {
   "cell_type": "code",
   "execution_count": 7,
   "metadata": {
    "id": "oOo_SPu_eMe6"
   },
   "outputs": [],
   "source": [
    "log_returns = pd.DataFrame(data=np.full((stocks['TXN'].shape[0],30),np.nan), columns = sorted(list(stocks_30.keys())), index = stocks_30['TXN'].Date) # create empty dataframe filled with NaNs, with index = Date and columns = stocks\n",
    "\n",
    "# copy the log returns over from the stocks dictionary\n",
    "for ticker, df in stocks_30.items():\n",
    "  log_returns[ticker] = log_returns.index.map(stocks_30[ticker].set_index('Date')['LogReturns'])\n",
    "\n",
    "# if simple returns are needed\n",
    "simple_returns = np.exp(log_returns)-1\n",
    "simple_returns['RF'] = np.repeat(0.0001,simple_returns.shape[0])"
   ]
  },
  {
   "cell_type": "code",
   "execution_count": 8,
   "metadata": {
    "colab": {
     "base_uri": "https://localhost:8080/",
     "height": 258
    },
    "id": "hXxMj4WuiKJY",
    "outputId": "96e64636-fab8-4e33-bdfc-20e2781783e9"
   },
   "outputs": [
    {
     "data": {
      "text/html": [
       "<div>\n",
       "<style scoped>\n",
       "    .dataframe tbody tr th:only-of-type {\n",
       "        vertical-align: middle;\n",
       "    }\n",
       "\n",
       "    .dataframe tbody tr th {\n",
       "        vertical-align: top;\n",
       "    }\n",
       "\n",
       "    .dataframe thead th {\n",
       "        text-align: right;\n",
       "    }\n",
       "</style>\n",
       "<table border=\"1\" class=\"dataframe\">\n",
       "  <thead>\n",
       "    <tr style=\"text-align: right;\">\n",
       "      <th></th>\n",
       "      <th>ADI</th>\n",
       "      <th>AEIS</th>\n",
       "      <th>AMAT</th>\n",
       "      <th>AMD</th>\n",
       "      <th>AVGO</th>\n",
       "      <th>CRUS</th>\n",
       "      <th>DIOD</th>\n",
       "      <th>ENPH</th>\n",
       "      <th>FLEX</th>\n",
       "      <th>IIVI</th>\n",
       "      <th>...</th>\n",
       "      <th>ON</th>\n",
       "      <th>QCOM</th>\n",
       "      <th>SGH</th>\n",
       "      <th>SMTC</th>\n",
       "      <th>SYNA</th>\n",
       "      <th>TSM</th>\n",
       "      <th>TTMI</th>\n",
       "      <th>TXN</th>\n",
       "      <th>XLNX</th>\n",
       "      <th>RF</th>\n",
       "    </tr>\n",
       "    <tr>\n",
       "      <th>Date</th>\n",
       "      <th></th>\n",
       "      <th></th>\n",
       "      <th></th>\n",
       "      <th></th>\n",
       "      <th></th>\n",
       "      <th></th>\n",
       "      <th></th>\n",
       "      <th></th>\n",
       "      <th></th>\n",
       "      <th></th>\n",
       "      <th></th>\n",
       "      <th></th>\n",
       "      <th></th>\n",
       "      <th></th>\n",
       "      <th></th>\n",
       "      <th></th>\n",
       "      <th></th>\n",
       "      <th></th>\n",
       "      <th></th>\n",
       "      <th></th>\n",
       "      <th></th>\n",
       "    </tr>\n",
       "  </thead>\n",
       "  <tbody>\n",
       "    <tr>\n",
       "      <th>2016-10-04</th>\n",
       "      <td>NaN</td>\n",
       "      <td>NaN</td>\n",
       "      <td>NaN</td>\n",
       "      <td>NaN</td>\n",
       "      <td>NaN</td>\n",
       "      <td>NaN</td>\n",
       "      <td>NaN</td>\n",
       "      <td>NaN</td>\n",
       "      <td>NaN</td>\n",
       "      <td>NaN</td>\n",
       "      <td>...</td>\n",
       "      <td>NaN</td>\n",
       "      <td>NaN</td>\n",
       "      <td>NaN</td>\n",
       "      <td>NaN</td>\n",
       "      <td>NaN</td>\n",
       "      <td>NaN</td>\n",
       "      <td>NaN</td>\n",
       "      <td>NaN</td>\n",
       "      <td>NaN</td>\n",
       "      <td>0.0001</td>\n",
       "    </tr>\n",
       "    <tr>\n",
       "      <th>2016-10-05</th>\n",
       "      <td>0.006849</td>\n",
       "      <td>0.008323</td>\n",
       "      <td>0.011145</td>\n",
       "      <td>-0.027260</td>\n",
       "      <td>0.026205</td>\n",
       "      <td>0.018109</td>\n",
       "      <td>0.024402</td>\n",
       "      <td>-0.008333</td>\n",
       "      <td>0.030837</td>\n",
       "      <td>0.043100</td>\n",
       "      <td>...</td>\n",
       "      <td>0.018062</td>\n",
       "      <td>0.002399</td>\n",
       "      <td>NaN</td>\n",
       "      <td>0.008727</td>\n",
       "      <td>0.049058</td>\n",
       "      <td>0.004607</td>\n",
       "      <td>0.019164</td>\n",
       "      <td>0.014513</td>\n",
       "      <td>0.006596</td>\n",
       "      <td>0.0001</td>\n",
       "    </tr>\n",
       "    <tr>\n",
       "      <th>2016-10-06</th>\n",
       "      <td>0.000928</td>\n",
       "      <td>0.027513</td>\n",
       "      <td>-0.001670</td>\n",
       "      <td>0.026549</td>\n",
       "      <td>0.004093</td>\n",
       "      <td>0.012919</td>\n",
       "      <td>0.003270</td>\n",
       "      <td>0.016807</td>\n",
       "      <td>0.004986</td>\n",
       "      <td>0.026619</td>\n",
       "      <td>...</td>\n",
       "      <td>0.002419</td>\n",
       "      <td>0.010473</td>\n",
       "      <td>NaN</td>\n",
       "      <td>-0.002884</td>\n",
       "      <td>0.054531</td>\n",
       "      <td>0.007861</td>\n",
       "      <td>0.001709</td>\n",
       "      <td>0.005099</td>\n",
       "      <td>0.000375</td>\n",
       "      <td>0.0001</td>\n",
       "    </tr>\n",
       "    <tr>\n",
       "      <th>2016-10-07</th>\n",
       "      <td>-0.004943</td>\n",
       "      <td>-0.015448</td>\n",
       "      <td>-0.004684</td>\n",
       "      <td>-0.030172</td>\n",
       "      <td>0.000115</td>\n",
       "      <td>-0.000739</td>\n",
       "      <td>-0.016760</td>\n",
       "      <td>-0.041322</td>\n",
       "      <td>-0.000709</td>\n",
       "      <td>-0.005418</td>\n",
       "      <td>...</td>\n",
       "      <td>-0.012068</td>\n",
       "      <td>0.009624</td>\n",
       "      <td>NaN</td>\n",
       "      <td>-0.004700</td>\n",
       "      <td>0.017339</td>\n",
       "      <td>0.013325</td>\n",
       "      <td>0.014505</td>\n",
       "      <td>-0.001268</td>\n",
       "      <td>-0.010107</td>\n",
       "      <td>0.0001</td>\n",
       "    </tr>\n",
       "    <tr>\n",
       "      <th>2016-10-10</th>\n",
       "      <td>-0.016610</td>\n",
       "      <td>0.004184</td>\n",
       "      <td>-0.012437</td>\n",
       "      <td>0.013333</td>\n",
       "      <td>0.003214</td>\n",
       "      <td>0.023122</td>\n",
       "      <td>-0.007102</td>\n",
       "      <td>-0.086207</td>\n",
       "      <td>-0.004965</td>\n",
       "      <td>0.003891</td>\n",
       "      <td>...</td>\n",
       "      <td>-0.012215</td>\n",
       "      <td>-0.013785</td>\n",
       "      <td>NaN</td>\n",
       "      <td>-0.027243</td>\n",
       "      <td>0.014630</td>\n",
       "      <td>0.003207</td>\n",
       "      <td>0.000000</td>\n",
       "      <td>-0.013264</td>\n",
       "      <td>-0.012857</td>\n",
       "      <td>0.0001</td>\n",
       "    </tr>\n",
       "  </tbody>\n",
       "</table>\n",
       "<p>5 rows × 31 columns</p>\n",
       "</div>"
      ],
      "text/plain": [
       "                 ADI      AEIS      AMAT       AMD      AVGO      CRUS  \\\n",
       "Date                                                                     \n",
       "2016-10-04       NaN       NaN       NaN       NaN       NaN       NaN   \n",
       "2016-10-05  0.006849  0.008323  0.011145 -0.027260  0.026205  0.018109   \n",
       "2016-10-06  0.000928  0.027513 -0.001670  0.026549  0.004093  0.012919   \n",
       "2016-10-07 -0.004943 -0.015448 -0.004684 -0.030172  0.000115 -0.000739   \n",
       "2016-10-10 -0.016610  0.004184 -0.012437  0.013333  0.003214  0.023122   \n",
       "\n",
       "                DIOD      ENPH      FLEX      IIVI  ...        ON      QCOM  \\\n",
       "Date                                                ...                       \n",
       "2016-10-04       NaN       NaN       NaN       NaN  ...       NaN       NaN   \n",
       "2016-10-05  0.024402 -0.008333  0.030837  0.043100  ...  0.018062  0.002399   \n",
       "2016-10-06  0.003270  0.016807  0.004986  0.026619  ...  0.002419  0.010473   \n",
       "2016-10-07 -0.016760 -0.041322 -0.000709 -0.005418  ... -0.012068  0.009624   \n",
       "2016-10-10 -0.007102 -0.086207 -0.004965  0.003891  ... -0.012215 -0.013785   \n",
       "\n",
       "            SGH      SMTC      SYNA       TSM      TTMI       TXN      XLNX  \\\n",
       "Date                                                                          \n",
       "2016-10-04  NaN       NaN       NaN       NaN       NaN       NaN       NaN   \n",
       "2016-10-05  NaN  0.008727  0.049058  0.004607  0.019164  0.014513  0.006596   \n",
       "2016-10-06  NaN -0.002884  0.054531  0.007861  0.001709  0.005099  0.000375   \n",
       "2016-10-07  NaN -0.004700  0.017339  0.013325  0.014505 -0.001268 -0.010107   \n",
       "2016-10-10  NaN -0.027243  0.014630  0.003207  0.000000 -0.013264 -0.012857   \n",
       "\n",
       "                RF  \n",
       "Date                \n",
       "2016-10-04  0.0001  \n",
       "2016-10-05  0.0001  \n",
       "2016-10-06  0.0001  \n",
       "2016-10-07  0.0001  \n",
       "2016-10-10  0.0001  \n",
       "\n",
       "[5 rows x 31 columns]"
      ]
     },
     "execution_count": 8,
     "metadata": {},
     "output_type": "execute_result"
    }
   ],
   "source": [
    "# preview log_returns\n",
    "simple_returns.head()"
   ]
  },
  {
   "cell_type": "markdown",
   "metadata": {
    "id": "VhaObiuNiaFG"
   },
   "source": [
    "The stock SGH has a lot of NaN values. We take a closer look at it."
   ]
  },
  {
   "cell_type": "code",
   "execution_count": 9,
   "metadata": {
    "colab": {
     "base_uri": "https://localhost:8080/",
     "height": 206
    },
    "id": "SgrmceUmiUBn",
    "outputId": "62857ff6-40d2-4282-b889-c152c7c62b9d"
   },
   "outputs": [
    {
     "data": {
      "text/html": [
       "<div>\n",
       "<style scoped>\n",
       "    .dataframe tbody tr th:only-of-type {\n",
       "        vertical-align: middle;\n",
       "    }\n",
       "\n",
       "    .dataframe tbody tr th {\n",
       "        vertical-align: top;\n",
       "    }\n",
       "\n",
       "    .dataframe thead th {\n",
       "        text-align: right;\n",
       "    }\n",
       "</style>\n",
       "<table border=\"1\" class=\"dataframe\">\n",
       "  <thead>\n",
       "    <tr style=\"text-align: right;\">\n",
       "      <th></th>\n",
       "      <th>Date</th>\n",
       "      <th>Open</th>\n",
       "      <th>High</th>\n",
       "      <th>Low</th>\n",
       "      <th>Close</th>\n",
       "      <th>Adj Close</th>\n",
       "      <th>Volume</th>\n",
       "      <th>LogReturns</th>\n",
       "    </tr>\n",
       "  </thead>\n",
       "  <tbody>\n",
       "    <tr>\n",
       "      <th>0</th>\n",
       "      <td>2017-05-24</td>\n",
       "      <td>12.00</td>\n",
       "      <td>14.000</td>\n",
       "      <td>11.50</td>\n",
       "      <td>13.45</td>\n",
       "      <td>13.45</td>\n",
       "      <td>1415200</td>\n",
       "      <td>NaN</td>\n",
       "    </tr>\n",
       "    <tr>\n",
       "      <th>1</th>\n",
       "      <td>2017-05-25</td>\n",
       "      <td>13.85</td>\n",
       "      <td>14.320</td>\n",
       "      <td>13.35</td>\n",
       "      <td>13.50</td>\n",
       "      <td>13.50</td>\n",
       "      <td>237900</td>\n",
       "      <td>0.003711</td>\n",
       "    </tr>\n",
       "    <tr>\n",
       "      <th>2</th>\n",
       "      <td>2017-05-26</td>\n",
       "      <td>13.36</td>\n",
       "      <td>13.624</td>\n",
       "      <td>12.46</td>\n",
       "      <td>13.23</td>\n",
       "      <td>13.23</td>\n",
       "      <td>56200</td>\n",
       "      <td>-0.020203</td>\n",
       "    </tr>\n",
       "    <tr>\n",
       "      <th>3</th>\n",
       "      <td>2017-05-30</td>\n",
       "      <td>13.20</td>\n",
       "      <td>13.255</td>\n",
       "      <td>12.28</td>\n",
       "      <td>12.98</td>\n",
       "      <td>12.98</td>\n",
       "      <td>71200</td>\n",
       "      <td>-0.019077</td>\n",
       "    </tr>\n",
       "    <tr>\n",
       "      <th>4</th>\n",
       "      <td>2017-05-31</td>\n",
       "      <td>13.02</td>\n",
       "      <td>13.500</td>\n",
       "      <td>12.93</td>\n",
       "      <td>13.10</td>\n",
       "      <td>13.10</td>\n",
       "      <td>55700</td>\n",
       "      <td>0.009203</td>\n",
       "    </tr>\n",
       "  </tbody>\n",
       "</table>\n",
       "</div>"
      ],
      "text/plain": [
       "        Date   Open    High    Low  Close  Adj Close   Volume  LogReturns\n",
       "0 2017-05-24  12.00  14.000  11.50  13.45      13.45  1415200         NaN\n",
       "1 2017-05-25  13.85  14.320  13.35  13.50      13.50   237900    0.003711\n",
       "2 2017-05-26  13.36  13.624  12.46  13.23      13.23    56200   -0.020203\n",
       "3 2017-05-30  13.20  13.255  12.28  12.98      12.98    71200   -0.019077\n",
       "4 2017-05-31  13.02  13.500  12.93  13.10      13.10    55700    0.009203"
      ]
     },
     "execution_count": 9,
     "metadata": {},
     "output_type": "execute_result"
    }
   ],
   "source": [
    "# preview SGH\n",
    "stocks['SGH'].head()"
   ]
  },
  {
   "cell_type": "markdown",
   "metadata": {
    "id": "6XYAcSVNijtO"
   },
   "source": [
    "SGH only begins at a later date, explaining the NaNs we see in our earlier preview.\n",
    "\n",
    "## 2.1 Optimization"
   ]
  },
  {
   "cell_type": "code",
   "execution_count": 10,
   "metadata": {
    "id": "lAlF2Ks-dtmX"
   },
   "outputs": [],
   "source": [
    "# drop nans\n",
    "simple_returns = simple_returns.dropna()\n",
    "\n",
    "# get in-sample time window to perform optimization on (inclusive)\n",
    "is_start_date = '2020-1-1'\n",
    "is_end_date = '2020-12-31'\n",
    "\n",
    "# get out-of-sample time window for evaluation (inclusive)\n",
    "oos_start_date = '2021-1-1'\n",
    "oos_end_date = '2021-12-31'\n",
    "\n",
    "in_sample_window = simple_returns[(simple_returns.index>=is_start_date)&(simple_returns.index<=is_end_date)].copy()"
   ]
  },
  {
   "cell_type": "code",
   "execution_count": 11,
   "metadata": {
    "colab": {
     "base_uri": "https://localhost:8080/"
    },
    "id": "gTBp6UgRVOor",
    "outputId": "957631ed-de6a-4692-c1a1-89d0bd49973e"
   },
   "outputs": [
    {
     "name": "stdout",
     "output_type": "stream",
     "text": [
      "Collecting PyPortfolioOpt\n",
      "  Downloading PyPortfolioOpt-1.4.2-py3-none-any.whl (60 kB)\n",
      "Requirement already satisfied, skipping upgrade: numpy<2.0,>=1.12 in d:\\anaconda\\lib\\site-packages (from PyPortfolioOpt) (1.19.2)\n",
      "Requirement already satisfied, skipping upgrade: scipy<2.0,>=1.3 in d:\\anaconda\\lib\\site-packages (from PyPortfolioOpt) (1.5.2)\n",
      "Requirement already satisfied, skipping upgrade: pandas>=0.19 in d:\\anaconda\\lib\\site-packages (from PyPortfolioOpt) (1.1.3)\n",
      "Requirement already satisfied, skipping upgrade: cvxpy<2.0.0,>=1.1.10 in d:\\anaconda\\lib\\site-packages (from PyPortfolioOpt) (1.1.15)\n",
      "Requirement already satisfied, skipping upgrade: pytz>=2017.2 in d:\\anaconda\\lib\\site-packages (from pandas>=0.19->PyPortfolioOpt) (2020.1)\n",
      "Requirement already satisfied, skipping upgrade: python-dateutil>=2.7.3 in d:\\anaconda\\lib\\site-packages (from pandas>=0.19->PyPortfolioOpt) (2.8.1)\n",
      "Requirement already satisfied, skipping upgrade: scs>=1.1.6 in d:\\anaconda\\lib\\site-packages (from cvxpy<2.0.0,>=1.1.10->PyPortfolioOpt) (2.1.4)\n",
      "Requirement already satisfied, skipping upgrade: osqp>=0.4.1 in d:\\anaconda\\lib\\site-packages (from cvxpy<2.0.0,>=1.1.10->PyPortfolioOpt) (0.6.2.post0)\n",
      "Requirement already satisfied, skipping upgrade: ecos>=2 in d:\\anaconda\\lib\\site-packages (from cvxpy<2.0.0,>=1.1.10->PyPortfolioOpt) (2.0.7.post1)\n",
      "Requirement already satisfied, skipping upgrade: six>=1.5 in d:\\anaconda\\lib\\site-packages (from python-dateutil>=2.7.3->pandas>=0.19->PyPortfolioOpt) (1.15.0)\n",
      "Requirement already satisfied, skipping upgrade: qdldl in d:\\anaconda\\lib\\site-packages (from osqp>=0.4.1->cvxpy<2.0.0,>=1.1.10->PyPortfolioOpt) (0.1.5.post0)\n",
      "Installing collected packages: PyPortfolioOpt\n",
      "Successfully installed PyPortfolioOpt-1.4.2\n"
     ]
    }
   ],
   "source": [
    "!pip install PyPortfolioOpt --upgrade\n",
    "from pypfopt import EfficientFrontier\n",
    "from pypfopt import risk_models\n",
    "from pypfopt import expected_returns\n",
    "from pypfopt import objective_functions"
   ]
  },
  {
   "cell_type": "code",
   "execution_count": 12,
   "metadata": {
    "id": "whfHd1_3VXPv"
   },
   "outputs": [],
   "source": [
    "# Calculate expected returns and sample covariance using PyPortfolioOpt’s built-in methods\n",
    "mu = expected_returns.mean_historical_return(in_sample_window, returns_data=True)\n",
    "S = risk_models.sample_cov(in_sample_window, returns_data=True)\n",
    "\n",
    "#print('Expected Returns:')\n",
    "#print(mu)\n",
    "#print('\\n')\n",
    "#print('Covariance Matrix:')\n",
    "#print(S)"
   ]
  },
  {
   "cell_type": "markdown",
   "metadata": {
    "id": "Vk6Z8T2hU7Cr"
   },
   "source": [
    "# Attempt 1:\n",
    "* Simple sub-sectors, semiconductors and others\n",
    "* L2 regularization with gamma = 5"
   ]
  },
  {
   "cell_type": "markdown",
   "metadata": {
    "id": "0LbEx5UKilxZ"
   },
   "source": [
    "**From the pyportfolio webpage**\n",
    "\n",
    "*In order to coerce the mean-variance optimizer to produce more non-negligible weights, we add what can be thought of as a “small weights penalty” to all of the objective functions, parameterised by γ (gamma).*\n",
    "\n",
    "It is refered to as L2 regularisation despite having a different purpose from its usual use, to keep weights small. Here, is it used to keep weights bigger.\n",
    "\n",
    "Note: Check different gamma values and portfolio's overall performance.\n",
    "\n",
    "https://pyportfolioopt.readthedocs.io/en/latest/MeanVariance.html#pypfopt.objective_functions.L2_reg"
   ]
  },
  {
   "cell_type": "code",
   "execution_count": 13,
   "metadata": {
    "id": "Df4xjkZVQ5Yp"
   },
   "outputs": [],
   "source": [
    "# Set each stock to a sub-sector \n",
    "# Until someone has a better idea, use:\n",
    "semiconductors = ['ADI','AMAT','AMD','AVGO','CRUS',\n",
    "                  'DIOD','INTC','LRCX','MCHP','MRVL',\n",
    "                  'MTSI','MU','MXL','NVDA','NXPI',\n",
    "                  'OLED','ON','QCOM','SGH','SMTC',\n",
    "                  'SYNA','TSM','TXN','XLNX']\n",
    "others = ['AEIS','ENPH','FLEX','JBL','TTMI', \n",
    "               'IIVI','RF'] # AEIS and IIVI are also in the semiconductor subsector, but just putting them here first since they're in both areas. Every stock here except for IIVI are in the electrical/electronics scene. RF = risk-free"
   ]
  },
  {
   "cell_type": "markdown",
   "metadata": {
    "id": "DxWJzdCHef94"
   },
   "source": [
    "**Calculating risk aversion**\n",
    "\n",
    "$U=E(R)-k*std(R)^2$\n",
    "\n",
    "Assuming a portfolio consisting only of the market portfolio + risk-free assets, and expressing $E(R)$ and $std(R)$ in terms of their weights, $w$, we have:\n",
    "\n",
    "$U=0.1*w+0.01*(1-w) - k*(w*0.18)^2$\n",
    "\n",
    "where $w$ is the weight allocated to the market portfolio. Then,\n",
    "\n",
    "$dU/dw = -0.0648*w*k+0.099$\n",
    "\n",
    "If we choose w = 1, and then solving for $dU/dw = 0$, we get $k=1.528$"
   ]
  },
  {
   "cell_type": "code",
   "execution_count": 14,
   "metadata": {
    "colab": {
     "base_uri": "https://localhost:8080/"
    },
    "id": "DOSU2bFvXCMO",
    "outputId": "c47c65ff-ef54-40f4-b5f6-4beda94f6da0"
   },
   "outputs": [
    {
     "name": "stdout",
     "output_type": "stream",
     "text": [
      "k = 1.528\n",
      "Expected annual return: 181.7%\n",
      "Annual volatility: 43.7%\n",
      "Sharpe Ratio: 4.14\n"
     ]
    },
    {
     "data": {
      "text/plain": [
       "ADI     0.0092\n",
       "AEIS    0.0122\n",
       "AMAT    0.0310\n",
       "AMD     0.0898\n",
       "AVGO    0.0116\n",
       "CRUS    0.0268\n",
       "DIOD    0.0226\n",
       "ENPH    0.2500\n",
       "FLEX    0.0215\n",
       "IIVI    0.0232\n",
       "INTC    0.0000\n",
       "JBL     0.0064\n",
       "LRCX    0.0531\n",
       "MCHP    0.0075\n",
       "MRVL    0.0466\n",
       "MTSI    0.0587\n",
       "MU      0.0214\n",
       "MXL     0.0106\n",
       "NVDA    0.0648\n",
       "NXPI    0.0174\n",
       "OLED    0.0274\n",
       "ON      0.0000\n",
       "QCOM    0.0452\n",
       "SGH     0.0000\n",
       "SMTC    0.0000\n",
       "SYNA    0.0360\n",
       "TSM     0.0615\n",
       "TTMI    0.0000\n",
       "TXN     0.0162\n",
       "XLNX    0.0096\n",
       "RF      0.0198\n",
       "dtype: float64"
      ]
     },
     "execution_count": 14,
     "metadata": {},
     "output_type": "execute_result"
    }
   ],
   "source": [
    "ef = EfficientFrontier(mu, S)\n",
    "k = 1.528 \n",
    "print(f\"k = {k}\")\n",
    "\n",
    "ef.add_constraint(lambda x: x >= 0) # weights >= 0\n",
    "ef.add_constraint(lambda x: x <= 0.25) # weight <= 0.25\n",
    "\n",
    "sector_mapper = {} # initialise sector_mapper\n",
    "for stock in semiconductors:\n",
    "  sector_mapper[stock] = 'semiconductors'\n",
    "for stock in others:\n",
    "  sector_mapper[stock] = 'others'\n",
    "\n",
    "sector_lower = {'others': 0.3} # at least 30% to others\n",
    "\n",
    "ef.add_sector_constraints(sector_mapper=sector_mapper, sector_lower=sector_lower, sector_upper={}) # add sector constraint\n",
    "\n",
    "ef.add_objective(objective_functions.L2_reg, gamma=5) # L2 regularisation parameter, defaults to 1. This adds a small weights penalty, gamma, to the objective function. Increase for more non-negligible weights. \n",
    "\n",
    "optimal_weights_portfolio = ef.max_quadratic_utility(risk_aversion = 2*k) # optimize by the quadratic utility function mean - k/2 * variance (hence the 2*k in the parameters)\n",
    "ef.portfolio_performance(verbose=True, risk_free_rate=0.01) \n",
    "results = pd.Series(np.round(np.array(list(optimal_weights_portfolio.values())),4),index = in_sample_window.columns)\n",
    "results"
   ]
  },
  {
   "cell_type": "markdown",
   "metadata": {
    "id": "0LbEx5UKilxZ"
   },
   "source": [
    "# Attempt 2:\n",
    "- Sub-sectors by market cap\n",
    "- using L2 regularization with gamma = 5\n",
    "\n",
    "**From the pyportfolio webpage**\n",
    "\n",
    "*In order to coerce the mean-variance optimizer to produce more non-negligible weights, we add what can be thought of as a “small weights penalty” to all of the objective functions, parameterised by γ (gamma).*\n",
    "\n",
    "It is refered to as L2 regularisation despite having a different purpose from its usual use, to keep weights small. Here, is it used to keep weights bigger.\n",
    "\n",
    "Note: Check different gamma values and portfolio's overall performance.\n",
    "\n",
    "https://pyportfolioopt.readthedocs.io/en/latest/MeanVariance.html#pypfopt.objective_functions.L2_reg"
   ]
  },
  {
   "cell_type": "code",
   "execution_count": 26,
   "metadata": {
    "id": "Df4xjkZVQ5Yp"
   },
   "outputs": [],
   "source": [
    "# market cap by three categories, 100B+, 10B+, and 1B+\n",
    "cat_1 = [\"TSM\", \"NVDA\", \"INTC\", \"AVGO\", \"TXN\", \"QCOM\", \"AMD\", \"AMAT\"] # 100B+ market cap\n",
    "cat_2 = [\"ADI\", \"MU\", \"LRCX\", \"MRVL\", \"NXPI\", \"MCHP\", \"XLNX\", \"ENPH\", \"ON\"] # 10B+ market cap\n",
    "cat_3 = [\"JBL\", \"FLEX\", \"OLED\", \"SYNA\", \"IIVI\", \"SMTC\", \"CRUS\", \"MTSI\", \"DIOD\", \"MXL\", \"AEIS\", \"TTMI\", \"SGH\"] # 1B+ market cap"
   ]
  },
  {
   "cell_type": "markdown",
   "metadata": {
    "id": "DxWJzdCHef94"
   },
   "source": [
    "**Calculating risk aversion**\n",
    "\n",
    "$U=E(R)-k*std(R)^2$\n",
    "\n",
    "Assuming a portfolio consisting only of the market portfolio + risk-free assets, and expressing $E(R)$ and $std(R)$ in terms of their weights, $w$, we have:\n",
    "\n",
    "$U=0.1*w+0.01*(1-w) - k*(w*0.18)^2$\n",
    "\n",
    "where $w$ is the weight allocated to the market portfolio. Then,\n",
    "\n",
    "$dU/dw = -0.0648*w*k+0.099$\n",
    "\n",
    "If we choose w = 1, and then solving for $dU/dw = 0$, we get $k=1.528$"
   ]
  },
  {
   "cell_type": "code",
   "execution_count": 40,
   "metadata": {
    "colab": {
     "base_uri": "https://localhost:8080/"
    },
    "id": "DOSU2bFvXCMO",
    "outputId": "c47c65ff-ef54-40f4-b5f6-4beda94f6da0"
   },
   "outputs": [
    {
     "name": "stdout",
     "output_type": "stream",
     "text": [
      "k = 1.528\n",
      "Expected annual return: 181.6%\n",
      "Annual volatility: 43.9%\n",
      "Sharpe Ratio: 4.11\n",
      "ADI     0.0049\n",
      "AEIS    0.0176\n",
      "AMAT    0.0281\n",
      "AMD     0.0871\n",
      "AVGO    0.0086\n",
      "CRUS    0.0322\n",
      "DIOD    0.0280\n",
      "ENPH    0.2500\n",
      "FLEX    0.0267\n",
      "IIVI    0.0285\n",
      "INTC    0.0000\n",
      "JBL     0.0117\n",
      "LRCX    0.0487\n",
      "MCHP    0.0031\n",
      "MRVL    0.0423\n",
      "MTSI    0.0639\n",
      "MU      0.0171\n",
      "MXL     0.0158\n",
      "NVDA    0.0620\n",
      "NXPI    0.0129\n",
      "OLED    0.0328\n",
      "ON      0.0000\n",
      "QCOM    0.0423\n",
      "SGH     0.0000\n",
      "SMTC    0.0000\n",
      "SYNA    0.0414\n",
      "TSM     0.0586\n",
      "TTMI    0.0013\n",
      "TXN     0.0133\n",
      "XLNX    0.0054\n",
      "RF      0.0156\n",
      "dtype: float64\n",
      "\n",
      "\n",
      "CAT 1: 0.30000000000000004, CAT 2: 0.3844, CAT 3: 0.2999\n"
     ]
    }
   ],
   "source": [
    "ef = EfficientFrontier(mu, S)\n",
    "k = 1.528 \n",
    "print(f\"k = {k}\")\n",
    "\n",
    "ef.add_constraint(lambda x: x >= 0) # weights >= 0\n",
    "ef.add_constraint(lambda x: x <= 0.25) # weight <= 0.25\n",
    "\n",
    "sector_mapper = {} # initialise sector_mapper\n",
    "for stock in cat_1:\n",
    "  sector_mapper[stock] = 'cat_1'\n",
    "for stock in cat_2:\n",
    "  sector_mapper[stock] = 'cat_2'\n",
    "for stock in cat_3:\n",
    "  sector_mapper[stock] = 'cat_3'\n",
    "sector_mapper['RF'] = 'rf'\n",
    "\n",
    "sector_lower = {'cat_1': 0.3, 'cat_2': 0.3, 'cat_3': 0.3} # at least 30% to each category\n",
    "sector_upper = {'cat_1': 0.4, 'cat_2': 0.4, 'cat_3': 0.4} # not more than 40% to each category\n",
    "\n",
    "ef.add_sector_constraints(sector_mapper=sector_mapper, sector_lower=sector_lower, sector_upper=sector_upper) # add sector constraint\n",
    "\n",
    "ef.add_objective(objective_functions.L2_reg, gamma=5) # L2 regularisation parameter, defaults to 1. This adds a small weights penalty, gamma, to the objective function. Increase for more non-negligible weights. \n",
    "\n",
    "optimal_weights_portfolio = ef.max_quadratic_utility(risk_aversion = 2*k) # optimize by the quadratic utility function mean - k/2 * variance (hence the 2*k in the parameters)\n",
    "ef.portfolio_performance(verbose=True, risk_free_rate=0.01) \n",
    "results = pd.Series(np.round(np.array(list(optimal_weights_portfolio.values())),4),index = in_sample_window.columns)\n",
    "print(results)\n",
    "print('\\n')\n",
    "print(f'CAT 1: {results.loc[cat_1].sum()}, CAT 2: {results.loc[cat_2].sum()}, CAT 3: {results.loc[cat_3].sum()}')\n"
   ]
  },
  {
   "cell_type": "code",
   "execution_count": null,
   "metadata": {},
   "outputs": [],
   "source": []
  },
  {
   "cell_type": "code",
   "execution_count": null,
   "metadata": {},
   "outputs": [],
   "source": []
  },
  {
   "cell_type": "code",
   "execution_count": null,
   "metadata": {},
   "outputs": [],
   "source": []
  },
  {
   "cell_type": "code",
   "execution_count": null,
   "metadata": {},
   "outputs": [],
   "source": []
  },
  {
   "cell_type": "code",
   "execution_count": null,
   "metadata": {},
   "outputs": [],
   "source": []
  },
  {
   "cell_type": "code",
   "execution_count": null,
   "metadata": {},
   "outputs": [],
   "source": []
  },
  {
   "cell_type": "code",
   "execution_count": null,
   "metadata": {},
   "outputs": [],
   "source": []
  },
  {
   "cell_type": "code",
   "execution_count": null,
   "metadata": {},
   "outputs": [],
   "source": []
  },
  {
   "cell_type": "markdown",
   "metadata": {
    "id": "oVg-G4Qz977G"
   },
   "source": [
    "## Using CVX package (Just to check, drop this portion from the final submission)\n",
    "\n",
    "Note: Not sure why the gamma here needs to be much smaller despite using the same function as above."
   ]
  },
  {
   "cell_type": "code",
   "execution_count": 15,
   "metadata": {
    "id": "KA4Vky7X-__f"
   },
   "outputs": [],
   "source": [
    "#returns_df = in_sample_window[semiconductors + others] # re-arrange dataframe with semiconductors in front and others behind for easy weight assignment \n"
   ]
  },
  {
   "cell_type": "code",
   "execution_count": 16,
   "metadata": {
    "id": "rwaQ5Du4iEOE"
   },
   "outputs": [],
   "source": [
    "# function stolen from tutorial 2\n",
    "# modified to use the portfolio_return - k * portfolio_variance utility function\n",
    "# TO-DO - OPTIMIZE BY SUB-SECTOR\n",
    "# TO-DO - FIGURE OUT HOW TO ADD L2 REGULARIZATION WITHOUT RELYING ON PYPFOPT\n",
    "\n",
    "def get_optimized_portfolio(returns_df, k):\n",
    "    \"\"\"\n",
    "    Function that takes in the returns series of assets, minimizes the utility function, \n",
    "    and returns the portfolio weights\n",
    "    \n",
    "    Parameters\n",
    "    ----------\n",
    "    returns_df : pd.dataframe\n",
    "        Dataframe containing log asset return series in each column\n",
    "    \n",
    "    k : float\n",
    "        Risk-aversion\n",
    "        \n",
    "    Returns\n",
    "    -------\n",
    "    x : np.ndarray\n",
    "        A numpy ndarray containing the weights of the assets in the optimized portfolio\n",
    "    \"\"\"\n",
    "    \n",
    "    returns = returns_df.T.to_numpy() # convert returns dataframe to numpy array \n",
    "    m = returns.shape[0] # m is the number of assets\n",
    "  \n",
    "    cov = np.cov(returns) # covariance matrix of returns\n",
    "    \n",
    "    x = cvx.Variable(len(semiconductors)) # creating variable of weights specific to semiconductors\n",
    "    y = cvx.Variable(len(others)) # creating variable of weights specific to others\n",
    "    w = cvx.hstack([x,y]) # stack the weights together so we can reference them as a whole\n",
    "    \n",
    "    portfolio_variance = cvx.quad_form(w, cov) # portfolio variance, in quadratic form, scaled by overall portfolio weight\n",
    "   \n",
    "    log_returns_df = np.log(returns_df+1)\n",
    "  \n",
    "    total_return_log = log_returns_df.sum().to_numpy() #this is in log space, change to simple return\n",
    "\n",
    "    total_simple_return = np.exp(total_return_log) -1\n",
    "    \n",
    "    horizon_length = returns.shape[1]\n",
    "    expected_mean = (1 + total_simple_return) ** (1 / horizon_length) - 1\n",
    "   \n",
    "    portfolio_return = sum(cvx.multiply(expected_mean, w)) # element wise multiplication, followed up by sum of weights\n",
    "    \n",
    "    # Objective Function                                                    \n",
    "    # We want to minimize variance and maximize returns.                    \n",
    "    #objective = cvx.Maximize(portfolio_return - k * portfolio_variance)  \n",
    "    objectives = objective_functions.quadratic_utility(w, expected_mean, cov, 2*k) # multiply by 2 because pypfopt uses k/2\n",
    "    objectives += objective_functions.L2_reg(w, gamma=0.01)\n",
    "    objectives = cvx.Minimize(objectives)\n",
    "\n",
    "\n",
    "    # Constraints\n",
    "    # long only, sum of weights equal to 1, no allocation to a single stock great than 25% of portfolio, at least 30% to non-semiconductor stocks\n",
    "    constraints = [w >= 0, sum(w) == 1, w <= 0.25, sum(y) >= 0.3]\n",
    "\n",
    "    # use cvxpy to solve the objective\n",
    "    problem = cvx.Problem(objectives, constraints)\n",
    "    # retrieve the weights of the optimized portfolio\n",
    "    result = problem.solve(solver=\"CVXOPT\")\n",
    "\n",
    "    print(f\"Portfolio Returns: {np.round((portfolio_return.value+1)**252-1,3)*100}%, Portfolio Volatility: {np.round((252**0.5)*(portfolio_variance.value**0.5),3)*100}%\") # print annualized results\n",
    "    \n",
    "    return w.value"
   ]
  },
  {
   "cell_type": "code",
   "execution_count": 17,
   "metadata": {
    "id": "mIKgWlrADn0G"
   },
   "outputs": [],
   "source": [
    "#k = 1.528\n",
    "#print(f\"k = {k}\")\n",
    "#w = get_optimized_portfolio(returns_df, k=k)\n",
    "#results = pd.Series(np.round(w,2), index = returns_df.columns) \n",
    "#results"
   ]
  },
  {
   "cell_type": "markdown",
   "metadata": {
    "id": "l7DJ7ZiijhuI"
   },
   "source": [
    "## 2.2 Evaluation\n",
    "\n",
    "Even if we don't need to compare old vs new portfolio, we still need this data for VaR calculations"
   ]
  },
  {
   "cell_type": "code",
   "execution_count": 18,
   "metadata": {
    "colab": {
     "base_uri": "https://localhost:8080/"
    },
    "id": "EghhxwEWjYHQ",
    "outputId": "1e74af80-b4aa-4be9-f0eb-f725e1fc11ca"
   },
   "outputs": [
    {
     "name": "stdout",
     "output_type": "stream",
     "text": [
      "Expected annual return: 181.7%\n",
      "Annual volatility: 43.7%\n",
      "Sharpe Ratio: 4.14\n"
     ]
    },
    {
     "data": {
      "text/plain": [
       "ADI     0.0092\n",
       "AEIS    0.0122\n",
       "AMAT    0.0310\n",
       "AMD     0.0898\n",
       "AVGO    0.0116\n",
       "CRUS    0.0268\n",
       "DIOD    0.0226\n",
       "ENPH    0.2500\n",
       "FLEX    0.0215\n",
       "IIVI    0.0232\n",
       "INTC    0.0000\n",
       "JBL     0.0064\n",
       "LRCX    0.0531\n",
       "MCHP    0.0075\n",
       "MRVL    0.0466\n",
       "MTSI    0.0587\n",
       "MU      0.0214\n",
       "MXL     0.0106\n",
       "NVDA    0.0648\n",
       "NXPI    0.0174\n",
       "OLED    0.0274\n",
       "ON      0.0000\n",
       "QCOM    0.0452\n",
       "SGH     0.0000\n",
       "SMTC    0.0000\n",
       "SYNA    0.0360\n",
       "TSM     0.0615\n",
       "TTMI    0.0000\n",
       "TXN     0.0162\n",
       "XLNX    0.0096\n",
       "RF      0.0198\n",
       "dtype: float64"
      ]
     },
     "execution_count": 18,
     "metadata": {},
     "output_type": "execute_result"
    }
   ],
   "source": [
    "ef.portfolio_performance(verbose=True, risk_free_rate=0.01) \n",
    "results"
   ]
  },
  {
   "cell_type": "code",
   "execution_count": 19,
   "metadata": {
    "colab": {
     "base_uri": "https://localhost:8080/",
     "height": 1000
    },
    "id": "wHk0JgMMmBs6",
    "outputId": "6a2bcf28-a8d7-4ca1-cba6-a66f920bce45"
   },
   "outputs": [
    {
     "ename": "FileNotFoundError",
     "evalue": "[Errno 2] No such file or directory: '/content/bt4016-project/original_weights_best.csv'",
     "output_type": "error",
     "traceback": [
      "\u001b[1;31m---------------------------------------------------------------------------\u001b[0m",
      "\u001b[1;31mFileNotFoundError\u001b[0m                         Traceback (most recent call last)",
      "\u001b[1;32m<ipython-input-19-e97a878f145f>\u001b[0m in \u001b[0;36m<module>\u001b[1;34m\u001b[0m\n\u001b[1;32m----> 1\u001b[1;33m \u001b[0moriginal_portfolio\u001b[0m \u001b[1;33m=\u001b[0m \u001b[0mpd\u001b[0m\u001b[1;33m.\u001b[0m\u001b[0mread_csv\u001b[0m\u001b[1;33m(\u001b[0m\u001b[1;34m'/content/bt4016-project/original_weights_best.csv'\u001b[0m\u001b[1;33m)\u001b[0m\u001b[1;33m\u001b[0m\u001b[1;33m\u001b[0m\u001b[0m\n\u001b[0m\u001b[0;32m      2\u001b[0m \u001b[1;31m#original_portfolio['Security\\'s Percentage of the Total Net Assets'] = np.round(original_portfolio['Security\\'s Percentage of the Total Net Assets'],3)/100\u001b[0m\u001b[1;33m\u001b[0m\u001b[1;33m\u001b[0m\u001b[1;33m\u001b[0m\u001b[0m\n\u001b[0;32m      3\u001b[0m \u001b[0moriginal_portfolio\u001b[0m\u001b[1;33m.\u001b[0m\u001b[0mindex\u001b[0m \u001b[1;33m=\u001b[0m \u001b[0moriginal_portfolio\u001b[0m\u001b[1;33m[\u001b[0m\u001b[1;34m'Ticker Symbol Given by the Exchange'\u001b[0m\u001b[1;33m]\u001b[0m\u001b[1;33m\u001b[0m\u001b[1;33m\u001b[0m\u001b[0m\n\u001b[0;32m      4\u001b[0m \u001b[1;32mdel\u001b[0m \u001b[0moriginal_portfolio\u001b[0m\u001b[1;33m[\u001b[0m\u001b[1;34m'Ticker Symbol Given by the Exchange'\u001b[0m\u001b[1;33m]\u001b[0m\u001b[1;33m\u001b[0m\u001b[1;33m\u001b[0m\u001b[0m\n\u001b[0;32m      5\u001b[0m \u001b[0moriginal_portfolio\u001b[0m\u001b[1;33m\u001b[0m\u001b[1;33m\u001b[0m\u001b[0m\n",
      "\u001b[1;32mD:\\Anaconda\\lib\\site-packages\\pandas\\io\\parsers.py\u001b[0m in \u001b[0;36mread_csv\u001b[1;34m(filepath_or_buffer, sep, delimiter, header, names, index_col, usecols, squeeze, prefix, mangle_dupe_cols, dtype, engine, converters, true_values, false_values, skipinitialspace, skiprows, skipfooter, nrows, na_values, keep_default_na, na_filter, verbose, skip_blank_lines, parse_dates, infer_datetime_format, keep_date_col, date_parser, dayfirst, cache_dates, iterator, chunksize, compression, thousands, decimal, lineterminator, quotechar, quoting, doublequote, escapechar, comment, encoding, dialect, error_bad_lines, warn_bad_lines, delim_whitespace, low_memory, memory_map, float_precision)\u001b[0m\n\u001b[0;32m    684\u001b[0m     )\n\u001b[0;32m    685\u001b[0m \u001b[1;33m\u001b[0m\u001b[0m\n\u001b[1;32m--> 686\u001b[1;33m     \u001b[1;32mreturn\u001b[0m \u001b[0m_read\u001b[0m\u001b[1;33m(\u001b[0m\u001b[0mfilepath_or_buffer\u001b[0m\u001b[1;33m,\u001b[0m \u001b[0mkwds\u001b[0m\u001b[1;33m)\u001b[0m\u001b[1;33m\u001b[0m\u001b[1;33m\u001b[0m\u001b[0m\n\u001b[0m\u001b[0;32m    687\u001b[0m \u001b[1;33m\u001b[0m\u001b[0m\n\u001b[0;32m    688\u001b[0m \u001b[1;33m\u001b[0m\u001b[0m\n",
      "\u001b[1;32mD:\\Anaconda\\lib\\site-packages\\pandas\\io\\parsers.py\u001b[0m in \u001b[0;36m_read\u001b[1;34m(filepath_or_buffer, kwds)\u001b[0m\n\u001b[0;32m    450\u001b[0m \u001b[1;33m\u001b[0m\u001b[0m\n\u001b[0;32m    451\u001b[0m     \u001b[1;31m# Create the parser.\u001b[0m\u001b[1;33m\u001b[0m\u001b[1;33m\u001b[0m\u001b[1;33m\u001b[0m\u001b[0m\n\u001b[1;32m--> 452\u001b[1;33m     \u001b[0mparser\u001b[0m \u001b[1;33m=\u001b[0m \u001b[0mTextFileReader\u001b[0m\u001b[1;33m(\u001b[0m\u001b[0mfp_or_buf\u001b[0m\u001b[1;33m,\u001b[0m \u001b[1;33m**\u001b[0m\u001b[0mkwds\u001b[0m\u001b[1;33m)\u001b[0m\u001b[1;33m\u001b[0m\u001b[1;33m\u001b[0m\u001b[0m\n\u001b[0m\u001b[0;32m    453\u001b[0m \u001b[1;33m\u001b[0m\u001b[0m\n\u001b[0;32m    454\u001b[0m     \u001b[1;32mif\u001b[0m \u001b[0mchunksize\u001b[0m \u001b[1;32mor\u001b[0m \u001b[0miterator\u001b[0m\u001b[1;33m:\u001b[0m\u001b[1;33m\u001b[0m\u001b[1;33m\u001b[0m\u001b[0m\n",
      "\u001b[1;32mD:\\Anaconda\\lib\\site-packages\\pandas\\io\\parsers.py\u001b[0m in \u001b[0;36m__init__\u001b[1;34m(self, f, engine, **kwds)\u001b[0m\n\u001b[0;32m    944\u001b[0m             \u001b[0mself\u001b[0m\u001b[1;33m.\u001b[0m\u001b[0moptions\u001b[0m\u001b[1;33m[\u001b[0m\u001b[1;34m\"has_index_names\"\u001b[0m\u001b[1;33m]\u001b[0m \u001b[1;33m=\u001b[0m \u001b[0mkwds\u001b[0m\u001b[1;33m[\u001b[0m\u001b[1;34m\"has_index_names\"\u001b[0m\u001b[1;33m]\u001b[0m\u001b[1;33m\u001b[0m\u001b[1;33m\u001b[0m\u001b[0m\n\u001b[0;32m    945\u001b[0m \u001b[1;33m\u001b[0m\u001b[0m\n\u001b[1;32m--> 946\u001b[1;33m         \u001b[0mself\u001b[0m\u001b[1;33m.\u001b[0m\u001b[0m_make_engine\u001b[0m\u001b[1;33m(\u001b[0m\u001b[0mself\u001b[0m\u001b[1;33m.\u001b[0m\u001b[0mengine\u001b[0m\u001b[1;33m)\u001b[0m\u001b[1;33m\u001b[0m\u001b[1;33m\u001b[0m\u001b[0m\n\u001b[0m\u001b[0;32m    947\u001b[0m \u001b[1;33m\u001b[0m\u001b[0m\n\u001b[0;32m    948\u001b[0m     \u001b[1;32mdef\u001b[0m \u001b[0mclose\u001b[0m\u001b[1;33m(\u001b[0m\u001b[0mself\u001b[0m\u001b[1;33m)\u001b[0m\u001b[1;33m:\u001b[0m\u001b[1;33m\u001b[0m\u001b[1;33m\u001b[0m\u001b[0m\n",
      "\u001b[1;32mD:\\Anaconda\\lib\\site-packages\\pandas\\io\\parsers.py\u001b[0m in \u001b[0;36m_make_engine\u001b[1;34m(self, engine)\u001b[0m\n\u001b[0;32m   1176\u001b[0m     \u001b[1;32mdef\u001b[0m \u001b[0m_make_engine\u001b[0m\u001b[1;33m(\u001b[0m\u001b[0mself\u001b[0m\u001b[1;33m,\u001b[0m \u001b[0mengine\u001b[0m\u001b[1;33m=\u001b[0m\u001b[1;34m\"c\"\u001b[0m\u001b[1;33m)\u001b[0m\u001b[1;33m:\u001b[0m\u001b[1;33m\u001b[0m\u001b[1;33m\u001b[0m\u001b[0m\n\u001b[0;32m   1177\u001b[0m         \u001b[1;32mif\u001b[0m \u001b[0mengine\u001b[0m \u001b[1;33m==\u001b[0m \u001b[1;34m\"c\"\u001b[0m\u001b[1;33m:\u001b[0m\u001b[1;33m\u001b[0m\u001b[1;33m\u001b[0m\u001b[0m\n\u001b[1;32m-> 1178\u001b[1;33m             \u001b[0mself\u001b[0m\u001b[1;33m.\u001b[0m\u001b[0m_engine\u001b[0m \u001b[1;33m=\u001b[0m \u001b[0mCParserWrapper\u001b[0m\u001b[1;33m(\u001b[0m\u001b[0mself\u001b[0m\u001b[1;33m.\u001b[0m\u001b[0mf\u001b[0m\u001b[1;33m,\u001b[0m \u001b[1;33m**\u001b[0m\u001b[0mself\u001b[0m\u001b[1;33m.\u001b[0m\u001b[0moptions\u001b[0m\u001b[1;33m)\u001b[0m\u001b[1;33m\u001b[0m\u001b[1;33m\u001b[0m\u001b[0m\n\u001b[0m\u001b[0;32m   1179\u001b[0m         \u001b[1;32melse\u001b[0m\u001b[1;33m:\u001b[0m\u001b[1;33m\u001b[0m\u001b[1;33m\u001b[0m\u001b[0m\n\u001b[0;32m   1180\u001b[0m             \u001b[1;32mif\u001b[0m \u001b[0mengine\u001b[0m \u001b[1;33m==\u001b[0m \u001b[1;34m\"python\"\u001b[0m\u001b[1;33m:\u001b[0m\u001b[1;33m\u001b[0m\u001b[1;33m\u001b[0m\u001b[0m\n",
      "\u001b[1;32mD:\\Anaconda\\lib\\site-packages\\pandas\\io\\parsers.py\u001b[0m in \u001b[0;36m__init__\u001b[1;34m(self, src, **kwds)\u001b[0m\n\u001b[0;32m   2006\u001b[0m         \u001b[0mkwds\u001b[0m\u001b[1;33m[\u001b[0m\u001b[1;34m\"usecols\"\u001b[0m\u001b[1;33m]\u001b[0m \u001b[1;33m=\u001b[0m \u001b[0mself\u001b[0m\u001b[1;33m.\u001b[0m\u001b[0musecols\u001b[0m\u001b[1;33m\u001b[0m\u001b[1;33m\u001b[0m\u001b[0m\n\u001b[0;32m   2007\u001b[0m \u001b[1;33m\u001b[0m\u001b[0m\n\u001b[1;32m-> 2008\u001b[1;33m         \u001b[0mself\u001b[0m\u001b[1;33m.\u001b[0m\u001b[0m_reader\u001b[0m \u001b[1;33m=\u001b[0m \u001b[0mparsers\u001b[0m\u001b[1;33m.\u001b[0m\u001b[0mTextReader\u001b[0m\u001b[1;33m(\u001b[0m\u001b[0msrc\u001b[0m\u001b[1;33m,\u001b[0m \u001b[1;33m**\u001b[0m\u001b[0mkwds\u001b[0m\u001b[1;33m)\u001b[0m\u001b[1;33m\u001b[0m\u001b[1;33m\u001b[0m\u001b[0m\n\u001b[0m\u001b[0;32m   2009\u001b[0m         \u001b[0mself\u001b[0m\u001b[1;33m.\u001b[0m\u001b[0munnamed_cols\u001b[0m \u001b[1;33m=\u001b[0m \u001b[0mself\u001b[0m\u001b[1;33m.\u001b[0m\u001b[0m_reader\u001b[0m\u001b[1;33m.\u001b[0m\u001b[0munnamed_cols\u001b[0m\u001b[1;33m\u001b[0m\u001b[1;33m\u001b[0m\u001b[0m\n\u001b[0;32m   2010\u001b[0m \u001b[1;33m\u001b[0m\u001b[0m\n",
      "\u001b[1;32mpandas\\_libs\\parsers.pyx\u001b[0m in \u001b[0;36mpandas._libs.parsers.TextReader.__cinit__\u001b[1;34m()\u001b[0m\n",
      "\u001b[1;32mpandas\\_libs\\parsers.pyx\u001b[0m in \u001b[0;36mpandas._libs.parsers.TextReader._setup_parser_source\u001b[1;34m()\u001b[0m\n",
      "\u001b[1;31mFileNotFoundError\u001b[0m: [Errno 2] No such file or directory: '/content/bt4016-project/original_weights_best.csv'"
     ]
    }
   ],
   "source": [
    "original_portfolio = pd.read_csv('original_weights_best.csv')\n",
    "#original_portfolio['Security\\'s Percentage of the Total Net Assets'] = np.round(original_portfolio['Security\\'s Percentage of the Total Net Assets'],3)/100\n",
    "original_portfolio.index = original_portfolio['Ticker Symbol Given by the Exchange']\n",
    "del original_portfolio['Ticker Symbol Given by the Exchange']\n",
    "original_portfolio"
   ]
  },
  {
   "cell_type": "code",
   "execution_count": null,
   "metadata": {
    "colab": {
     "base_uri": "https://localhost:8080/"
    },
    "id": "80GgYNWvunBZ",
    "outputId": "60a51b0b-9e79-42e7-8abc-9bf6526d6132"
   },
   "outputs": [],
   "source": [
    "original_portfolio['Security\\'s Percentage of the Total Net Assets'].sum() # missing 0.25% from somewhere"
   ]
  }
 ],
 "metadata": {
  "colab": {
   "collapsed_sections": [],
   "name": "midterm_code.ipynb",
   "provenance": []
  },
  "kernelspec": {
   "display_name": "Python 3",
   "language": "python",
   "name": "python3"
  },
  "language_info": {
   "codemirror_mode": {
    "name": "ipython",
    "version": 3
   },
   "file_extension": ".py",
   "mimetype": "text/x-python",
   "name": "python",
   "nbconvert_exporter": "python",
   "pygments_lexer": "ipython3",
   "version": "3.8.5"
  }
 },
 "nbformat": 4,
 "nbformat_minor": 4
}
