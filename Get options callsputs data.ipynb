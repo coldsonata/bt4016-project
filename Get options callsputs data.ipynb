{
 "cells": [
  {
   "cell_type": "code",
   "execution_count": 1,
   "id": "ca857ab7",
   "metadata": {},
   "outputs": [],
   "source": [
    "import numpy as np\n",
    "from pandas_datareader.data import DataReader\n",
    "import requests_cache\n",
    "import numpy as np\n",
    "import scipy.stats as si\n",
    "import sympy as sy\n",
    "import pandas as pd"
   ]
  },
  {
   "cell_type": "code",
   "execution_count": 2,
   "id": "b4d2d140",
   "metadata": {},
   "outputs": [],
   "source": [
    "from yahoo_fin import options"
   ]
  },
  {
   "cell_type": "code",
   "execution_count": 3,
   "id": "ce321ff6",
   "metadata": {},
   "outputs": [],
   "source": [
    "tickers_list = ['ADI','AMAT','AMD','AVGO','CRUS',\n",
    "                  'DIOD','INTC','LRCX','MCHP','MRVL',\n",
    "                  'MTSI','MU','MXL','NVDA','NXPI',\n",
    "                  'OLED','ON','QCOM','SGH','SMTC',\n",
    "                  'SYNA','TSM','TXN','XLNX', 'AEIS',\n",
    "                'ENPH','FLEX','JBL','TTMI', 'IIVI']"
   ]
  },
  {
   "cell_type": "code",
   "execution_count": 4,
   "id": "b3ef618f",
   "metadata": {},
   "outputs": [
    {
     "name": "stdout",
     "output_type": "stream",
     "text": [
      "CRUS 11-05-error\n",
      "CRUS 11-12-error\n",
      "DIOD 11-05-error\n",
      "DIOD 11-12-error\n",
      "MTSI 11-05-error\n",
      "MTSI 11-12-error\n",
      "MXL 11-05-error\n",
      "MXL 11-12-error\n",
      "SGH 11-05-error\n",
      "SGH 11-12-error\n",
      "SMTC 11-05-error\n",
      "SMTC 11-12-error\n",
      "SYNA 11-05-error\n",
      "SYNA 11-12-error\n",
      "AEIS 11-05-error\n",
      "AEIS 11-12-error\n",
      "JBL 11-05-error\n",
      "JBL 11-12-error\n",
      "TTMI 11-05-error\n",
      "TTMI 11-12-error\n",
      "IIVI 11-05-error\n",
      "IIVI 11-12-error\n"
     ]
    }
   ],
   "source": [
    "\n",
    "call_df_1105 = pd.DataFrame(columns = ['Contract Name', 'Last Trade Date', 'Strike', \n",
    "                                  'Last Price', 'Bid', 'Ask', 'Change', \n",
    "                                  '% Change', 'Volume', 'Open Interest', 'Implied Volatility'])\n",
    "put_df_1105 = pd.DataFrame(columns = ['Contract Name', 'Last Trade Date', 'Strike', \n",
    "                                  'Last Price', 'Bid', 'Ask', 'Change', \n",
    "                                  '% Change', 'Volume', 'Open Interest', 'Implied Volatility'])\n",
    "call_df_1112 = pd.DataFrame(columns = ['Contract Name', 'Last Trade Date', 'Strike', \n",
    "                                  'Last Price', 'Bid', 'Ask', 'Change', \n",
    "                                  '% Change', 'Volume', 'Open Interest', 'Implied Volatility'])\n",
    "put_df_1112 = pd.DataFrame(columns = ['Contract Name', 'Last Trade Date', 'Strike', \n",
    "                                  'Last Price', 'Bid', 'Ask', 'Change', \n",
    "                                  '% Change', 'Volume', 'Open Interest', 'Implied Volatility'])\n",
    "for ticker in tickers_list:\n",
    "    try:\n",
    "        call = options.get_calls(ticker, \"11/05/21\")\n",
    "        call['Ticker'] = ticker\n",
    "        put = options.get_puts(ticker, \"11/05/21\")\n",
    "        put['Ticker'] = ticker\n",
    "        call_df_1105 = pd.concat([call_df_1105, call])\n",
    "        put_df_1105 = pd.concat([put_df_1105, put])\n",
    "    except:\n",
    "        print(ticker, '11-05-error')\n",
    "    try:\n",
    "        call = options.get_calls(ticker, \"11/12/21\")\n",
    "        call['Ticker'] = ticker\n",
    "        put = options.get_puts(ticker, \"11/12/21\")\n",
    "        put['Ticker'] = ticker\n",
    "        call_df_1112 = pd.concat([call_df_1112, call])\n",
    "        put_df_1112 = pd.concat([put_df_1112, put])\n",
    "    except:\n",
    "        print(ticker, '11-12-error')\n",
    "        \n",
    "    #calls_data[ticker] = call\n",
    "    #puts_data[ticker] = put\n",
    "call_df_1105 = call_df_1105.reset_index(drop=True)\n",
    "put_df_1105 = put_df_1105.reset_index(drop=True)\n",
    "call_df_1112 = call_df_1112.reset_index(drop=True)\n",
    "put_df_1112 = put_df_1112.reset_index(drop=True)"
   ]
  },
  {
   "cell_type": "code",
   "execution_count": 5,
   "id": "ff1b4fac",
   "metadata": {},
   "outputs": [],
   "source": [
    "call_df_1105.to_csv('Call-20211105.csv')\n",
    "put_df_1105.to_csv('Put-20211105.csv')\n",
    "call_df_1112.to_csv('Call-20211112.csv')\n",
    "put_df_1112.to_csv('Put-20211112.csv')"
   ]
  },
  {
   "cell_type": "code",
   "execution_count": null,
   "id": "a006881d",
   "metadata": {},
   "outputs": [],
   "source": []
  }
 ],
 "metadata": {
  "kernelspec": {
   "display_name": "Python 3",
   "language": "python",
   "name": "python3"
  },
  "language_info": {
   "codemirror_mode": {
    "name": "ipython",
    "version": 3
   },
   "file_extension": ".py",
   "mimetype": "text/x-python",
   "name": "python",
   "nbconvert_exporter": "python",
   "pygments_lexer": "ipython3",
   "version": "3.7.4"
  }
 },
 "nbformat": 4,
 "nbformat_minor": 5
}
